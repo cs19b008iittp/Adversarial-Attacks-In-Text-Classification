{
  "nbformat": 4,
  "nbformat_minor": 0,
  "metadata": {
    "colab": {
      "provenance": []
    },
    "kernelspec": {
      "name": "python3",
      "display_name": "Python 3"
    },
    "language_info": {
      "name": "python"
    },
    "accelerator": "GPU",
    "gpuClass": "standard"
  },
  "cells": [
    {
      "cell_type": "code",
      "execution_count": null,
      "metadata": {
        "colab": {
          "base_uri": "https://localhost:8080/"
        },
        "id": "RABN5tORWqIT",
        "outputId": "ec769c3d-dd4b-4d65-898e-b120bcbf7de2"
      },
      "outputs": [
        {
          "output_type": "stream",
          "name": "stdout",
          "text": [
            "Looking in indexes: https://pypi.org/simple, https://us-python.pkg.dev/colab-wheels/public/simple/\n",
            "Requirement already satisfied: transformers in /usr/local/lib/python3.9/dist-packages (4.28.1)\n",
            "Requirement already satisfied: pyyaml>=5.1 in /usr/local/lib/python3.9/dist-packages (from transformers) (6.0)\n",
            "Requirement already satisfied: filelock in /usr/local/lib/python3.9/dist-packages (from transformers) (3.11.0)\n",
            "Requirement already satisfied: tqdm>=4.27 in /usr/local/lib/python3.9/dist-packages (from transformers) (4.65.0)\n",
            "Requirement already satisfied: tokenizers!=0.11.3,<0.14,>=0.11.1 in /usr/local/lib/python3.9/dist-packages (from transformers) (0.13.3)\n",
            "Requirement already satisfied: huggingface-hub<1.0,>=0.11.0 in /usr/local/lib/python3.9/dist-packages (from transformers) (0.13.4)\n",
            "Requirement already satisfied: numpy>=1.17 in /usr/local/lib/python3.9/dist-packages (from transformers) (1.22.4)\n",
            "Requirement already satisfied: requests in /usr/local/lib/python3.9/dist-packages (from transformers) (2.27.1)\n",
            "Requirement already satisfied: regex!=2019.12.17 in /usr/local/lib/python3.9/dist-packages (from transformers) (2022.10.31)\n",
            "Requirement already satisfied: packaging>=20.0 in /usr/local/lib/python3.9/dist-packages (from transformers) (23.1)\n",
            "Requirement already satisfied: typing-extensions>=3.7.4.3 in /usr/local/lib/python3.9/dist-packages (from huggingface-hub<1.0,>=0.11.0->transformers) (4.5.0)\n",
            "Requirement already satisfied: idna<4,>=2.5 in /usr/local/lib/python3.9/dist-packages (from requests->transformers) (3.4)\n",
            "Requirement already satisfied: charset-normalizer~=2.0.0 in /usr/local/lib/python3.9/dist-packages (from requests->transformers) (2.0.12)\n",
            "Requirement already satisfied: certifi>=2017.4.17 in /usr/local/lib/python3.9/dist-packages (from requests->transformers) (2022.12.7)\n",
            "Requirement already satisfied: urllib3<1.27,>=1.21.1 in /usr/local/lib/python3.9/dist-packages (from requests->transformers) (1.26.15)\n"
          ]
        }
      ],
      "source": [
        "!pip install transformers"
      ]
    },
    {
      "cell_type": "code",
      "source": [
        "import pandas as pd\n",
        "import numpy as np\n",
        "import tensorflow as tf\n",
        "from transformers import BertTokenizer, TFBertForSequenceClassification\n",
        "from sklearn.model_selection import train_test_split\n"
      ],
      "metadata": {
        "id": "gpqSDNOdaETy"
      },
      "execution_count": null,
      "outputs": []
    },
    {
      "cell_type": "code",
      "source": [
        "# Load the IMDB dataset from CSV\n",
        "df = pd.read_csv('/content/drive/MyDrive/IMDB_Dataset.csv', encoding='utf-8',on_bad_lines='skip')\n"
      ],
      "metadata": {
        "id": "bIRcnkLAaK75"
      },
      "execution_count": null,
      "outputs": []
    },
    {
      "cell_type": "code",
      "source": [
        "test_df = pd.read_csv('/content/drive/MyDrive/movie-review-dataset.csv', on_bad_lines='skip')"
      ],
      "metadata": {
        "id": "hOoONDK_aNBj"
      },
      "execution_count": null,
      "outputs": []
    },
    {
      "cell_type": "code",
      "source": [
        "print(len(test_df))"
      ],
      "metadata": {
        "colab": {
          "base_uri": "https://localhost:8080/"
        },
        "id": "CwIh1KLJaSPh",
        "outputId": "4046f70b-a488-453e-e262-965e4c93a4b7"
      },
      "execution_count": null,
      "outputs": [
        {
          "output_type": "stream",
          "name": "stdout",
          "text": [
            "609\n"
          ]
        }
      ]
    },
    {
      "cell_type": "code",
      "source": [
        "df['sentiment'] = df['sentiment'].replace({'positive': 1, 'negative': 0})\n",
        "\n",
        "print(df.head(20))"
      ],
      "metadata": {
        "colab": {
          "base_uri": "https://localhost:8080/"
        },
        "id": "CEkD92a2aU8z",
        "outputId": "c4e16930-7385-4b33-d60a-e54b06d63760"
      },
      "execution_count": null,
      "outputs": [
        {
          "output_type": "stream",
          "name": "stdout",
          "text": [
            "                                               review  sentiment\n",
            "0   One of the other reviewers has mentioned that ...          1\n",
            "1   A wonderful little production. <br /><br />The...          1\n",
            "2   I thought this was a wonderful way to spend ti...          1\n",
            "3   Basically there's a family where a little boy ...          0\n",
            "4   Petter Mattei's \"Love in the Time of Money\" is...          1\n",
            "5   Probably my all-time favorite movie, a story o...          1\n",
            "6   I sure would like to see a resurrection of a u...          1\n",
            "7   This show was an amazing, fresh & innovative i...          0\n",
            "8   Encouraged by the positive comments about this...          0\n",
            "9   If you like original gut wrenching laughter yo...          1\n",
            "10  Phil the Alien is one of those quirky films wh...          0\n",
            "11  I saw this movie when I was about 12 when it c...          0\n",
            "12  So im not a big fan of Boll's work but then ag...          0\n",
            "13  The cast played Shakespeare.<br /><br />Shakes...          0\n",
            "14  This a fantastic movie of three prisoners who ...          1\n",
            "15  Kind of drawn in by the erotic scenes, only to...          0\n",
            "16  Some films just simply should not be remade. T...          1\n",
            "17  This movie made it into one of my top 10 most ...          0\n",
            "18  I remember this film,it was the first film i h...          1\n",
            "19  An awful film! It must have been up against so...          0\n"
          ]
        }
      ]
    },
    {
      "cell_type": "code",
      "source": [
        "# Preprocess the text column\n",
        "import re\n",
        "import pandas as pd\n",
        "import numpy as np\n",
        "def preprocess_text(text):\n",
        "    # Convert to lowercase\n",
        "    text = text.lower()\n",
        "    # Remove html tags\n",
        "    text = re.sub('<[^<]+?>', '', text)\n",
        "    # Remove punctuation\n",
        "    text = re.sub(r'[^\\w\\s]', '', text)\n",
        "    # Remove numbers\n",
        "    text = re.sub(r'\\d+', '', text)\n",
        "    # Remove extra whitespace\n",
        "    text = ' '.join(text.split())\n",
        "    return text\n",
        "\n",
        "df['review'] = df['review'].apply(preprocess_text)"
      ],
      "metadata": {
        "id": "cw_Ks0IoaXqo"
      },
      "execution_count": null,
      "outputs": []
    },
    {
      "cell_type": "code",
      "source": [
        "df1 = df[df['review'].str.split().str.len() < 100]\n",
        "\n",
        "print(df1.head(10))\n"
      ],
      "metadata": {
        "colab": {
          "base_uri": "https://localhost:8080/"
        },
        "id": "q9GXgfHnaZ6x",
        "outputId": "5d58fb91-7453-41c8-fa32-ba95b60bb851"
      },
      "execution_count": null,
      "outputs": [
        {
          "output_type": "stream",
          "name": "stdout",
          "text": [
            "                                               review  sentiment\n",
            "9   if you like original gut wrenching laughter yo...          1\n",
            "10  phil the alien is one of those quirky films wh...          0\n",
            "14  this a fantastic movie of three prisoners who ...          1\n",
            "22  what an absolutely stunning movie if you have ...          1\n",
            "36  the plot is about the death of little children...          0\n",
            "46  protocol is an implausible movie whose only sa...          0\n",
            "49  average and surprisingly tame fulci giallo whi...          0\n",
            "53  i cannot believe i enjoyed this as much as i d...          1\n",
            "62  so lets beginthe movie itself is as original a...          1\n",
            "63  besides being boring the scenes were oppressiv...          0\n"
          ]
        }
      ]
    },
    {
      "cell_type": "code",
      "source": [
        "print(len(df1))"
      ],
      "metadata": {
        "colab": {
          "base_uri": "https://localhost:8080/"
        },
        "id": "SIVCdYiSacrB",
        "outputId": "9f7a3a4d-f1ad-459b-e524-765719d0fa75"
      },
      "execution_count": null,
      "outputs": [
        {
          "output_type": "stream",
          "name": "stdout",
          "text": [
            "6510\n"
          ]
        }
      ]
    },
    {
      "cell_type": "code",
      "source": [
        "# Define tokenizer\n",
        "import transformers\n",
        "tokenizer = BertTokenizer.from_pretrained('bert-base-uncased')\n",
        "\n"
      ],
      "metadata": {
        "id": "bI9FNzmLafZR"
      },
      "execution_count": null,
      "outputs": []
    },
    {
      "cell_type": "code",
      "source": [
        "# Tokenize train dataset\n",
        "import torch\n",
        "# Tokenize train dataset\n",
        "train_encodings = tokenizer(list(df1['review']), padding=True, truncation=True, max_length=100)\n",
        "X_train = train_encodings['input_ids']\n",
        "y_train = np.array(list(df1['sentiment']))\n",
        "print(len(X_train))\n",
        "print(len(y_train))\n",
        "\n"
      ],
      "metadata": {
        "colab": {
          "base_uri": "https://localhost:8080/"
        },
        "id": "ijSQdXjPalzV",
        "outputId": "23de6c10-a13c-47cb-c7e7-5b97f0178461"
      },
      "execution_count": null,
      "outputs": [
        {
          "output_type": "stream",
          "name": "stdout",
          "text": [
            "6510\n",
            "6510\n"
          ]
        }
      ]
    },
    {
      "cell_type": "code",
      "source": [
        "# Tokenize test dataset\n",
        "test_encodings = tokenizer(list(test_df['review']), padding=True, truncation=True, max_length=100)\n",
        "X_val = test_encodings['input_ids']\n",
        "y_val = np.array(list(test_df['sentiment']))"
      ],
      "metadata": {
        "id": "Je2SeVK9an-V"
      },
      "execution_count": null,
      "outputs": []
    },
    {
      "cell_type": "code",
      "source": [
        "from transformers import TFBertForSequenceClassification\n",
        "\n",
        "# Load saved model\n",
        "model_path = '/content/drive/MyDrive/Model/Model-PreTrained'\n",
        "model = TFBertForSequenceClassification.from_pretrained(model_path)\n",
        "# Load the BERT tokenizer\n",
        "# tokenizer = BertTokenizer.from_pretrained('bert-base-uncased')"
      ],
      "metadata": {
        "colab": {
          "base_uri": "https://localhost:8080/"
        },
        "id": "30gQJ1ylat-C",
        "outputId": "222c4058-4be9-40f2-c9a0-4f598b8a7659"
      },
      "execution_count": null,
      "outputs": [
        {
          "output_type": "stream",
          "name": "stderr",
          "text": [
            "Some layers from the model checkpoint at /content/drive/MyDrive/Model/Model-PreTrained were not used when initializing TFBertForSequenceClassification: ['dropout_75']\n",
            "- This IS expected if you are initializing TFBertForSequenceClassification from the checkpoint of a model trained on another task or with another architecture (e.g. initializing a BertForSequenceClassification model from a BertForPreTraining model).\n",
            "- This IS NOT expected if you are initializing TFBertForSequenceClassification from the checkpoint of a model that you expect to be exactly identical (initializing a BertForSequenceClassification model from a BertForSequenceClassification model).\n",
            "All the layers of TFBertForSequenceClassification were initialized from the model checkpoint at /content/drive/MyDrive/Model/Model-PreTrained.\n",
            "If your task is similar to the task the model of the checkpoint was trained on, you can already use TFBertForSequenceClassification for predictions without further training.\n"
          ]
        }
      ]
    },
    {
      "cell_type": "code",
      "source": [
        "# Compile the model\n",
        "optimizer = tf.keras.optimizers.Adam(learning_rate=2e-5, epsilon=1e-08)\n",
        "loss = tf.keras.losses.SparseCategoricalCrossentropy(from_logits=True)\n",
        "metric = tf.keras.metrics.SparseCategoricalAccuracy('accuracy')\n",
        "model.compile(optimizer=optimizer, loss=loss, metrics=[metric])"
      ],
      "metadata": {
        "id": "0BwxPDvwa1Tt"
      },
      "execution_count": null,
      "outputs": []
    },
    {
      "cell_type": "code",
      "source": [
        "# Train the model\n",
        "train_dataset = tf.data.Dataset.from_tensor_slices((\n",
        "    {\"input_ids\": X_train, \"attention_mask\": np.ones_like(X_train)},\n",
        "    y_train\n",
        "))\n",
        "train_dataset = train_dataset.shuffle(len(X_train)).batch(32)"
      ],
      "metadata": {
        "id": "LeGoKkXPa38F"
      },
      "execution_count": null,
      "outputs": []
    },
    {
      "cell_type": "code",
      "source": [
        "val_dataset = tf.data.Dataset.from_tensor_slices((\n",
        "    {\"input_ids\": X_val, \"attention_mask\": np.ones_like(X_val)},\n",
        "    y_val\n",
        "))\n",
        "val_dataset = val_dataset.batch(32)"
      ],
      "metadata": {
        "id": "qnGnvnHaa5xm"
      },
      "execution_count": null,
      "outputs": []
    },
    {
      "cell_type": "code",
      "source": [
        "# Evaluate the model on the validation dataset\n",
        "results = model.evaluate(val_dataset)\n",
        "\n",
        "# Print the accuracy\n",
        "print(f\"Accuracy: {results[1]*100:.2f}%\")\n"
      ],
      "metadata": {
        "colab": {
          "base_uri": "https://localhost:8080/"
        },
        "id": "6yiHqcdha73J",
        "outputId": "f1194647-aad1-4068-c895-df9970173cc8"
      },
      "execution_count": null,
      "outputs": [
        {
          "output_type": "stream",
          "name": "stdout",
          "text": [
            "20/20 [==============================] - 59s 2s/step - loss: 0.1477 - accuracy: 0.9639\n",
            "Accuracy: 96.39%\n"
          ]
        }
      ]
    },
    {
      "cell_type": "code",
      "source": [
        "!pip install --upgrade textattack"
      ],
      "metadata": {
        "colab": {
          "base_uri": "https://localhost:8080/"
        },
        "id": "LUMJL5oBbpNZ",
        "outputId": "46201ca3-9443-4fb2-838c-285eddeb8e3e"
      },
      "execution_count": null,
      "outputs": [
        {
          "output_type": "stream",
          "name": "stdout",
          "text": [
            "Looking in indexes: https://pypi.org/simple, https://us-python.pkg.dev/colab-wheels/public/simple/\n",
            "Requirement already satisfied: textattack in /usr/local/lib/python3.9/dist-packages (0.3.8)\n",
            "Requirement already satisfied: torch!=1.8,>=1.7.0 in /usr/local/lib/python3.9/dist-packages (from textattack) (2.0.0+cu118)\n",
            "Requirement already satisfied: bert-score>=0.3.5 in /usr/local/lib/python3.9/dist-packages (from textattack) (0.3.13)\n",
            "Requirement already satisfied: nltk in /usr/local/lib/python3.9/dist-packages (from textattack) (3.8.1)\n",
            "Requirement already satisfied: more-itertools in /usr/local/lib/python3.9/dist-packages (from textattack) (9.1.0)\n",
            "Requirement already satisfied: scipy>=1.4.1 in /usr/local/lib/python3.9/dist-packages (from textattack) (1.10.1)\n",
            "Requirement already satisfied: jieba in /usr/local/lib/python3.9/dist-packages (from textattack) (0.42.1)\n",
            "Requirement already satisfied: tqdm in /usr/local/lib/python3.9/dist-packages (from textattack) (4.65.0)\n",
            "Requirement already satisfied: lemminflect in /usr/local/lib/python3.9/dist-packages (from textattack) (0.2.3)\n",
            "Requirement already satisfied: terminaltables in /usr/local/lib/python3.9/dist-packages (from textattack) (3.1.10)\n",
            "Requirement already satisfied: pandas>=1.0.1 in /usr/local/lib/python3.9/dist-packages (from textattack) (1.5.3)\n",
            "Requirement already satisfied: OpenHowNet in /usr/local/lib/python3.9/dist-packages (from textattack) (2.0)\n",
            "Requirement already satisfied: filelock in /usr/local/lib/python3.9/dist-packages (from textattack) (3.11.0)\n",
            "Requirement already satisfied: word2number in /usr/local/lib/python3.9/dist-packages (from textattack) (1.1)\n",
            "Requirement already satisfied: click<8.1.0 in /usr/local/lib/python3.9/dist-packages (from textattack) (8.0.4)\n",
            "Requirement already satisfied: num2words in /usr/local/lib/python3.9/dist-packages (from textattack) (0.5.12)\n",
            "Requirement already satisfied: editdistance in /usr/local/lib/python3.9/dist-packages (from textattack) (0.6.2)\n",
            "Requirement already satisfied: transformers>=4.21.0 in /usr/local/lib/python3.9/dist-packages (from textattack) (4.28.1)\n",
            "Requirement already satisfied: lru-dict in /usr/local/lib/python3.9/dist-packages (from textattack) (1.1.8)\n",
            "Requirement already satisfied: pinyin==0.4.0 in /usr/local/lib/python3.9/dist-packages (from textattack) (0.4.0)\n",
            "Requirement already satisfied: datasets==2.4.0 in /usr/local/lib/python3.9/dist-packages (from textattack) (2.4.0)\n",
            "Requirement already satisfied: numpy>=1.21.0 in /usr/local/lib/python3.9/dist-packages (from textattack) (1.22.4)\n",
            "Requirement already satisfied: language-tool-python in /usr/local/lib/python3.9/dist-packages (from textattack) (2.7.1)\n",
            "Requirement already satisfied: PySocks!=1.5.7,>=1.5.6 in /usr/local/lib/python3.9/dist-packages (from textattack) (1.7.1)\n",
            "Requirement already satisfied: flair in /usr/local/lib/python3.9/dist-packages (from textattack) (0.12.2)\n",
            "Requirement already satisfied: pycld2 in /usr/local/lib/python3.9/dist-packages (from textattack) (0.41)\n",
            "Requirement already satisfied: multiprocess in /usr/local/lib/python3.9/dist-packages (from datasets==2.4.0->textattack) (0.70.13)\n",
            "Requirement already satisfied: aiohttp in /usr/local/lib/python3.9/dist-packages (from datasets==2.4.0->textattack) (3.8.4)\n",
            "Requirement already satisfied: huggingface-hub<1.0.0,>=0.1.0 in /usr/local/lib/python3.9/dist-packages (from datasets==2.4.0->textattack) (0.13.4)\n",
            "Requirement already satisfied: dill<0.3.6 in /usr/local/lib/python3.9/dist-packages (from datasets==2.4.0->textattack) (0.3.5.1)\n",
            "Requirement already satisfied: pyarrow>=6.0.0 in /usr/local/lib/python3.9/dist-packages (from datasets==2.4.0->textattack) (9.0.0)\n",
            "Requirement already satisfied: responses<0.19 in /usr/local/lib/python3.9/dist-packages (from datasets==2.4.0->textattack) (0.18.0)\n",
            "Requirement already satisfied: fsspec[http]>=2021.11.1 in /usr/local/lib/python3.9/dist-packages (from datasets==2.4.0->textattack) (2023.4.0)\n",
            "Requirement already satisfied: requests>=2.19.0 in /usr/local/lib/python3.9/dist-packages (from datasets==2.4.0->textattack) (2.27.1)\n",
            "Requirement already satisfied: packaging in /usr/local/lib/python3.9/dist-packages (from datasets==2.4.0->textattack) (23.1)\n",
            "Requirement already satisfied: xxhash in /usr/local/lib/python3.9/dist-packages (from datasets==2.4.0->textattack) (3.2.0)\n",
            "Requirement already satisfied: matplotlib in /usr/local/lib/python3.9/dist-packages (from bert-score>=0.3.5->textattack) (3.7.1)\n",
            "Requirement already satisfied: python-dateutil>=2.8.1 in /usr/local/lib/python3.9/dist-packages (from pandas>=1.0.1->textattack) (2.8.2)\n",
            "Requirement already satisfied: pytz>=2020.1 in /usr/local/lib/python3.9/dist-packages (from pandas>=1.0.1->textattack) (2022.7.1)\n",
            "Requirement already satisfied: typing-extensions in /usr/local/lib/python3.9/dist-packages (from torch!=1.8,>=1.7.0->textattack) (4.5.0)\n",
            "Requirement already satisfied: jinja2 in /usr/local/lib/python3.9/dist-packages (from torch!=1.8,>=1.7.0->textattack) (3.1.2)\n",
            "Requirement already satisfied: networkx in /usr/local/lib/python3.9/dist-packages (from torch!=1.8,>=1.7.0->textattack) (3.1)\n",
            "Requirement already satisfied: sympy in /usr/local/lib/python3.9/dist-packages (from torch!=1.8,>=1.7.0->textattack) (1.11.1)\n",
            "Requirement already satisfied: triton==2.0.0 in /usr/local/lib/python3.9/dist-packages (from torch!=1.8,>=1.7.0->textattack) (2.0.0)\n",
            "Requirement already satisfied: cmake in /usr/local/lib/python3.9/dist-packages (from triton==2.0.0->torch!=1.8,>=1.7.0->textattack) (3.25.2)\n",
            "Requirement already satisfied: lit in /usr/local/lib/python3.9/dist-packages (from triton==2.0.0->torch!=1.8,>=1.7.0->textattack) (16.0.1)\n",
            "Requirement already satisfied: pyyaml>=5.1 in /usr/local/lib/python3.9/dist-packages (from transformers>=4.21.0->textattack) (6.0)\n",
            "Requirement already satisfied: regex!=2019.12.17 in /usr/local/lib/python3.9/dist-packages (from transformers>=4.21.0->textattack) (2022.10.31)\n",
            "Requirement already satisfied: tokenizers!=0.11.3,<0.14,>=0.11.1 in /usr/local/lib/python3.9/dist-packages (from transformers>=4.21.0->textattack) (0.13.3)\n",
            "Requirement already satisfied: segtok>=1.5.7 in /usr/local/lib/python3.9/dist-packages (from flair->textattack) (1.5.11)\n",
            "Requirement already satisfied: sqlitedict>=1.6.0 in /usr/local/lib/python3.9/dist-packages (from flair->textattack) (2.1.0)\n",
            "Requirement already satisfied: wikipedia-api in /usr/local/lib/python3.9/dist-packages (from flair->textattack) (0.5.8)\n",
            "Requirement already satisfied: transformer-smaller-training-vocab>=0.2.1 in /usr/local/lib/python3.9/dist-packages (from flair->textattack) (0.2.3)\n",
            "Requirement already satisfied: hyperopt>=0.2.7 in /usr/local/lib/python3.9/dist-packages (from flair->textattack) (0.2.7)\n",
            "Requirement already satisfied: gdown==4.4.0 in /usr/local/lib/python3.9/dist-packages (from flair->textattack) (4.4.0)\n",
            "Requirement already satisfied: tabulate in /usr/local/lib/python3.9/dist-packages (from flair->textattack) (0.8.10)\n",
            "Requirement already satisfied: langdetect in /usr/local/lib/python3.9/dist-packages (from flair->textattack) (1.0.9)\n",
            "Requirement already satisfied: gensim>=3.8.0 in /usr/local/lib/python3.9/dist-packages (from flair->textattack) (4.3.1)\n",
            "Requirement already satisfied: scikit-learn>=0.21.3 in /usr/local/lib/python3.9/dist-packages (from flair->textattack) (1.2.2)\n",
            "Requirement already satisfied: bpemb>=0.3.2 in /usr/local/lib/python3.9/dist-packages (from flair->textattack) (0.3.4)\n",
            "Requirement already satisfied: mpld3==0.3 in /usr/local/lib/python3.9/dist-packages (from flair->textattack) (0.3)\n",
            "Requirement already satisfied: ftfy in /usr/local/lib/python3.9/dist-packages (from flair->textattack) (6.1.1)\n",
            "Requirement already satisfied: janome in /usr/local/lib/python3.9/dist-packages (from flair->textattack) (0.4.2)\n",
            "Requirement already satisfied: pptree in /usr/local/lib/python3.9/dist-packages (from flair->textattack) (3.1)\n",
            "Requirement already satisfied: conllu>=4.0 in /usr/local/lib/python3.9/dist-packages (from flair->textattack) (4.5.2)\n",
            "Requirement already satisfied: boto3 in /usr/local/lib/python3.9/dist-packages (from flair->textattack) (1.26.116)\n",
            "Requirement already satisfied: lxml in /usr/local/lib/python3.9/dist-packages (from flair->textattack) (4.9.2)\n",
            "Requirement already satisfied: pytorch-revgrad in /usr/local/lib/python3.9/dist-packages (from flair->textattack) (0.2.0)\n",
            "Requirement already satisfied: deprecated>=1.2.4 in /usr/local/lib/python3.9/dist-packages (from flair->textattack) (1.2.13)\n",
            "Requirement already satisfied: six in /usr/local/lib/python3.9/dist-packages (from gdown==4.4.0->flair->textattack) (1.16.0)\n",
            "Requirement already satisfied: beautifulsoup4 in /usr/local/lib/python3.9/dist-packages (from gdown==4.4.0->flair->textattack) (4.11.2)\n",
            "Requirement already satisfied: joblib in /usr/local/lib/python3.9/dist-packages (from nltk->textattack) (1.2.0)\n",
            "Requirement already satisfied: docopt>=0.6.2 in /usr/local/lib/python3.9/dist-packages (from num2words->textattack) (0.6.2)\n",
            "Requirement already satisfied: anytree in /usr/local/lib/python3.9/dist-packages (from OpenHowNet->textattack) (2.8.0)\n",
            "Requirement already satisfied: setuptools in /usr/local/lib/python3.9/dist-packages (from OpenHowNet->textattack) (67.6.1)\n",
            "Requirement already satisfied: sentencepiece in /usr/local/lib/python3.9/dist-packages (from bpemb>=0.3.2->flair->textattack) (0.1.98)\n",
            "Requirement already satisfied: wrapt<2,>=1.10 in /usr/local/lib/python3.9/dist-packages (from deprecated>=1.2.4->flair->textattack) (1.14.1)\n",
            "Requirement already satisfied: frozenlist>=1.1.1 in /usr/local/lib/python3.9/dist-packages (from aiohttp->datasets==2.4.0->textattack) (1.3.3)\n",
            "Requirement already satisfied: async-timeout<5.0,>=4.0.0a3 in /usr/local/lib/python3.9/dist-packages (from aiohttp->datasets==2.4.0->textattack) (4.0.2)\n",
            "Requirement already satisfied: attrs>=17.3.0 in /usr/local/lib/python3.9/dist-packages (from aiohttp->datasets==2.4.0->textattack) (23.1.0)\n",
            "Requirement already satisfied: charset-normalizer<4.0,>=2.0 in /usr/local/lib/python3.9/dist-packages (from aiohttp->datasets==2.4.0->textattack) (2.0.12)\n",
            "Requirement already satisfied: yarl<2.0,>=1.0 in /usr/local/lib/python3.9/dist-packages (from aiohttp->datasets==2.4.0->textattack) (1.8.2)\n",
            "Requirement already satisfied: aiosignal>=1.1.2 in /usr/local/lib/python3.9/dist-packages (from aiohttp->datasets==2.4.0->textattack) (1.3.1)\n",
            "Requirement already satisfied: multidict<7.0,>=4.5 in /usr/local/lib/python3.9/dist-packages (from aiohttp->datasets==2.4.0->textattack) (6.0.4)\n",
            "Requirement already satisfied: smart-open>=1.8.1 in /usr/local/lib/python3.9/dist-packages (from gensim>=3.8.0->flair->textattack) (6.3.0)\n",
            "Requirement already satisfied: py4j in /usr/local/lib/python3.9/dist-packages (from hyperopt>=0.2.7->flair->textattack) (0.10.9.7)\n",
            "Requirement already satisfied: future in /usr/local/lib/python3.9/dist-packages (from hyperopt>=0.2.7->flair->textattack) (0.18.3)\n",
            "Requirement already satisfied: cloudpickle in /usr/local/lib/python3.9/dist-packages (from hyperopt>=0.2.7->flair->textattack) (2.2.1)\n",
            "Requirement already satisfied: pillow>=6.2.0 in /usr/local/lib/python3.9/dist-packages (from matplotlib->bert-score>=0.3.5->textattack) (8.4.0)\n",
            "Requirement already satisfied: contourpy>=1.0.1 in /usr/local/lib/python3.9/dist-packages (from matplotlib->bert-score>=0.3.5->textattack) (1.0.7)\n",
            "Requirement already satisfied: kiwisolver>=1.0.1 in /usr/local/lib/python3.9/dist-packages (from matplotlib->bert-score>=0.3.5->textattack) (1.4.4)\n",
            "Requirement already satisfied: importlib-resources>=3.2.0 in /usr/local/lib/python3.9/dist-packages (from matplotlib->bert-score>=0.3.5->textattack) (5.12.0)\n",
            "Requirement already satisfied: cycler>=0.10 in /usr/local/lib/python3.9/dist-packages (from matplotlib->bert-score>=0.3.5->textattack) (0.11.0)\n",
            "Requirement already satisfied: fonttools>=4.22.0 in /usr/local/lib/python3.9/dist-packages (from matplotlib->bert-score>=0.3.5->textattack) (4.39.3)\n",
            "Requirement already satisfied: pyparsing>=2.3.1 in /usr/local/lib/python3.9/dist-packages (from matplotlib->bert-score>=0.3.5->textattack) (3.0.9)\n",
            "Requirement already satisfied: urllib3<1.27,>=1.21.1 in /usr/local/lib/python3.9/dist-packages (from requests>=2.19.0->datasets==2.4.0->textattack) (1.26.15)\n",
            "Requirement already satisfied: certifi>=2017.4.17 in /usr/local/lib/python3.9/dist-packages (from requests>=2.19.0->datasets==2.4.0->textattack) (2022.12.7)\n",
            "Requirement already satisfied: idna<4,>=2.5 in /usr/local/lib/python3.9/dist-packages (from requests>=2.19.0->datasets==2.4.0->textattack) (3.4)\n",
            "Requirement already satisfied: threadpoolctl>=2.0.0 in /usr/local/lib/python3.9/dist-packages (from scikit-learn>=0.21.3->flair->textattack) (3.1.0)\n",
            "Requirement already satisfied: protobuf<=3.20.2 in /usr/local/lib/python3.9/dist-packages (from transformers>=4.21.0->textattack) (3.20.2)\n",
            "Requirement already satisfied: jmespath<2.0.0,>=0.7.1 in /usr/local/lib/python3.9/dist-packages (from boto3->flair->textattack) (1.0.1)\n",
            "Requirement already satisfied: botocore<1.30.0,>=1.29.116 in /usr/local/lib/python3.9/dist-packages (from boto3->flair->textattack) (1.29.116)\n",
            "Requirement already satisfied: s3transfer<0.7.0,>=0.6.0 in /usr/local/lib/python3.9/dist-packages (from boto3->flair->textattack) (0.6.0)\n",
            "Requirement already satisfied: wcwidth>=0.2.5 in /usr/local/lib/python3.9/dist-packages (from ftfy->flair->textattack) (0.2.6)\n",
            "Requirement already satisfied: MarkupSafe>=2.0 in /usr/local/lib/python3.9/dist-packages (from jinja2->torch!=1.8,>=1.7.0->textattack) (2.1.2)\n",
            "Requirement already satisfied: mpmath>=0.19 in /usr/local/lib/python3.9/dist-packages (from sympy->torch!=1.8,>=1.7.0->textattack) (1.3.0)\n",
            "Requirement already satisfied: zipp>=3.1.0 in /usr/local/lib/python3.9/dist-packages (from importlib-resources>=3.2.0->matplotlib->bert-score>=0.3.5->textattack) (3.15.0)\n",
            "Requirement already satisfied: soupsieve>1.2 in /usr/local/lib/python3.9/dist-packages (from beautifulsoup4->gdown==4.4.0->flair->textattack) (2.4.1)\n"
          ]
        }
      ]
    },
    {
      "cell_type": "code",
      "source": [
        "!pip show textattack"
      ],
      "metadata": {
        "colab": {
          "base_uri": "https://localhost:8080/"
        },
        "id": "8nhCE7qxbvUz",
        "outputId": "0efbe0c0-e205-411d-81d6-fa921b7deabb"
      },
      "execution_count": null,
      "outputs": [
        {
          "output_type": "stream",
          "name": "stdout",
          "text": [
            "Name: textattack\n",
            "Version: 0.3.8\n",
            "Summary: A library for generating text adversarial examples\n",
            "Home-page: https://github.com/QData/textattack\n",
            "Author: QData Lab at the University of Virginia\n",
            "Author-email: jm8wx@virginia.edu\n",
            "License: MIT\n",
            "Location: /usr/local/lib/python3.9/dist-packages\n",
            "Requires: bert-score, click, datasets, editdistance, filelock, flair, jieba, language-tool-python, lemminflect, lru-dict, more-itertools, nltk, num2words, numpy, OpenHowNet, pandas, pinyin, pycld2, PySocks, scipy, terminaltables, torch, tqdm, transformers, word2number\n",
            "Required-by: \n"
          ]
        }
      ]
    },
    {
      "cell_type": "code",
      "source": [
        "import textattack.attack_recipes as attack_recipes\n",
        "\n",
        "# Get a list of all the methods and attributes in attack_recipes.\n",
        "methods = [method for method in dir(attack_recipes) if callable(getattr(attack_recipes, method))]\n",
        "\n",
        "# Print the list of methods.\n",
        "print(methods)\n",
        "\n"
      ],
      "metadata": {
        "colab": {
          "base_uri": "https://localhost:8080/"
        },
        "id": "9gm4F7WUb6N6",
        "outputId": "5f3ab7bb-ee02-43d9-b9fe-7ef361e100d6"
      },
      "execution_count": null,
      "outputs": [
        {
          "output_type": "stream",
          "name": "stdout",
          "text": [
            "['A2TYoo2021', 'AttackRecipe', 'BAEGarg2019', 'BERTAttackLi2020', 'CLARE2020', 'CheckList2020', 'DeepWordBugGao2018', 'FasterGeneticAlgorithmJia2019', 'FrenchRecipe', 'GeneticAlgorithmAlzantot2018', 'HotFlipEbrahimi2017', 'IGAWang2019', 'InputReductionFeng2018', 'Kuleshov2017', 'MorpheusTan2020', 'PSOZang2020', 'PWWSRen2019', 'Pruthi2019', 'Seq2SickCheng2018BlackBox', 'SpanishRecipe', 'TextBuggerLi2018', 'TextFoolerJin2019']\n"
          ]
        }
      ]
    },
    {
      "cell_type": "code",
      "source": [
        "import torch\n",
        "import transformers\n",
        "import textattack\n",
        "import transformers\n",
        "from textattack.models.wrappers import HuggingFaceModelWrapper\n",
        "from textattack.attack_recipes import IGAWang2019\n",
        "\n",
        "from transformers import BertForSequenceClassification, BertTokenizer\n",
        "from textattack.models.wrappers import HuggingFaceModelWrapper\n",
        "from textattack.models.wrappers import ModelWrapper\n",
        "import numpy as np\n"
      ],
      "metadata": {
        "id": "lcfU5G8gcJKn"
      },
      "execution_count": null,
      "outputs": []
    },
    {
      "cell_type": "code",
      "source": [
        "\n",
        "class MyModelWrapper(ModelWrapper):\n",
        "    def __init__(self, model, tokenizer):\n",
        "        self.model = model\n",
        "        self.tokenizer = tokenizer\n",
        "        \n",
        "    def __call__(self, text_input_list):\n",
        "        input_ids = []\n",
        "        token_type_ids = []\n",
        "        attention_mask = []\n",
        "        for text_input in text_input_list:\n",
        "            input_dict = self.tokenizer.encode_plus(text_input, add_special_tokens=True, max_length=512, pad_to_max_length=True)\n",
        "            input_ids.append(input_dict['input_ids'])\n",
        "            token_type_ids.append(input_dict['token_type_ids'])\n",
        "            attention_mask.append(input_dict['attention_mask'])\n",
        "            \n",
        "        input_ids = np.array(input_ids)\n",
        "        token_type_ids = np.array(token_type_ids)\n",
        "        attention_mask = np.array(attention_mask)\n",
        "        outputs = self.model([input_ids, token_type_ids, attention_mask], training=False)\n",
        "        logits = outputs[0]\n",
        "        return logits.numpy()\n"
      ],
      "metadata": {
        "id": "s8OgnxzIck9b"
      },
      "execution_count": null,
      "outputs": []
    },
    {
      "cell_type": "code",
      "source": [
        "model_wrapper = MyModelWrapper(model, tokenizer)"
      ],
      "metadata": {
        "id": "8HIkp5_UcnCT"
      },
      "execution_count": null,
      "outputs": []
    },
    {
      "cell_type": "code",
      "source": [
        "# Initialize the TextFooler attack recipe\n",
        "attack = IGAWang2019.build(model_wrapper)"
      ],
      "metadata": {
        "colab": {
          "base_uri": "https://localhost:8080/"
        },
        "id": "C57-WpEccqLz",
        "outputId": "57c1d8cc-9cfe-4bd3-db2a-32d0d994b610"
      },
      "execution_count": null,
      "outputs": [
        {
          "output_type": "stream",
          "name": "stderr",
          "text": [
            "textattack: Unknown if model of class <class 'transformers.models.bert.modeling_tf_bert.TFBertForSequenceClassification'> compatible with goal function <class 'textattack.goal_functions.classification.untargeted_classification.UntargetedClassification'>.\n"
          ]
        }
      ]
    },
    {
      "cell_type": "code",
      "source": [
        "# test_df.columns = ['review', 'sentiment']\n",
        "# test_df.to_csv('test1.csv', index=False)\n",
        "texts = np.array(test_df['review'])\n",
        "labels = np.array(test_df['sentiment'])"
      ],
      "metadata": {
        "id": "s6qpGwSmcwIZ"
      },
      "execution_count": null,
      "outputs": []
    },
    {
      "cell_type": "code",
      "source": [
        "from textattack.shared import AttackedText\n",
        "text = texts[0]\n",
        "label = labels[0]\n",
        "\n",
        "results_iterable = attack.attack(text, ground_truth_output=int(label))\n",
        "adv_text = results_iterable.perturbed_text()\n",
        "\n",
        "print(adv_text)\n",
        "\n"
      ],
      "metadata": {
        "colab": {
          "base_uri": "https://localhost:8080/"
        },
        "id": "iEBTM7C1jaJP",
        "outputId": "848699ef-9301-482d-ad12-1f76c7fe6e81"
      },
      "execution_count": null,
      "outputs": [
        {
          "output_type": "stream",
          "name": "stdout",
          "text": [
            "This movie was sizeable!\n"
          ]
        }
      ]
    },
    {
      "cell_type": "code",
      "source": [
        "adv_texts = []\n",
        "for text, label in zip(texts, labels):\n",
        "    results_iterable = attack.attack(text, ground_truth_output=int(label))\n",
        "    if hasattr(results_iterable, \"__iter__\"):\n",
        "        for result in results_iterable:\n",
        "            adv_text = results_iterable.perturbed_text()\n",
        "            adv_texts.append(adv_text)\n",
        "            print(f\"Adversarial example: {adv_text}\")\n",
        "    else:\n",
        "        adv_text = results_iterable.perturbed_text()\n",
        "        adv_texts.append(adv_text)\n",
        "        print(f\"Adversarial example: {adv_text}\")\n",
        "\n"
      ],
      "metadata": {
        "colab": {
          "base_uri": "https://localhost:8080/"
        },
        "id": "QKbimBGFc88F",
        "outputId": "974da5c2-71ff-4a3a-96a5-ec9ecb457bb2"
      },
      "execution_count": null,
      "outputs": [
        {
          "output_type": "stream",
          "name": "stdout",
          "text": [
            "Adversarial example: This movie was sizeable!\n",
            "Adversarial example: The acting was egregious\n",
            "Adversarial example: I cared this films\n",
            "Adversarial example: It was a residues of day\n",
            "Adversarial example: The plot was foreseeable\n",
            "Adversarial example: This is a must-watch films\n",
            "Adversarial example: I would not recommend this cine\n",
            "Adversarial example: The cinematography was startling\n",
            "Adversarial example: Nova script was frail\n",
            "Adversarial example: The termination was sorrowful\n",
            "Adversarial example: This is the better cinematography ever!\n",
            "Adversarial example: I deplore watching this film\n",
            "Adversarial example: The idiosyncrasies were well-developed\n",
            "Adversarial example: It was too slow-paced\n",
            "Adversarial example: I was on the edge of my seat the whole time\n",
            "Adversarial example: The special effects were extraordinaire\n",
            "Adversarial example: I was drilled throughout the entire movie\n",
            "Adversarial example: The soundtrack was leggy\n",
            "Adversarial example: The dialogue was dorky\n",
            "Adversarial example: I would watch this movie again and again\n",
            "Adversarial example: The story was cogent\n",
            "Adversarial example: It was a complete catastrophe\n",
            "Adversarial example: The direction was extraordinaire\n",
            "Adversarial example: I couldn't bleachers this movie\n",
            "Adversarial example: The pouring did a funky job\n",
            "Adversarial example: It was a total poppycock of monies\n",
            "Adversarial example: During film was thought-provoking\n",
            "Adversarial example: I didn't realize the plot\n",
            "Adversarial example: The editing was well done\n",
            "Adversarial example: This movie made me cringe\n",
            "Adversarial example: It was a mind-bending experiments\n",
            "Adversarial example: I was disappoints by this film\n",
            "Adversarial example: The humour was spot-on\n",
            "Adversarial example: I would not recommends this to everyone\n",
            "Adversarial example: The production design was unsolved\n",
            "Adversarial example: I couldn't tomar this movie meticulously\n",
            "Adversarial example: The acting was sizeable\n",
            "Adversarial example: It was a bit too longue\n",
            "Adversarial example: The cine kept me engaged the entire time\n",
            "Adversarial example: I wish I had not seen this movie\n",
            "Adversarial example: The conte was acronyms and updating\n",
            "Adversarial example: It was a finalise letdown\n",
            "Adversarial example: The score was irreproachable\n",
            "Adversarial example: I couldn't login with the characters\n",
            "Adversarial example: The film was visually inconceivable\n",
            "Adversarial example: I fell sleeps during this movie\n",
            "Adversarial example: The chemistry between the actors was sizeable\n",
            "Adversarial example: It was a residue of my time and money\n",
            "Adversarial example: The pacing was perfect\n",
            "Adversarial example: I was very dashed in this film\n",
            "Adversarial example: The sufferance was thrilling\n",
            "Adversarial example: This movie was a geometrical\n",
            "Adversarial example: I found the plots to be mystifying\n",
            "Adversarial example: Nova acting was mediocre\n",
            "Adversarial example: I was pleasantly dismayed by this film\n",
            "Adversarial example: The special affected were lackluster\n",
            "Adversarial example: I was blown away by this movie\n",
            "Adversarial example: Nova kino was too lange\n",
            "Adversarial example: The characters were one-dimensional\n",
            "Adversarial example: The directives was mediocre\n",
            "Adversarial example: I couldn't stands the soundtrack\n",
            "Adversarial example: Nova movie was too deceleration\n",
            "Adversarial example: The plots was clichés\n",
            "Adversarial example: The kino was mediocre\n",
            "Adversarial example: I was sidetracked throughout the entire film\n",
            "Adversarial example: Nova acting was wooden\n",
            "Adversarial example: De kino was too foregone\n",
            "Adversarial example: The debates was cringe-worthy\n",
            "Adversarial example: The special touched were cheesy\n",
            "Adversarial example: De pacing was too fastest\n",
            "Adversarial example: This movie was a residue of time and money\n",
            "Adversarial example: De directives was lackluster\n",
            "Adversarial example: I liked this filmmaking from startup to finish\n",
            "Adversarial example: The plot was intricate\n",
            "Adversarial example: The acting was extraordinaire\n",
            "Adversarial example: I was disillusion by the ceases\n",
            "Adversarial example: The soundtrack was unimaginative\n",
            "Adversarial example: The film was beautifully felled\n",
            "Adversarial example: I couldn't got into this cinematographic\n",
            "Adversarial example: The script was lustrous\n",
            "Adversarial example: De editing was choppy\n",
            "Adversarial example: I was downright investments in this movies\n",
            "Adversarial example: Loved it! Better movie ceaselessly.\n",
            "Adversarial example: Worst movie I've ever remarked.\n",
            "Adversarial example: Excite action and waiting throughout.\n",
            "Adversarial example: Great cine!\n",
            "Adversarial example: Gravest film ever.\n",
            "Adversarial example: I liked it!\n",
            "Adversarial example: Grisly acting ruins this uno.\n",
            "Adversarial example: Magnifique cine!\n",
            "Adversarial example: Don't waste your deadline.\n",
            "Adversarial example: Inconceivable performance by the lead player.\n",
            "Adversarial example: Noteworthy instructions and cinematography.\n",
            "Adversarial example: Grisly dialogue ruins this film.\n",
            "Adversarial example: The better cinematography I've seen all year.\n",
            "Adversarial example: I couldn't bleachers it.\n",
            "Adversarial example: Impressive specialised effects.\n",
            "Adversarial example: A finalize detritus of money.\n",
            "Adversarial example: Highly proposals!\n",
            "Adversarial example: I wouldn't recommend this to anyone.\n",
            "Adversarial example: This cine was peachy!\n",
            "Adversarial example: The acting was mediocre but the plot was exhilarating.\n",
            "Adversarial example: I was on the edge of my seat the entire time.\n",
            "Adversarial example: I brainchild the ending was fragility.\n",
            "Adversarial example: The special effects were whopping.\n",
            "Adversarial example: The cinematography was beautiful.\n",
            "Adversarial example: I couldn't supervises the plot.\n",
            "Adversarial example: The humor cutback flat.\n",
            "Adversarial example: I can't expectation to watch it again!\n",
            "Adversarial example: The story was intriguing.\n",
            "Adversarial example: The idiosyncrasies were well-developed.\n",
            "Adversarial example: I didn't zorg about any of the characters.\n",
            "Adversarial example: The dialogue was witty.\n",
            "Adversarial example: Of pacing was deceleration.\n",
            "Adversarial example: I cared the soundtrack.\n",
            "Adversarial example: The costume design was sensational.\n",
            "Adversarial example: I found the movie mystifying.\n",
            "Adversarial example: The visuals were breathless.\n",
            "Adversarial example: The dashes was unimaginative.\n",
            "Adversarial example: The acting was superb.\n",
            "Adversarial example: I couldn't look away.\n",
            "Adversarial example: To direction was top-notch.\n",
            "Adversarial example: De writing was fragility.\n",
            "Adversarial example: The twists kept me guessing.\n",
            "Adversarial example: The CGI was resplendent.\n",
            "Adversarial example: I was wore from start to finalised.\n",
            "Adversarial example: I didn't realise the point of the film.\n",
            "Adversarial example: I was completely inverted in the story.\n",
            "Adversarial example: The score was hauntingly leggy.\n",
            "Adversarial example: The matter were thought-provoking.\n",
            "Adversarial example: I thoughts the acting was exaggerate.\n",
            "Adversarial example: De ending was foregone.\n",
            "Adversarial example: The set design was sensational.\n",
            "Adversarial example: I didn't zorg about the storytelling.\n",
            "Adversarial example: The tension was palpable.\n",
            "Adversarial example: Nova movie was too lange.\n",
            "Adversarial example: The featured were one-dimensional.\n",
            "Adversarial example: The cinematography was too somber.\n",
            "Adversarial example: The humor was too kids.\n",
            "Adversarial example: I was moved to tears.\n",
            "Adversarial example: The wondrous effects were unappreciated.\n",
            "Adversarial example: I couldn't login with the character.\n",
            "Adversarial example: The story believed disjointed.\n",
            "Adversarial example: Of pacing was too slows for my gusto.\n",
            "Adversarial example: I cared the chemistry between the actors.\n",
            "Adversarial example: The getup were entertaining.\n",
            "Adversarial example: I felt emotionally drained after watching.\n",
            "Adversarial example: The interrogation was stilted.\n",
            "Adversarial example: The plot was jeez.\n",
            "Adversarial example: De kino was too busy.\n",
            "Adversarial example: The story was upfront.\n",
            "Adversarial example: I brainchild the kino was uninspired.\n",
            "Adversarial example: The acting was muk.\n",
            "Adversarial example: The plot spins were amiss executed.\n",
            "Adversarial example: I couldn't halts my disbelief.\n",
            "Adversarial example: De editing was remiss.\n",
            "Adversarial example: The pacing was perfect.\n",
            "Adversarial example: I loved the humor.\n",
            "Adversarial example: The unique influences were underwhelming.\n",
            "Adversarial example: The script was foreseeable.\n",
            "Adversarial example: The characters were relatable.\n",
            "Adversarial example: I thoughts the movie was needless.\n",
            "Adversarial example: The directives was uninspired.\n",
            "Adversarial example: The musical was unimaginative.\n",
            "Adversarial example: I found the movie worrisome.\n",
            "Adversarial example: The plot was gripping.\n",
            "Adversarial example: Of kino was too flashy.\n",
            "Adversarial example: The debates was cringe-worthy.\n",
            "Adversarial example: I thought the ending was satisfying.\n",
            "Adversarial example: The earl was heartwarming.\n",
            "Adversarial example: The characters were plat.\n",
            "Adversarial example: I thought the cinema was well-made.\n",
            "Adversarial example: Of notations was too vocals.\n",
            "Adversarial example: The kino was too foregone.\n",
            "Adversarial example: I didn't zorg about the unique influence.\n",
            "Adversarial example: The acting was ferocious.\n",
            "Adversarial example: The pacing was unequal.\n",
            "Adversarial example: The themes were heavy-handed.\n",
            "Adversarial example: I cared the opening sequence.\n",
            "Adversarial example: Of plots was contrived.\n",
            "Adversarial example: The movie was emotionally draining.\n",
            "Adversarial example: I couldn't stop thinking about the movie for days.\n",
            "Adversarial example: The cinematography was breathless.\n",
            "Adversarial example: The characters were persuasive.\n",
            "Adversarial example: The script was clever.\n",
            "Adversarial example: Bothersome film\n",
            "Adversarial example: Sizeable acting and direction\n",
            "Adversarial example: Terrible intrigue and pacing\n",
            "Adversarial example: Pesky and foreseeable\n",
            "Adversarial example: Best cameraman of the year\n",
            "Adversarial example: Lacks uniqueness\n",
            "Adversarial example: Unforeseeable twist ended\n",
            "Adversarial example: Unpaid cinematography\n",
            "Adversarial example: Foreseeable storyline\n",
            "Adversarial example: Residue of time and money\n",
            "Adversarial example: Well-crafted scenarios\n",
            "Adversarial example: Amiss written and acted\n",
            "Adversarial example: Incredible special effect\n",
            "Adversarial example: Good cast but vulnerable story\n",
            "Adversarial example: Stunning illustrations\n",
            "Adversarial example: Doofus and pointless\n",
            "Adversarial example: Compelling theatres\n",
            "Adversarial example: Overrated and uninspiring\n",
            "Adversarial example: Magnifique soundtrack\n",
            "Adversarial example: Forgettable and drab\n",
            "Adversarial example: Fantastic harvest by lead actor\n",
            "Adversarial example: Clichés and uninteresting\n",
            "Adversarial example: Masterpiece of cinematography\n",
            "Adversarial example: Desperately directed and edited\n",
            "Adversarial example: Solid behaving and wrote\n",
            "Adversarial example: Lame and unoriginal\n",
            "Adversarial example: Well-paced thrillers\n",
            "Adversarial example: Annoying featured and dialogue\n",
            "Adversarial example: Captivating anecdote\n",
            "Adversarial example: Dull and prone\n",
            "Adversarial example: Outstanding instructions and screenplays\n",
            "Adversarial example: Misses depth and substance\n",
            "Adversarial example: Implicate from cranking to end\n",
            "Adversarial example: Foreseeable and cliche-ridden\n",
            "Adversarial example: Riveting and stiff\n",
            "Adversarial example: Uninspired and uninspired\n",
            "Adversarial example: Oscar-worthy reproductions\n",
            "Adversarial example: Formulaic and trite\n",
            "Adversarial example: A great cast but a uninspiring story.\n",
            "Adversarial example: The script was egregious and the acting wasn't uncommonly better.\n",
            "Adversarial example: I was wore to tears by this movie.\n",
            "Adversarial example: I expected best from this movie.\n",
            "Adversarial example: The dialogue was dorky and the characters were wicked developed.\n",
            "Adversarial example: I was disappointed by the shortages of originality in this movie.\n",
            "Adversarial example: une forgettable kino with no standout depictions.\n",
            "Adversarial example: I found this movie to be unengaging and uninspired.\n",
            "Adversarial example: De pacing was off and the story was unnerving.\n",
            "Adversarial example: I struggled to stay interested in this movie.\n",
            "Adversarial example: This movie was a complete litter of time.\n",
            "Adversarial example: The characters were unlikable and the story was uninspiring.\n",
            "Adversarial example: I was underwhelmed by this cinematic.\n",
            "Adversarial example: I regret wastage my time on this movie.\n",
            "Adversarial example: Nova halted was foreseeable and unsatisfying.\n",
            "Adversarial example: I found this movie to be decelerate and uninteresting.\n",
            "Adversarial example: The story believed unconnected and the characters were underdeveloped.\n",
            "Adversarial example: I was disappointed by the shortages of depth in this movie.\n",
            "Adversarial example: This movie aground to live up to its potential.\n",
            "Adversarial example: Of plot was stereotype and unoriginal.\n",
            "Adversarial example: The dashes was foreseeable and the performances were uninspired.\n",
            "Adversarial example: I didn't zorg about any of the characters in this movie.\n",
            "Adversarial example: De directives was uninspired and the conte was puny.\n",
            "Adversarial example: Of pacing was deceleration and the conte was uneventful.\n",
            "Adversarial example: The special effects were the only redeeming quality of this movie.\n",
            "Adversarial example: The behaved was muk and the story was uninspiring.\n",
            "Adversarial example: This movie was a discontent from start to finish.\n",
            "Adversarial example: I discoveries this movie to be monotonous and uninteresting.\n",
            "Adversarial example: The characters were one-dimensional and the story was uninspired.\n",
            "Adversarial example: This movie was a residue of my time and money.\n",
            "Adversarial example: Of plot was intricate and the pacing was off.\n",
            "Adversarial example: I didn't zorg about anything that was happening in this cinematographic.\n",
            "Adversarial example: The draft was lazy and the acting was unimaginative.\n",
            "Adversarial example: I was underwhelmed by this cinematic.\n",
            "Adversarial example: The characters were plat and the conte was unoriginal.\n",
            "Adversarial example: This movie was a mayhem from beginning to end.\n",
            "Adversarial example: The story was unnerving and the pacing was lento.\n",
            "Adversarial example: The performances were bois and the story was unimaginative.\n",
            "Adversarial example: I was drilled out of my mind by this movie.\n",
            "Adversarial example: The directive was uninspired and the dashes was uninspired.\n",
            "Adversarial example: The pacing was lento and the story was foreseeable.\n",
            "Adversarial example: Nova behaved was uninspired and the story was deceleration.\n",
            "Adversarial example: Cette movie was a letdown from lancer to finish.\n",
            "Adversarial example: The characters were uninteresting and the fable was uninspiring.\n",
            "Adversarial example: I was disappoints by this movie.\n",
            "Adversarial example: This movie aground to holds my attention.\n",
            "Adversarial example: Of pacing was off and the featured were unimaginative.\n",
            "Adversarial example: I found this movie to be laborious and commonplace.\n",
            "Adversarial example: The story was fragility and the concerto were uninspired.\n",
            "Adversarial example: Cared the twists and turns.\n",
            "Adversarial example: Nie worth your time or money.\n",
            "Adversarial example: Predictable and galling storyline.\n",
            "Adversarial example: Egregious acting and a puzzling plot.\n",
            "Adversarial example: Couldn't take my eyes off the screen!\n",
            "Adversarial example: Nie as good as the hype suggests.\n",
            "Adversarial example: Better flick I've seen in years.\n",
            "Adversarial example: Just plain wicked. Don't squander your time.\n",
            "Adversarial example: Thoroughly pleasurable from beginning to end.\n",
            "Adversarial example: One of the gravest movies I've seen.\n",
            "Adversarial example: Kept me on the perimeter of my seat!\n",
            "Adversarial example: Poorly drafted with awry behaving.\n",
            "Adversarial example: The special effects were whopping.\n",
            "Adversarial example: Absolutely cared it! Severely recommend.\n",
            "Adversarial example: Detritus of times and money.\n",
            "Adversarial example: A movie that actually stays with you.\n",
            "Adversarial example: Disappointing ceases ruins otherwise good movie.\n",
            "Adversarial example: Nos my cup of tea. Would not recommend.\n",
            "Adversarial example: Captivating and beautifully felled.\n",
            "Adversarial example: A movie that leaves you thinking.\n",
            "Adversarial example: Entertaining but nada special.\n",
            "Adversarial example: Mere genius! une must-watch.\n",
            "Adversarial example: Clichés and unoriginal storyline.\n",
            "Adversarial example: Kept me guessing until the very discontinue!\n",
            "Adversarial example: Slow-moving with a unnerving plot.\n",
            "Adversarial example: One of the fatter cine I've seen.\n",
            "Adversarial example: Equally many plot holes to be enjoyable.\n",
            "Adversarial example: Gripping from cranking to finish!\n",
            "Adversarial example: Uninspiring at bestest. Wouldn't recommend.\n",
            "Adversarial example: Visually stunning but shortage substance.\n",
            "Adversarial example: A actual cinematic keystone.\n",
            "Adversarial example: Poorly served and amiss written.\n",
            "Adversarial example: Nie as good as I had expectation.\n",
            "Adversarial example: Cold and thought-provoking.\n",
            "Adversarial example: Intriguing concept but amiss executed.\n",
            "Adversarial example: une must-see for all gesture stalkers!\n",
            "Adversarial example: Foreseeable and unoriginal. Residues of time.\n",
            "Adversarial example: Great performances but a slow-moving plot.\n",
            "Adversarial example: Absolutely ponderous. A true labour of art.\n",
            "Adversarial example: Insipid and forgettable. Wouldn't proposal.\n",
            "Adversarial example: Surprisingly good! Much recommend.\n",
            "Adversarial example: Overkill and insufficiency substance.\n",
            "Adversarial example: Amazing fairytales with incredible gigs.\n",
            "Adversarial example: The acting was egregious and the intrigue executed no senses.\n",
            "Adversarial example: This was one of the fatter movies I have seen in a longer time.\n",
            "Adversarial example: The special influence were amazing but the story was lacking.\n",
            "Adversarial example: The characters were amiss crafted and the dialogue was cringe-worthy.\n",
            "Adversarial example: The cinematography was sumptuous and the acting was sumptuous.\n",
            "Adversarial example: The humor was spot-on and the chemist between the actors was sizeable.\n",
            "Adversarial example: To story was persuasive and the acting was sumptuous.\n",
            "Adversarial example: The pacing was deceleration and the dialogue felt compelled.\n",
            "Adversarial example: I was pleasantly surprised by how much I cared this kino.\n",
            "Adversarial example: The music was peachy and the photographs were stunning.\n",
            "Adversarial example: The story was predictable but the acting was great.\n",
            "Adversarial example: The direction was peachy and the story was engaging.\n",
            "Adversarial example: The special influence were impressive but the story was lacking.\n",
            "Adversarial example: The script was prone and the featured were one-dimensional.\n",
            "Adversarial example: De debates felt stilted and the pacing was lento.\n",
            "Adversarial example: I wish I hadn't wasted my time and money on this movie.\n",
            "Adversarial example: The performances were uninspired and the storytelling was unimaginative.\n",
            "Adversarial example: Cette kino was overstated and didn't live up to my expectations.\n",
            "Adversarial example: To soundtrack was funky and the behaving was top-notch.\n",
            "Adversarial example: The chemistry between the actors was funky and the fairytales was engaging.\n",
            "Adversarial example: Aux cinematography was breathtaking and the fairytales was engrossing.\n",
            "Adversarial example: Cette movie was so mala I walked out of the opera.\n",
            "Adversarial example: De dialogue was dorky and the acting was unimaginative.\n",
            "Adversarial example: The pacing was lento and the characters were untapped.\n",
            "Adversarial example: The especial effects were impressive but the story was touchy.\n",
            "Adversarial example: Toward depictions were top-notch and the conte was moving.\n",
            "Adversarial example: The dashes was amiss written and the characters were unlikeable.\n",
            "Adversarial example: To acting was muk and the story was uninspiring.\n",
            "Adversarial example: Great cine!\n",
            "Adversarial example: Harrowing plot.\n",
            "Adversarial example: Like it.\n",
            "Adversarial example: Hate it!\n",
            "Adversarial example: The gravest film.\n",
            "Adversarial example: Better movie ever.\n",
            "Adversarial example: Can't stands it.\n",
            "Adversarial example: Absolutely overdressed!\n",
            "Adversarial example: Egregious acting.\n",
            "Adversarial example: Amazing flick.\n",
            "Adversarial example: Discouraging.\n",
            "Adversarial example: I loved the cinema, it was handsome\n",
            "Adversarial example: The movie was egregious, I wouldn't recommend it to anyone\n",
            "Adversarial example: Such a bulk film, overtly worth watching\n",
            "Adversarial example: The acting was breathtaking, but the plot was touchy\n",
            "Adversarial example: I finds the movie to be abundantly pesky, wouldn't watch it again\n",
            "Adversarial example: Absolutely amazing cine, overstepped my outlook\n",
            "Adversarial example: The fairytales was engrossing and kept me on the perimeter of my seat\n",
            "Adversarial example: The movie aground to impress me, very displeasure\n",
            "Adversarial example: Magnifique cine with great cinematography\n",
            "Adversarial example: I don't generally watch this sorts of cinemas, but this one was worth it\n",
            "Adversarial example: Nova hyphen was weak, devastated an elsewhere good movie\n",
            "Adversarial example: Utterly bore, do not waste your time watching this\n",
            "Adversarial example: The cast did an unpaid jobs, strictly cared the movie\n",
            "Adversarial example: I was awaits more from this movie, didn't viva up to the hype\n",
            "Adversarial example: Considerably recommend this movie, worth any benny\n",
            "Adversarial example: The kino was a completed letdown, detritus of time\n",
            "Adversarial example: Great cine with inadequate twists and spins\n",
            "Adversarial example: I found the movie to be very foreseeable and stereotype\n",
            "Adversarial example: The soundtrack was funky and added so much to the movies\n",
            "Adversarial example: The acting was egregious and the plot was all over the placing\n",
            "Adversarial example: I was pleasantly surprised by this movie, didn't expect it to be this decent\n",
            "Adversarial example: I wouldn't recommend this movie to anyone, a complete displeasure\n",
            "Adversarial example: The cinematography was leggy, really added to the movie\n",
            "Adversarial example: I was drilled to tear watching this movie, would not propose\n",
            "Adversarial example: An incomprehensible movie with pompous performances from the cast\n",
            "Adversarial example: Nova kino lacked substance and failed to leave an incidence\n",
            "Adversarial example: I was on the edge of my seating throughout the entire movie, severely proposals\n",
            "Adversarial example: The movie was a mayhem, the story made no sens\n",
            "Adversarial example: Stupendous cine with a magnifique storyline\n",
            "Adversarial example: I found the movie to be acutely uninspired and uninteresting\n",
            "Adversarial example: The movie kept me guessing until the very end, much recommend\n",
            "Adversarial example: De acting was muk and the characters were amiss written\n",
            "Adversarial example: I was moved to tears by this flick, substantially recommend\n",
            "Adversarial example: Of kino was tremendously pesky, wouldn't watch it again\n",
            "Adversarial example: Such a pompous movie with sizeable performances from the cast\n",
            "Adversarial example: Nova kino was a letdown, didn't brash up to my expectations\n",
            "Adversarial example: Fantastic film, I was hooked from cranking to finish\n",
            "Adversarial example: The script was towering and the movie was amiss executed\n",
            "Adversarial example: I should definitely proposed this cinemas, one of the better I've estimated in a while\n",
            "Adversarial example: Nova movie was underwhelming and misses depths\n",
            "Adversarial example: The photographs in the movie were sumptuous, really add to the experience\n",
            "Adversarial example: I found the movie to be quite cheesy and foreseeable\n",
            "Adversarial example: The movie had me on the edge of my seat, considerably recommend\n",
            "Adversarial example: I was foils by this movie, didn't vivo up to the hoopla\n",
            "Adversarial example: Such a heartwarming cine, much proposes\n",
            "Adversarial example: Nova kino was a complete mess, didn't make any sens\n",
            "Adversarial example: Stupendous cine with a only storyline\n",
            "Adversarial example: The movie was uninspiring and dearth influence\n",
            "Adversarial example: I was completely engrossed in the movie, severely proposals\n",
            "Adversarial example: The movie was a complete residue of time, wouldn't recommend\n",
            "Adversarial example: This movie had me on an affective rollercoaster, severely recommend\n",
            "Adversarial example: The plot was amiss developed and the acting was magnificent\n",
            "Adversarial example: Drilled and foregone.\n",
            "Adversarial example: Fantastic cine with amazing gigs.\n",
            "Adversarial example: It was a complete detritus of day.\n",
            "Adversarial example: The histories was mean and well-written.\n",
            "Adversarial example: I couldn't wait for it to be over.\n",
            "Adversarial example: De behaving was uninspired and the plot was fina.\n",
            "Adversarial example: This film is a geometrical.\n",
            "Adversarial example: Too lang and too slows.\n",
            "Adversarial example: The hilarious was cringeworthy.\n",
            "Adversarial example: I was on the edge of my seat the entire time.\n",
            "Adversarial example: The special effects were whopping.\n",
            "Adversarial example: I didn't zorg about any of the characters.\n",
            "Adversarial example: The cinematography was breathless.\n",
            "Adversarial example: I find it to be thought-provoking and pompous.\n",
            "Adversarial example: The finalize was unsatisfying.\n",
            "Adversarial example: A egregious movie with shocking acting.\n",
            "Adversarial example: This is a must-see films!\n",
            "Adversarial example: The pacing was perfect.\n",
            "Adversarial example: De typist was lazy and unoriginal.\n",
            "Adversarial example: It was a visual exhibitions.\n",
            "Adversarial example: I was moved to tears.\n",
            "Adversarial example: De dialogue was woods and unnatural.\n",
            "Adversarial example: The direction was unpaid.\n",
            "Adversarial example: It was unnerving and intricate.\n",
            "Adversarial example: I would recommend this movie to somebody.\n",
            "Adversarial example: The score was beautiful.\n",
            "Adversarial example: I was disappointed by the shortages of hallmarks shift.\n",
            "Adversarial example: The story was afflicts and candid.\n",
            "Adversarial example: I was pleasantly surprised by how much I enjoyed it.\n",
            "Adversarial example: The action scenes were stiff and thrilling.\n",
            "Adversarial example: It was a mayhem from start to finish.\n",
            "Adversarial example: The performances were unpaid.\n",
            "Adversarial example: De parcels was foregone and unoriginal.\n",
            "Adversarial example: I was bores to mourns.\n",
            "Adversarial example: The visuals were breathless.\n",
            "Adversarial example: It was a well-crafted and smarter cinematography.\n",
            "Adversarial example: De history was formulaic and uninteresting.\n",
            "Adversarial example: This movie overstepped my expectations.\n",
            "Adversarial example: The dialogue was abrupt and witty.\n",
            "Adversarial example: I couldn't supervises the plot.\n",
            "Adversarial example: The behaving was top-notch.\n",
            "Adversarial example: It was a unimaginative movie with forgettable featured.\n",
            "Adversarial example: Of pacing was too slows for my gusto.\n",
            "Adversarial example: It was a vigorous and emotional savor.\n",
            "Adversarial example: Of characters were amiss written and poorly served.\n",
            "Adversarial example: It was a droll and distracting movie.\n",
            "Adversarial example: The edition was stormy and disjointed.\n",
            "Adversarial example: The story was engrossing and engrossing.\n",
            "Adversarial example: De cinematographer was puny.\n",
            "Adversarial example: It was a residues of periods and money.\n",
            "Adversarial example: I was completely engrossed in the conte.\n",
            "Adversarial example: The acted was bois and uninspired.\n",
            "Adversarial example: It was a visually sumptuous cine.\n",
            "Adversarial example: The plot was unnerving and convoluted.\n",
            "Adversarial example: I was disappointed by the mistook of preliminary.\n",
            "Adversarial example: The pacing was irreproachable for the story.\n",
            "Adversarial example: It was a afflicts and heartwarming kino.\n",
            "Adversarial example: The unique influences were underwhelming.\n",
            "Adversarial example: I was drilled out of my geist.\n",
            "Adversarial example: The performances were uninspired at exemplary.\n",
            "Adversarial example: It was a thought-provoking and wiser kino.\n",
            "Adversarial example: The intrigue was engage and well-developed.\n",
            "Adversarial example: I found it to be grandiose and self-important.\n",
            "Adversarial example: For direction was masterful.\n",
            "Adversarial example: It was a unimaginative movie with forgettable featured.\n",
            "Adversarial example: The humor was hilarious.\n",
            "Adversarial example: De story was touchy and uninteresting.\n",
            "Adversarial example: I was blown away by the whopping visuals.\n",
            "Adversarial example: The acting was superb.\n",
            "Adversarial example: It was a intricate mess of a movie.\n",
            "Adversarial example: I was disappointed by the shortages of depth.\n",
            "Adversarial example: Of pacing was too doldrums and meander.\n",
            "Adversarial example: It was a powerful and nagging film.\n",
            "Adversarial example: The featured were amiss written and undeveloped.\n",
            "Adversarial example: A thrilling wrinkle!\n",
            "Adversarial example: I was on the edge of my seat.\n",
            "Adversarial example: Incredible fairytales and acting.\n",
            "Adversarial example: une true centerpiece.\n",
            "Adversarial example: Disappointing and diameter.\n",
            "Adversarial example: I wouldn't suggestions it.\n",
            "Adversarial example: A fun and droll films.\n",
            "Adversarial example: The special effects were whopping.\n",
            "Adversarial example: A great readjust of the cookbook.\n",
            "Adversarial example: I couldn't stop laughing.\n",
            "Adversarial example: una bit slow and foregone.\n",
            "Adversarial example: The idiosyncrasies were well-developed.\n",
            "Adversarial example: Nie my cup of tea.\n",
            "Adversarial example: A nice and moving fairytales.\n",
            "Adversarial example: The plot was unnerving.\n",
            "Adversarial example: I'm still thinking about it days later.\n",
            "Adversarial example: I declined asleep halfway through.\n",
            "Adversarial example: A fever that still holds up.\n",
            "Adversarial example: I don't fathom the hype.\n",
            "Adversarial example: I couldn't take my eyes off the sieve.\n",
            "Adversarial example: A pompous and emotional journey.\n",
            "Adversarial example: The acting was woods and intense.\n",
            "Adversarial example: It overmatched my expectations.\n",
            "Adversarial example: De humor decrease flat for me.\n",
            "Adversarial example: I'm glad I didn't pay to see it.\n",
            "Adversarial example: A heartwarming and inspiring historian.\n",
            "Adversarial example: I've never seen anything like it.\n",
            "Adversarial example: The pacing was perfect.\n",
            "Adversarial example: It believed like a residue of time.\n",
            "Adversarial example: A cinematic wins.\n",
            "Adversarial example: I couldn't supervises the plot.\n",
            "Adversarial example: The music was leggy and haunting.\n",
            "Adversarial example: It absence depth and substance.\n",
            "Adversarial example: A sexier and suspenseful film.\n",
            "Adversarial example: I was on the edge of my seat the whole time.\n",
            "Adversarial example: The debriefed was clunky and obliged.\n",
            "Adversarial example: It walkout me feel empty and unsatisfied.\n",
            "Adversarial example: A large movie for a night in.\n",
            "Adversarial example: The special effects were compelling.\n",
            "Adversarial example: The story was engage and kept me guessing.\n",
            "Adversarial example: I was pleasantly surprised by how much I enjoyed it.\n",
            "Adversarial example: The ceases was a letdown.\n",
            "Adversarial example: I desirous I hadn't wasted my time.\n",
            "Adversarial example: A visually cannot work of arte.\n",
            "Adversarial example: It was nada like the trailer advertised.\n",
            "Adversarial example: The performances were unpaid.\n",
            "Adversarial example: It didn't iive up to the fanfare.\n",
            "Adversarial example: A actual cinematic gem.\n",
            "Adversarial example: I couldn't concerning to the characters.\n",
            "Adversarial example: The cinematography was breathless.\n",
            "Adversarial example: I found it mystifying and painstaking to follow.\n",
            "Adversarial example: A must-see for any cine lover.\n",
            "Adversarial example: Of pacing was too slow.\n",
            "Adversarial example: I wouldn't proposed it to anyone.\n",
            "Adversarial example: A sizable films with a powerful message.\n",
            "Adversarial example: I was disappointed by the lacked of hallmarks shift.\n",
            "Adversarial example: The special effects were fragility.\n",
            "Adversarial example: It overstepped my expectations in every way.\n",
            "Adversarial example: The dashes was fragility and uninspired.\n",
            "Adversarial example: I don't understand why anyone would like this.\n",
            "Adversarial example: une heartwarming and charmer story.\n",
            "Adversarial example: Of plot was foreseeable and clichés.\n",
            "Adversarial example: It walkout me feel angry and frustrated.\n",
            "Adversarial example: A fever that still holds up today.\n",
            "Adversarial example: I couldn't login with the character.\n",
            "Adversarial example: The score was leggy and moving.\n",
            "Adversarial example: It was too prolonged and dragged on.\n",
            "Adversarial example: A movie that will stay with you longer after it's over.\n",
            "Adversarial example: I didn't zorg for the main character.\n",
            "Adversarial example: The direction was masterly.\n",
            "Adversarial example: It didn't iive up to the paper.\n",
            "Adversarial example: A nice and captivating films.\n",
            "Adversarial example: I couldn't believe how wicked it was.\n",
            "Adversarial example: The story was attractive and kept me hooked.\n",
            "Adversarial example: It was a residue of my time and money.\n",
            "Adversarial example: A sizable movie with ravishing acting.\n",
            "Adversarial example: I discoveries the plot to be bore and predictable.\n",
            "Adversarial example: This film was awfully moving and well made.\n",
            "Adversarial example: To special influencing were amazing but the story fell flat.\n",
            "Adversarial example: I couldn't stop laughing around the entire movie.\n",
            "Adversarial example: Ce movie kept me on the edge of my seat the any temps.\n",
            "Adversarial example: The idiosyncrasies were well-developed and relatable.\n",
            "Adversarial example: I was disappointed by the shortages of hallmarks shift.\n",
            "Adversarial example: I hoped the cinematography and visuals in this cinematography.\n",
            "Adversarial example: De deliberations was clunky and believed forced.\n",
            "Adversarial example: The pacing of the cine was just right.\n",
            "Adversarial example: I was diameter throughout the entire film.\n",
            "Adversarial example: The activity sequences were excite and nice choreographed.\n",
            "Adversarial example: To plot twist at the end was unintended and satisfying.\n",
            "Adversarial example: The acting was forestry and uninspiring.\n",
            "Adversarial example: I ideas this cinematographic was overhyped and didn't live up to expectations.\n",
            "Adversarial example: The music was fine and adding to the emotional impact of the cine.\n",
            "Adversarial example: The script was amiss written and flunked depth.\n",
            "Adversarial example: I was pleasantly dismayed by how much I cared this film.\n",
            "Adversarial example: The featured were one-dimensional and uninteresting.\n",
            "Adversarial example: The cinematography was breathless and added to the totaled atmosphere of the cine.\n",
            "Adversarial example: I didn't realise the point of this movie.\n",
            "Adversarial example: This film had me in tears by the end.\n",
            "Adversarial example: The special effects were impressive but the anecdote was uninspired.\n",
            "Adversarial example: I was altogether engrossed in the storyline.\n",
            "Adversarial example: The talking was witty and well-written.\n",
            "Adversarial example: Of movie was too lange and dragged on.\n",
            "Adversarial example: I uncovering the cine to be thought-provoking and helpful.\n",
            "Adversarial example: For acting was top-notch and made the traits feel actual.\n",
            "Adversarial example: I was baffled by the plot and didn't savoir what was going on.\n",
            "Adversarial example: This movie was a riveting wrinkle from start to finish.\n",
            "Adversarial example: Of pacing was too deceleration and introduced the film feel monotonous.\n",
            "Adversarial example: I thought the cine was well-done and nice.\n",
            "Adversarial example: De characters were inconvenient and amiss written.\n",
            "Adversarial example: To special affected were lackluster and unimpressive.\n",
            "Adversarial example: This movies had me on the perimeter of my seat the totals time.\n",
            "Adversarial example: The story was exhilarating but the execution was underprivileged.\n",
            "Adversarial example: The acting was intense and persuasive.\n",
            "Adversarial example: I was surprised by how much I outlawed this movie.\n",
            "Adversarial example: The film was visually stunning but lacked substance.\n",
            "Adversarial example: The soundtrack was unpaid and added to the totals savor of the cine.\n",
            "Adversarial example: I found the idiosyncrasies to be relatable and well-rounded.\n",
            "Adversarial example: Of movie was a predictable and clichés devastation.\n",
            "Adversarial example: I was disappointed by the shortages of character development in the film.\n",
            "Adversarial example: The pacing was off and executed the movie feel disjointed.\n",
            "Adversarial example: I was thoroughly sidetracked by this movie.\n",
            "Adversarial example: The dialogues was stilted and challenge.\n",
            "Adversarial example: The cinematography was breathless and added to the affective afflicting of the cine.\n",
            "Adversarial example: The fairytales was engrossing and kept me engaged among the any cine.\n",
            "Adversarial example: The specialised effects were sumptuous and added to the overall experience of the cinematography.\n",
            "Adversarial example: I revealing the cinemas to be mentally resonant and well-crafted.\n",
            "Adversarial example: The response was unimaginative and forgettable.\n",
            "Adversarial example: The pacing of the theater was irreproachable and kept me incurred from start to finish.\n",
            "Adversarial example: I thought the movie was a complete residue of time.\n"
          ]
        }
      ]
    },
    {
      "cell_type": "code",
      "source": [
        "import csv\n",
        "csv_file_path = '/content/drive/MyDrive/Model/IGAWang2019_adv_examples.csv'\n",
        "# Write the adversarial examples to the CSV file\n",
        "with open(csv_file_path, mode='w', newline='', encoding='utf-8') as csv_file:\n",
        "    fieldnames = ['review', 'sentiment']\n",
        "    writer = csv.DictWriter(csv_file, fieldnames=fieldnames)\n",
        "    writer.writeheader()\n",
        "    for example in adv_texts:\n",
        "        writer.writerow({'review': example[0], 'sentiment': example[1]})"
      ],
      "metadata": {
        "id": "2Lqt0aVxgZDR"
      },
      "execution_count": null,
      "outputs": []
    },
    {
      "cell_type": "code",
      "source": [
        "# Tokenize the adversarial texts\n",
        "adv_inputs = tokenizer(list(adv_texts), padding=True, truncation=True, max_length=128, return_tensors='tf')\n",
        "\n",
        "# Evaluate accuracy using the adversarial examples\n",
        "adv_preds = model_wrapper.model(adv_inputs).logits.numpy().argmax(axis=1)\n",
        "adv_acc = (adv_preds == labels).mean()\n",
        "\n",
        "print(f\"Adversarial accuracy: {adv_acc*100:.4f}%\")"
      ],
      "metadata": {
        "colab": {
          "base_uri": "https://localhost:8080/"
        },
        "id": "jTzjhKoQdBKk",
        "outputId": "d6f0c3a1-8a02-40f2-9fc1-95525447c871"
      },
      "execution_count": null,
      "outputs": [
        {
          "output_type": "stream",
          "name": "stdout",
          "text": [
            "Adversarial accuracy: 74.2200%\n"
          ]
        }
      ]
    }
  ]
}