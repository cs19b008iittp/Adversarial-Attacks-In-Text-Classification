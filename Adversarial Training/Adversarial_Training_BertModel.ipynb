{
  "nbformat": 4,
  "nbformat_minor": 0,
  "metadata": {
    "colab": {
      "provenance": []
    },
    "kernelspec": {
      "name": "python3",
      "display_name": "Python 3"
    },
    "language_info": {
      "name": "python"
    },
    "accelerator": "GPU",
    "gpuClass": "standard",
    "widgets": {
      "application/vnd.jupyter.widget-state+json": {
        "750f929d9ffb4692a45c4b37dfae5c05": {
          "model_module": "@jupyter-widgets/controls",
          "model_name": "HBoxModel",
          "model_module_version": "1.5.0",
          "state": {
            "_dom_classes": [],
            "_model_module": "@jupyter-widgets/controls",
            "_model_module_version": "1.5.0",
            "_model_name": "HBoxModel",
            "_view_count": null,
            "_view_module": "@jupyter-widgets/controls",
            "_view_module_version": "1.5.0",
            "_view_name": "HBoxView",
            "box_style": "",
            "children": [
              "IPY_MODEL_450f0211105f4720a4f0ac97b42261bc",
              "IPY_MODEL_62691a9448bc4ac3851599a8b8afe924",
              "IPY_MODEL_250d01f2556b45d1bdce1b8de1acd66a"
            ],
            "layout": "IPY_MODEL_6130830fa4ca46c2a4f725c9d7737164"
          }
        },
        "450f0211105f4720a4f0ac97b42261bc": {
          "model_module": "@jupyter-widgets/controls",
          "model_name": "HTMLModel",
          "model_module_version": "1.5.0",
          "state": {
            "_dom_classes": [],
            "_model_module": "@jupyter-widgets/controls",
            "_model_module_version": "1.5.0",
            "_model_name": "HTMLModel",
            "_view_count": null,
            "_view_module": "@jupyter-widgets/controls",
            "_view_module_version": "1.5.0",
            "_view_name": "HTMLView",
            "description": "",
            "description_tooltip": null,
            "layout": "IPY_MODEL_e5b65001fa6a4b9095946f92156c1322",
            "placeholder": "​",
            "style": "IPY_MODEL_2858d72172254df9979def3c0c2c8c73",
            "value": "Downloading (…)solve/main/vocab.txt: 100%"
          }
        },
        "62691a9448bc4ac3851599a8b8afe924": {
          "model_module": "@jupyter-widgets/controls",
          "model_name": "FloatProgressModel",
          "model_module_version": "1.5.0",
          "state": {
            "_dom_classes": [],
            "_model_module": "@jupyter-widgets/controls",
            "_model_module_version": "1.5.0",
            "_model_name": "FloatProgressModel",
            "_view_count": null,
            "_view_module": "@jupyter-widgets/controls",
            "_view_module_version": "1.5.0",
            "_view_name": "ProgressView",
            "bar_style": "success",
            "description": "",
            "description_tooltip": null,
            "layout": "IPY_MODEL_a995f2aa96f54987bd48602ff770d148",
            "max": 231508,
            "min": 0,
            "orientation": "horizontal",
            "style": "IPY_MODEL_fd83e19f79cc4d5c860a147002fd5685",
            "value": 231508
          }
        },
        "250d01f2556b45d1bdce1b8de1acd66a": {
          "model_module": "@jupyter-widgets/controls",
          "model_name": "HTMLModel",
          "model_module_version": "1.5.0",
          "state": {
            "_dom_classes": [],
            "_model_module": "@jupyter-widgets/controls",
            "_model_module_version": "1.5.0",
            "_model_name": "HTMLModel",
            "_view_count": null,
            "_view_module": "@jupyter-widgets/controls",
            "_view_module_version": "1.5.0",
            "_view_name": "HTMLView",
            "description": "",
            "description_tooltip": null,
            "layout": "IPY_MODEL_ce2b7c55095a4191aa993618f322528b",
            "placeholder": "​",
            "style": "IPY_MODEL_242e243bc59a4feda1c4129833470c67",
            "value": " 232k/232k [00:00&lt;00:00, 6.29MB/s]"
          }
        },
        "6130830fa4ca46c2a4f725c9d7737164": {
          "model_module": "@jupyter-widgets/base",
          "model_name": "LayoutModel",
          "model_module_version": "1.2.0",
          "state": {
            "_model_module": "@jupyter-widgets/base",
            "_model_module_version": "1.2.0",
            "_model_name": "LayoutModel",
            "_view_count": null,
            "_view_module": "@jupyter-widgets/base",
            "_view_module_version": "1.2.0",
            "_view_name": "LayoutView",
            "align_content": null,
            "align_items": null,
            "align_self": null,
            "border": null,
            "bottom": null,
            "display": null,
            "flex": null,
            "flex_flow": null,
            "grid_area": null,
            "grid_auto_columns": null,
            "grid_auto_flow": null,
            "grid_auto_rows": null,
            "grid_column": null,
            "grid_gap": null,
            "grid_row": null,
            "grid_template_areas": null,
            "grid_template_columns": null,
            "grid_template_rows": null,
            "height": null,
            "justify_content": null,
            "justify_items": null,
            "left": null,
            "margin": null,
            "max_height": null,
            "max_width": null,
            "min_height": null,
            "min_width": null,
            "object_fit": null,
            "object_position": null,
            "order": null,
            "overflow": null,
            "overflow_x": null,
            "overflow_y": null,
            "padding": null,
            "right": null,
            "top": null,
            "visibility": null,
            "width": null
          }
        },
        "e5b65001fa6a4b9095946f92156c1322": {
          "model_module": "@jupyter-widgets/base",
          "model_name": "LayoutModel",
          "model_module_version": "1.2.0",
          "state": {
            "_model_module": "@jupyter-widgets/base",
            "_model_module_version": "1.2.0",
            "_model_name": "LayoutModel",
            "_view_count": null,
            "_view_module": "@jupyter-widgets/base",
            "_view_module_version": "1.2.0",
            "_view_name": "LayoutView",
            "align_content": null,
            "align_items": null,
            "align_self": null,
            "border": null,
            "bottom": null,
            "display": null,
            "flex": null,
            "flex_flow": null,
            "grid_area": null,
            "grid_auto_columns": null,
            "grid_auto_flow": null,
            "grid_auto_rows": null,
            "grid_column": null,
            "grid_gap": null,
            "grid_row": null,
            "grid_template_areas": null,
            "grid_template_columns": null,
            "grid_template_rows": null,
            "height": null,
            "justify_content": null,
            "justify_items": null,
            "left": null,
            "margin": null,
            "max_height": null,
            "max_width": null,
            "min_height": null,
            "min_width": null,
            "object_fit": null,
            "object_position": null,
            "order": null,
            "overflow": null,
            "overflow_x": null,
            "overflow_y": null,
            "padding": null,
            "right": null,
            "top": null,
            "visibility": null,
            "width": null
          }
        },
        "2858d72172254df9979def3c0c2c8c73": {
          "model_module": "@jupyter-widgets/controls",
          "model_name": "DescriptionStyleModel",
          "model_module_version": "1.5.0",
          "state": {
            "_model_module": "@jupyter-widgets/controls",
            "_model_module_version": "1.5.0",
            "_model_name": "DescriptionStyleModel",
            "_view_count": null,
            "_view_module": "@jupyter-widgets/base",
            "_view_module_version": "1.2.0",
            "_view_name": "StyleView",
            "description_width": ""
          }
        },
        "a995f2aa96f54987bd48602ff770d148": {
          "model_module": "@jupyter-widgets/base",
          "model_name": "LayoutModel",
          "model_module_version": "1.2.0",
          "state": {
            "_model_module": "@jupyter-widgets/base",
            "_model_module_version": "1.2.0",
            "_model_name": "LayoutModel",
            "_view_count": null,
            "_view_module": "@jupyter-widgets/base",
            "_view_module_version": "1.2.0",
            "_view_name": "LayoutView",
            "align_content": null,
            "align_items": null,
            "align_self": null,
            "border": null,
            "bottom": null,
            "display": null,
            "flex": null,
            "flex_flow": null,
            "grid_area": null,
            "grid_auto_columns": null,
            "grid_auto_flow": null,
            "grid_auto_rows": null,
            "grid_column": null,
            "grid_gap": null,
            "grid_row": null,
            "grid_template_areas": null,
            "grid_template_columns": null,
            "grid_template_rows": null,
            "height": null,
            "justify_content": null,
            "justify_items": null,
            "left": null,
            "margin": null,
            "max_height": null,
            "max_width": null,
            "min_height": null,
            "min_width": null,
            "object_fit": null,
            "object_position": null,
            "order": null,
            "overflow": null,
            "overflow_x": null,
            "overflow_y": null,
            "padding": null,
            "right": null,
            "top": null,
            "visibility": null,
            "width": null
          }
        },
        "fd83e19f79cc4d5c860a147002fd5685": {
          "model_module": "@jupyter-widgets/controls",
          "model_name": "ProgressStyleModel",
          "model_module_version": "1.5.0",
          "state": {
            "_model_module": "@jupyter-widgets/controls",
            "_model_module_version": "1.5.0",
            "_model_name": "ProgressStyleModel",
            "_view_count": null,
            "_view_module": "@jupyter-widgets/base",
            "_view_module_version": "1.2.0",
            "_view_name": "StyleView",
            "bar_color": null,
            "description_width": ""
          }
        },
        "ce2b7c55095a4191aa993618f322528b": {
          "model_module": "@jupyter-widgets/base",
          "model_name": "LayoutModel",
          "model_module_version": "1.2.0",
          "state": {
            "_model_module": "@jupyter-widgets/base",
            "_model_module_version": "1.2.0",
            "_model_name": "LayoutModel",
            "_view_count": null,
            "_view_module": "@jupyter-widgets/base",
            "_view_module_version": "1.2.0",
            "_view_name": "LayoutView",
            "align_content": null,
            "align_items": null,
            "align_self": null,
            "border": null,
            "bottom": null,
            "display": null,
            "flex": null,
            "flex_flow": null,
            "grid_area": null,
            "grid_auto_columns": null,
            "grid_auto_flow": null,
            "grid_auto_rows": null,
            "grid_column": null,
            "grid_gap": null,
            "grid_row": null,
            "grid_template_areas": null,
            "grid_template_columns": null,
            "grid_template_rows": null,
            "height": null,
            "justify_content": null,
            "justify_items": null,
            "left": null,
            "margin": null,
            "max_height": null,
            "max_width": null,
            "min_height": null,
            "min_width": null,
            "object_fit": null,
            "object_position": null,
            "order": null,
            "overflow": null,
            "overflow_x": null,
            "overflow_y": null,
            "padding": null,
            "right": null,
            "top": null,
            "visibility": null,
            "width": null
          }
        },
        "242e243bc59a4feda1c4129833470c67": {
          "model_module": "@jupyter-widgets/controls",
          "model_name": "DescriptionStyleModel",
          "model_module_version": "1.5.0",
          "state": {
            "_model_module": "@jupyter-widgets/controls",
            "_model_module_version": "1.5.0",
            "_model_name": "DescriptionStyleModel",
            "_view_count": null,
            "_view_module": "@jupyter-widgets/base",
            "_view_module_version": "1.2.0",
            "_view_name": "StyleView",
            "description_width": ""
          }
        },
        "7b69fef5165e4cc786f057ffca221115": {
          "model_module": "@jupyter-widgets/controls",
          "model_name": "HBoxModel",
          "model_module_version": "1.5.0",
          "state": {
            "_dom_classes": [],
            "_model_module": "@jupyter-widgets/controls",
            "_model_module_version": "1.5.0",
            "_model_name": "HBoxModel",
            "_view_count": null,
            "_view_module": "@jupyter-widgets/controls",
            "_view_module_version": "1.5.0",
            "_view_name": "HBoxView",
            "box_style": "",
            "children": [
              "IPY_MODEL_df3ddd8ee1a748d08fa584c3c8df26f0",
              "IPY_MODEL_2466886350e64731a6e916f3dfc1e23a",
              "IPY_MODEL_04a8cff04eaf44b1ad0278d8591732ee"
            ],
            "layout": "IPY_MODEL_d4a5ee1e12ed494b9110f175f481bd0b"
          }
        },
        "df3ddd8ee1a748d08fa584c3c8df26f0": {
          "model_module": "@jupyter-widgets/controls",
          "model_name": "HTMLModel",
          "model_module_version": "1.5.0",
          "state": {
            "_dom_classes": [],
            "_model_module": "@jupyter-widgets/controls",
            "_model_module_version": "1.5.0",
            "_model_name": "HTMLModel",
            "_view_count": null,
            "_view_module": "@jupyter-widgets/controls",
            "_view_module_version": "1.5.0",
            "_view_name": "HTMLView",
            "description": "",
            "description_tooltip": null,
            "layout": "IPY_MODEL_6a6cab400dac439e9ff08929c421ad5b",
            "placeholder": "​",
            "style": "IPY_MODEL_52e21f362af441df81ca6c2d13e2ff35",
            "value": "Downloading (…)okenizer_config.json: 100%"
          }
        },
        "2466886350e64731a6e916f3dfc1e23a": {
          "model_module": "@jupyter-widgets/controls",
          "model_name": "FloatProgressModel",
          "model_module_version": "1.5.0",
          "state": {
            "_dom_classes": [],
            "_model_module": "@jupyter-widgets/controls",
            "_model_module_version": "1.5.0",
            "_model_name": "FloatProgressModel",
            "_view_count": null,
            "_view_module": "@jupyter-widgets/controls",
            "_view_module_version": "1.5.0",
            "_view_name": "ProgressView",
            "bar_style": "success",
            "description": "",
            "description_tooltip": null,
            "layout": "IPY_MODEL_ca0f7610d50c484ea0464929fe26216b",
            "max": 28,
            "min": 0,
            "orientation": "horizontal",
            "style": "IPY_MODEL_dd1322e1158341acb84cc08b31a2d1d6",
            "value": 28
          }
        },
        "04a8cff04eaf44b1ad0278d8591732ee": {
          "model_module": "@jupyter-widgets/controls",
          "model_name": "HTMLModel",
          "model_module_version": "1.5.0",
          "state": {
            "_dom_classes": [],
            "_model_module": "@jupyter-widgets/controls",
            "_model_module_version": "1.5.0",
            "_model_name": "HTMLModel",
            "_view_count": null,
            "_view_module": "@jupyter-widgets/controls",
            "_view_module_version": "1.5.0",
            "_view_name": "HTMLView",
            "description": "",
            "description_tooltip": null,
            "layout": "IPY_MODEL_7cc7f0254f1642309718d8d5f751b81e",
            "placeholder": "​",
            "style": "IPY_MODEL_040afe15db4d4b95928b2d8de508652c",
            "value": " 28.0/28.0 [00:00&lt;00:00, 1.49kB/s]"
          }
        },
        "d4a5ee1e12ed494b9110f175f481bd0b": {
          "model_module": "@jupyter-widgets/base",
          "model_name": "LayoutModel",
          "model_module_version": "1.2.0",
          "state": {
            "_model_module": "@jupyter-widgets/base",
            "_model_module_version": "1.2.0",
            "_model_name": "LayoutModel",
            "_view_count": null,
            "_view_module": "@jupyter-widgets/base",
            "_view_module_version": "1.2.0",
            "_view_name": "LayoutView",
            "align_content": null,
            "align_items": null,
            "align_self": null,
            "border": null,
            "bottom": null,
            "display": null,
            "flex": null,
            "flex_flow": null,
            "grid_area": null,
            "grid_auto_columns": null,
            "grid_auto_flow": null,
            "grid_auto_rows": null,
            "grid_column": null,
            "grid_gap": null,
            "grid_row": null,
            "grid_template_areas": null,
            "grid_template_columns": null,
            "grid_template_rows": null,
            "height": null,
            "justify_content": null,
            "justify_items": null,
            "left": null,
            "margin": null,
            "max_height": null,
            "max_width": null,
            "min_height": null,
            "min_width": null,
            "object_fit": null,
            "object_position": null,
            "order": null,
            "overflow": null,
            "overflow_x": null,
            "overflow_y": null,
            "padding": null,
            "right": null,
            "top": null,
            "visibility": null,
            "width": null
          }
        },
        "6a6cab400dac439e9ff08929c421ad5b": {
          "model_module": "@jupyter-widgets/base",
          "model_name": "LayoutModel",
          "model_module_version": "1.2.0",
          "state": {
            "_model_module": "@jupyter-widgets/base",
            "_model_module_version": "1.2.0",
            "_model_name": "LayoutModel",
            "_view_count": null,
            "_view_module": "@jupyter-widgets/base",
            "_view_module_version": "1.2.0",
            "_view_name": "LayoutView",
            "align_content": null,
            "align_items": null,
            "align_self": null,
            "border": null,
            "bottom": null,
            "display": null,
            "flex": null,
            "flex_flow": null,
            "grid_area": null,
            "grid_auto_columns": null,
            "grid_auto_flow": null,
            "grid_auto_rows": null,
            "grid_column": null,
            "grid_gap": null,
            "grid_row": null,
            "grid_template_areas": null,
            "grid_template_columns": null,
            "grid_template_rows": null,
            "height": null,
            "justify_content": null,
            "justify_items": null,
            "left": null,
            "margin": null,
            "max_height": null,
            "max_width": null,
            "min_height": null,
            "min_width": null,
            "object_fit": null,
            "object_position": null,
            "order": null,
            "overflow": null,
            "overflow_x": null,
            "overflow_y": null,
            "padding": null,
            "right": null,
            "top": null,
            "visibility": null,
            "width": null
          }
        },
        "52e21f362af441df81ca6c2d13e2ff35": {
          "model_module": "@jupyter-widgets/controls",
          "model_name": "DescriptionStyleModel",
          "model_module_version": "1.5.0",
          "state": {
            "_model_module": "@jupyter-widgets/controls",
            "_model_module_version": "1.5.0",
            "_model_name": "DescriptionStyleModel",
            "_view_count": null,
            "_view_module": "@jupyter-widgets/base",
            "_view_module_version": "1.2.0",
            "_view_name": "StyleView",
            "description_width": ""
          }
        },
        "ca0f7610d50c484ea0464929fe26216b": {
          "model_module": "@jupyter-widgets/base",
          "model_name": "LayoutModel",
          "model_module_version": "1.2.0",
          "state": {
            "_model_module": "@jupyter-widgets/base",
            "_model_module_version": "1.2.0",
            "_model_name": "LayoutModel",
            "_view_count": null,
            "_view_module": "@jupyter-widgets/base",
            "_view_module_version": "1.2.0",
            "_view_name": "LayoutView",
            "align_content": null,
            "align_items": null,
            "align_self": null,
            "border": null,
            "bottom": null,
            "display": null,
            "flex": null,
            "flex_flow": null,
            "grid_area": null,
            "grid_auto_columns": null,
            "grid_auto_flow": null,
            "grid_auto_rows": null,
            "grid_column": null,
            "grid_gap": null,
            "grid_row": null,
            "grid_template_areas": null,
            "grid_template_columns": null,
            "grid_template_rows": null,
            "height": null,
            "justify_content": null,
            "justify_items": null,
            "left": null,
            "margin": null,
            "max_height": null,
            "max_width": null,
            "min_height": null,
            "min_width": null,
            "object_fit": null,
            "object_position": null,
            "order": null,
            "overflow": null,
            "overflow_x": null,
            "overflow_y": null,
            "padding": null,
            "right": null,
            "top": null,
            "visibility": null,
            "width": null
          }
        },
        "dd1322e1158341acb84cc08b31a2d1d6": {
          "model_module": "@jupyter-widgets/controls",
          "model_name": "ProgressStyleModel",
          "model_module_version": "1.5.0",
          "state": {
            "_model_module": "@jupyter-widgets/controls",
            "_model_module_version": "1.5.0",
            "_model_name": "ProgressStyleModel",
            "_view_count": null,
            "_view_module": "@jupyter-widgets/base",
            "_view_module_version": "1.2.0",
            "_view_name": "StyleView",
            "bar_color": null,
            "description_width": ""
          }
        },
        "7cc7f0254f1642309718d8d5f751b81e": {
          "model_module": "@jupyter-widgets/base",
          "model_name": "LayoutModel",
          "model_module_version": "1.2.0",
          "state": {
            "_model_module": "@jupyter-widgets/base",
            "_model_module_version": "1.2.0",
            "_model_name": "LayoutModel",
            "_view_count": null,
            "_view_module": "@jupyter-widgets/base",
            "_view_module_version": "1.2.0",
            "_view_name": "LayoutView",
            "align_content": null,
            "align_items": null,
            "align_self": null,
            "border": null,
            "bottom": null,
            "display": null,
            "flex": null,
            "flex_flow": null,
            "grid_area": null,
            "grid_auto_columns": null,
            "grid_auto_flow": null,
            "grid_auto_rows": null,
            "grid_column": null,
            "grid_gap": null,
            "grid_row": null,
            "grid_template_areas": null,
            "grid_template_columns": null,
            "grid_template_rows": null,
            "height": null,
            "justify_content": null,
            "justify_items": null,
            "left": null,
            "margin": null,
            "max_height": null,
            "max_width": null,
            "min_height": null,
            "min_width": null,
            "object_fit": null,
            "object_position": null,
            "order": null,
            "overflow": null,
            "overflow_x": null,
            "overflow_y": null,
            "padding": null,
            "right": null,
            "top": null,
            "visibility": null,
            "width": null
          }
        },
        "040afe15db4d4b95928b2d8de508652c": {
          "model_module": "@jupyter-widgets/controls",
          "model_name": "DescriptionStyleModel",
          "model_module_version": "1.5.0",
          "state": {
            "_model_module": "@jupyter-widgets/controls",
            "_model_module_version": "1.5.0",
            "_model_name": "DescriptionStyleModel",
            "_view_count": null,
            "_view_module": "@jupyter-widgets/base",
            "_view_module_version": "1.2.0",
            "_view_name": "StyleView",
            "description_width": ""
          }
        },
        "f7a070b395e743169f3076638e42f06b": {
          "model_module": "@jupyter-widgets/controls",
          "model_name": "HBoxModel",
          "model_module_version": "1.5.0",
          "state": {
            "_dom_classes": [],
            "_model_module": "@jupyter-widgets/controls",
            "_model_module_version": "1.5.0",
            "_model_name": "HBoxModel",
            "_view_count": null,
            "_view_module": "@jupyter-widgets/controls",
            "_view_module_version": "1.5.0",
            "_view_name": "HBoxView",
            "box_style": "",
            "children": [
              "IPY_MODEL_43d622a46ff24095a797e9ba8379802c",
              "IPY_MODEL_20a6a00f0617485f9c490a882832a7a3",
              "IPY_MODEL_e567dfb3393c4940aed0d7707e2a475e"
            ],
            "layout": "IPY_MODEL_6b725fca9f24412d84b5813a5f2864d9"
          }
        },
        "43d622a46ff24095a797e9ba8379802c": {
          "model_module": "@jupyter-widgets/controls",
          "model_name": "HTMLModel",
          "model_module_version": "1.5.0",
          "state": {
            "_dom_classes": [],
            "_model_module": "@jupyter-widgets/controls",
            "_model_module_version": "1.5.0",
            "_model_name": "HTMLModel",
            "_view_count": null,
            "_view_module": "@jupyter-widgets/controls",
            "_view_module_version": "1.5.0",
            "_view_name": "HTMLView",
            "description": "",
            "description_tooltip": null,
            "layout": "IPY_MODEL_efe80e6b110540018418dd8a1af16423",
            "placeholder": "​",
            "style": "IPY_MODEL_a2f01115afc14a02bc6c231961833ea9",
            "value": "Downloading (…)lve/main/config.json: 100%"
          }
        },
        "20a6a00f0617485f9c490a882832a7a3": {
          "model_module": "@jupyter-widgets/controls",
          "model_name": "FloatProgressModel",
          "model_module_version": "1.5.0",
          "state": {
            "_dom_classes": [],
            "_model_module": "@jupyter-widgets/controls",
            "_model_module_version": "1.5.0",
            "_model_name": "FloatProgressModel",
            "_view_count": null,
            "_view_module": "@jupyter-widgets/controls",
            "_view_module_version": "1.5.0",
            "_view_name": "ProgressView",
            "bar_style": "success",
            "description": "",
            "description_tooltip": null,
            "layout": "IPY_MODEL_27e64b44ca8640d0b1a8b3a9587881f4",
            "max": 570,
            "min": 0,
            "orientation": "horizontal",
            "style": "IPY_MODEL_389d828807444d1e8fe5d84409cf0f28",
            "value": 570
          }
        },
        "e567dfb3393c4940aed0d7707e2a475e": {
          "model_module": "@jupyter-widgets/controls",
          "model_name": "HTMLModel",
          "model_module_version": "1.5.0",
          "state": {
            "_dom_classes": [],
            "_model_module": "@jupyter-widgets/controls",
            "_model_module_version": "1.5.0",
            "_model_name": "HTMLModel",
            "_view_count": null,
            "_view_module": "@jupyter-widgets/controls",
            "_view_module_version": "1.5.0",
            "_view_name": "HTMLView",
            "description": "",
            "description_tooltip": null,
            "layout": "IPY_MODEL_89fddd943ad0476486f1d45f981c493d",
            "placeholder": "​",
            "style": "IPY_MODEL_03f7b3611dfe4fa0a0ac31e2f699ed28",
            "value": " 570/570 [00:00&lt;00:00, 28.5kB/s]"
          }
        },
        "6b725fca9f24412d84b5813a5f2864d9": {
          "model_module": "@jupyter-widgets/base",
          "model_name": "LayoutModel",
          "model_module_version": "1.2.0",
          "state": {
            "_model_module": "@jupyter-widgets/base",
            "_model_module_version": "1.2.0",
            "_model_name": "LayoutModel",
            "_view_count": null,
            "_view_module": "@jupyter-widgets/base",
            "_view_module_version": "1.2.0",
            "_view_name": "LayoutView",
            "align_content": null,
            "align_items": null,
            "align_self": null,
            "border": null,
            "bottom": null,
            "display": null,
            "flex": null,
            "flex_flow": null,
            "grid_area": null,
            "grid_auto_columns": null,
            "grid_auto_flow": null,
            "grid_auto_rows": null,
            "grid_column": null,
            "grid_gap": null,
            "grid_row": null,
            "grid_template_areas": null,
            "grid_template_columns": null,
            "grid_template_rows": null,
            "height": null,
            "justify_content": null,
            "justify_items": null,
            "left": null,
            "margin": null,
            "max_height": null,
            "max_width": null,
            "min_height": null,
            "min_width": null,
            "object_fit": null,
            "object_position": null,
            "order": null,
            "overflow": null,
            "overflow_x": null,
            "overflow_y": null,
            "padding": null,
            "right": null,
            "top": null,
            "visibility": null,
            "width": null
          }
        },
        "efe80e6b110540018418dd8a1af16423": {
          "model_module": "@jupyter-widgets/base",
          "model_name": "LayoutModel",
          "model_module_version": "1.2.0",
          "state": {
            "_model_module": "@jupyter-widgets/base",
            "_model_module_version": "1.2.0",
            "_model_name": "LayoutModel",
            "_view_count": null,
            "_view_module": "@jupyter-widgets/base",
            "_view_module_version": "1.2.0",
            "_view_name": "LayoutView",
            "align_content": null,
            "align_items": null,
            "align_self": null,
            "border": null,
            "bottom": null,
            "display": null,
            "flex": null,
            "flex_flow": null,
            "grid_area": null,
            "grid_auto_columns": null,
            "grid_auto_flow": null,
            "grid_auto_rows": null,
            "grid_column": null,
            "grid_gap": null,
            "grid_row": null,
            "grid_template_areas": null,
            "grid_template_columns": null,
            "grid_template_rows": null,
            "height": null,
            "justify_content": null,
            "justify_items": null,
            "left": null,
            "margin": null,
            "max_height": null,
            "max_width": null,
            "min_height": null,
            "min_width": null,
            "object_fit": null,
            "object_position": null,
            "order": null,
            "overflow": null,
            "overflow_x": null,
            "overflow_y": null,
            "padding": null,
            "right": null,
            "top": null,
            "visibility": null,
            "width": null
          }
        },
        "a2f01115afc14a02bc6c231961833ea9": {
          "model_module": "@jupyter-widgets/controls",
          "model_name": "DescriptionStyleModel",
          "model_module_version": "1.5.0",
          "state": {
            "_model_module": "@jupyter-widgets/controls",
            "_model_module_version": "1.5.0",
            "_model_name": "DescriptionStyleModel",
            "_view_count": null,
            "_view_module": "@jupyter-widgets/base",
            "_view_module_version": "1.2.0",
            "_view_name": "StyleView",
            "description_width": ""
          }
        },
        "27e64b44ca8640d0b1a8b3a9587881f4": {
          "model_module": "@jupyter-widgets/base",
          "model_name": "LayoutModel",
          "model_module_version": "1.2.0",
          "state": {
            "_model_module": "@jupyter-widgets/base",
            "_model_module_version": "1.2.0",
            "_model_name": "LayoutModel",
            "_view_count": null,
            "_view_module": "@jupyter-widgets/base",
            "_view_module_version": "1.2.0",
            "_view_name": "LayoutView",
            "align_content": null,
            "align_items": null,
            "align_self": null,
            "border": null,
            "bottom": null,
            "display": null,
            "flex": null,
            "flex_flow": null,
            "grid_area": null,
            "grid_auto_columns": null,
            "grid_auto_flow": null,
            "grid_auto_rows": null,
            "grid_column": null,
            "grid_gap": null,
            "grid_row": null,
            "grid_template_areas": null,
            "grid_template_columns": null,
            "grid_template_rows": null,
            "height": null,
            "justify_content": null,
            "justify_items": null,
            "left": null,
            "margin": null,
            "max_height": null,
            "max_width": null,
            "min_height": null,
            "min_width": null,
            "object_fit": null,
            "object_position": null,
            "order": null,
            "overflow": null,
            "overflow_x": null,
            "overflow_y": null,
            "padding": null,
            "right": null,
            "top": null,
            "visibility": null,
            "width": null
          }
        },
        "389d828807444d1e8fe5d84409cf0f28": {
          "model_module": "@jupyter-widgets/controls",
          "model_name": "ProgressStyleModel",
          "model_module_version": "1.5.0",
          "state": {
            "_model_module": "@jupyter-widgets/controls",
            "_model_module_version": "1.5.0",
            "_model_name": "ProgressStyleModel",
            "_view_count": null,
            "_view_module": "@jupyter-widgets/base",
            "_view_module_version": "1.2.0",
            "_view_name": "StyleView",
            "bar_color": null,
            "description_width": ""
          }
        },
        "89fddd943ad0476486f1d45f981c493d": {
          "model_module": "@jupyter-widgets/base",
          "model_name": "LayoutModel",
          "model_module_version": "1.2.0",
          "state": {
            "_model_module": "@jupyter-widgets/base",
            "_model_module_version": "1.2.0",
            "_model_name": "LayoutModel",
            "_view_count": null,
            "_view_module": "@jupyter-widgets/base",
            "_view_module_version": "1.2.0",
            "_view_name": "LayoutView",
            "align_content": null,
            "align_items": null,
            "align_self": null,
            "border": null,
            "bottom": null,
            "display": null,
            "flex": null,
            "flex_flow": null,
            "grid_area": null,
            "grid_auto_columns": null,
            "grid_auto_flow": null,
            "grid_auto_rows": null,
            "grid_column": null,
            "grid_gap": null,
            "grid_row": null,
            "grid_template_areas": null,
            "grid_template_columns": null,
            "grid_template_rows": null,
            "height": null,
            "justify_content": null,
            "justify_items": null,
            "left": null,
            "margin": null,
            "max_height": null,
            "max_width": null,
            "min_height": null,
            "min_width": null,
            "object_fit": null,
            "object_position": null,
            "order": null,
            "overflow": null,
            "overflow_x": null,
            "overflow_y": null,
            "padding": null,
            "right": null,
            "top": null,
            "visibility": null,
            "width": null
          }
        },
        "03f7b3611dfe4fa0a0ac31e2f699ed28": {
          "model_module": "@jupyter-widgets/controls",
          "model_name": "DescriptionStyleModel",
          "model_module_version": "1.5.0",
          "state": {
            "_model_module": "@jupyter-widgets/controls",
            "_model_module_version": "1.5.0",
            "_model_name": "DescriptionStyleModel",
            "_view_count": null,
            "_view_module": "@jupyter-widgets/base",
            "_view_module_version": "1.2.0",
            "_view_name": "StyleView",
            "description_width": ""
          }
        }
      }
    }
  },
  "cells": [
    {
      "cell_type": "code",
      "execution_count": 1,
      "metadata": {
        "colab": {
          "base_uri": "https://localhost:8080/"
        },
        "id": "J0AVJ5u_7SAj",
        "outputId": "b9561aa2-c806-4c69-d95e-b182da625d5b"
      },
      "outputs": [
        {
          "output_type": "stream",
          "name": "stdout",
          "text": [
            "Looking in indexes: https://pypi.org/simple, https://us-python.pkg.dev/colab-wheels/public/simple/\n",
            "Collecting transformers\n",
            "  Downloading transformers-4.28.1-py3-none-any.whl (7.0 MB)\n",
            "\u001b[2K     \u001b[90m━━━━━━━━━━━━━━━━━━━━━━━━━━━━━━━━━━━━━━━━\u001b[0m \u001b[32m7.0/7.0 MB\u001b[0m \u001b[31m83.3 MB/s\u001b[0m eta \u001b[36m0:00:00\u001b[0m\n",
            "\u001b[?25hCollecting tokenizers!=0.11.3,<0.14,>=0.11.1\n",
            "  Downloading tokenizers-0.13.3-cp39-cp39-manylinux_2_17_x86_64.manylinux2014_x86_64.whl (7.8 MB)\n",
            "\u001b[2K     \u001b[90m━━━━━━━━━━━━━━━━━━━━━━━━━━━━━━━━━━━━━━━━\u001b[0m \u001b[32m7.8/7.8 MB\u001b[0m \u001b[31m90.5 MB/s\u001b[0m eta \u001b[36m0:00:00\u001b[0m\n",
            "\u001b[?25hRequirement already satisfied: pyyaml>=5.1 in /usr/local/lib/python3.9/dist-packages (from transformers) (6.0)\n",
            "Requirement already satisfied: filelock in /usr/local/lib/python3.9/dist-packages (from transformers) (3.11.0)\n",
            "Requirement already satisfied: regex!=2019.12.17 in /usr/local/lib/python3.9/dist-packages (from transformers) (2022.10.31)\n",
            "Requirement already satisfied: requests in /usr/local/lib/python3.9/dist-packages (from transformers) (2.27.1)\n",
            "Collecting huggingface-hub<1.0,>=0.11.0\n",
            "  Downloading huggingface_hub-0.13.4-py3-none-any.whl (200 kB)\n",
            "\u001b[2K     \u001b[90m━━━━━━━━━━━━━━━━━━━━━━━━━━━━━━━━━━━━━━\u001b[0m \u001b[32m200.1/200.1 kB\u001b[0m \u001b[31m22.1 MB/s\u001b[0m eta \u001b[36m0:00:00\u001b[0m\n",
            "\u001b[?25hRequirement already satisfied: tqdm>=4.27 in /usr/local/lib/python3.9/dist-packages (from transformers) (4.65.0)\n",
            "Requirement already satisfied: numpy>=1.17 in /usr/local/lib/python3.9/dist-packages (from transformers) (1.22.4)\n",
            "Requirement already satisfied: packaging>=20.0 in /usr/local/lib/python3.9/dist-packages (from transformers) (23.1)\n",
            "Requirement already satisfied: typing-extensions>=3.7.4.3 in /usr/local/lib/python3.9/dist-packages (from huggingface-hub<1.0,>=0.11.0->transformers) (4.5.0)\n",
            "Requirement already satisfied: charset-normalizer~=2.0.0 in /usr/local/lib/python3.9/dist-packages (from requests->transformers) (2.0.12)\n",
            "Requirement already satisfied: idna<4,>=2.5 in /usr/local/lib/python3.9/dist-packages (from requests->transformers) (3.4)\n",
            "Requirement already satisfied: urllib3<1.27,>=1.21.1 in /usr/local/lib/python3.9/dist-packages (from requests->transformers) (1.26.15)\n",
            "Requirement already satisfied: certifi>=2017.4.17 in /usr/local/lib/python3.9/dist-packages (from requests->transformers) (2022.12.7)\n",
            "Installing collected packages: tokenizers, huggingface-hub, transformers\n",
            "Successfully installed huggingface-hub-0.13.4 tokenizers-0.13.3 transformers-4.28.1\n"
          ]
        }
      ],
      "source": [
        "!pip install transformers"
      ]
    },
    {
      "cell_type": "code",
      "source": [
        "import pandas as pd\n",
        "import numpy as np\n",
        "import tensorflow as tf\n",
        "from transformers import BertTokenizer, TFBertForSequenceClassification\n",
        "from sklearn.model_selection import train_test_split\n"
      ],
      "metadata": {
        "id": "obX6JmpB8Wi5"
      },
      "execution_count": 2,
      "outputs": []
    },
    {
      "cell_type": "code",
      "source": [
        "# Load the IMDB dataset from CSV\n",
        "df = pd.read_csv('/content/drive/MyDrive/IMDB_Dataset.csv', encoding='utf-8',on_bad_lines='skip')\n"
      ],
      "metadata": {
        "id": "QcTM3YFd8gZQ"
      },
      "execution_count": 3,
      "outputs": []
    },
    {
      "cell_type": "code",
      "source": [
        "test_df = pd.read_csv('/content/drive/MyDrive/movie-review-dataset.csv', on_bad_lines='skip')"
      ],
      "metadata": {
        "id": "W529Xbei8jdu"
      },
      "execution_count": 4,
      "outputs": []
    },
    {
      "cell_type": "code",
      "source": [
        "df['sentiment'] = df['sentiment'].replace({'positive': 1, 'negative': 0})\n",
        "\n",
        "print(df.head(20))"
      ],
      "metadata": {
        "colab": {
          "base_uri": "https://localhost:8080/"
        },
        "id": "xC8q0KRM8mnG",
        "outputId": "c34eff60-ebf6-4677-8f84-21ddd17a54f2"
      },
      "execution_count": 5,
      "outputs": [
        {
          "output_type": "stream",
          "name": "stdout",
          "text": [
            "                                               review  sentiment\n",
            "0   One of the other reviewers has mentioned that ...          1\n",
            "1   A wonderful little production. <br /><br />The...          1\n",
            "2   I thought this was a wonderful way to spend ti...          1\n",
            "3   Basically there's a family where a little boy ...          0\n",
            "4   Petter Mattei's \"Love in the Time of Money\" is...          1\n",
            "5   Probably my all-time favorite movie, a story o...          1\n",
            "6   I sure would like to see a resurrection of a u...          1\n",
            "7   This show was an amazing, fresh & innovative i...          0\n",
            "8   Encouraged by the positive comments about this...          0\n",
            "9   If you like original gut wrenching laughter yo...          1\n",
            "10  Phil the Alien is one of those quirky films wh...          0\n",
            "11  I saw this movie when I was about 12 when it c...          0\n",
            "12  So im not a big fan of Boll's work but then ag...          0\n",
            "13  The cast played Shakespeare.<br /><br />Shakes...          0\n",
            "14  This a fantastic movie of three prisoners who ...          1\n",
            "15  Kind of drawn in by the erotic scenes, only to...          0\n",
            "16  Some films just simply should not be remade. T...          1\n",
            "17  This movie made it into one of my top 10 most ...          0\n",
            "18  I remember this film,it was the first film i h...          1\n",
            "19  An awful film! It must have been up against so...          0\n"
          ]
        }
      ]
    },
    {
      "cell_type": "code",
      "source": [
        "# Preprocess the text column\n",
        "import re\n",
        "import pandas as pd\n",
        "import numpy as np\n",
        "def preprocess_text(text):\n",
        "    # Convert to lowercase\n",
        "    text = text.lower()\n",
        "    # Remove html tags\n",
        "    text = re.sub('<[^<]+?>', '', text)\n",
        "    # Remove punctuation\n",
        "    text = re.sub(r'[^\\w\\s]', '', text)\n",
        "    # Remove numbers\n",
        "    text = re.sub(r'\\d+', '', text)\n",
        "    # Remove extra whitespace\n",
        "    text = ' '.join(text.split())\n",
        "    return text\n",
        "\n",
        "df['review'] = df['review'].apply(preprocess_text)"
      ],
      "metadata": {
        "id": "46VqPjp_8om1"
      },
      "execution_count": 6,
      "outputs": []
    },
    {
      "cell_type": "code",
      "source": [
        "df1 = df[df['review'].str.split().str.len() < 100]\n",
        "\n",
        "print(df1.head(10))\n"
      ],
      "metadata": {
        "colab": {
          "base_uri": "https://localhost:8080/"
        },
        "id": "475tcN-L8rMn",
        "outputId": "8b81cc35-bf23-4e3c-bcdb-8754c66cccfb"
      },
      "execution_count": 7,
      "outputs": [
        {
          "output_type": "stream",
          "name": "stdout",
          "text": [
            "                                               review  sentiment\n",
            "9   if you like original gut wrenching laughter yo...          1\n",
            "10  phil the alien is one of those quirky films wh...          0\n",
            "14  this a fantastic movie of three prisoners who ...          1\n",
            "22  what an absolutely stunning movie if you have ...          1\n",
            "36  the plot is about the death of little children...          0\n",
            "46  protocol is an implausible movie whose only sa...          0\n",
            "49  average and surprisingly tame fulci giallo whi...          0\n",
            "53  i cannot believe i enjoyed this as much as i d...          1\n",
            "62  so lets beginthe movie itself is as original a...          1\n",
            "63  besides being boring the scenes were oppressiv...          0\n"
          ]
        }
      ]
    },
    {
      "cell_type": "code",
      "source": [
        "# Define tokenizer\n",
        "import transformers\n",
        "tokenizer = BertTokenizer.from_pretrained('bert-base-uncased')\n",
        "\n"
      ],
      "metadata": {
        "colab": {
          "base_uri": "https://localhost:8080/",
          "height": 113,
          "referenced_widgets": [
            "750f929d9ffb4692a45c4b37dfae5c05",
            "450f0211105f4720a4f0ac97b42261bc",
            "62691a9448bc4ac3851599a8b8afe924",
            "250d01f2556b45d1bdce1b8de1acd66a",
            "6130830fa4ca46c2a4f725c9d7737164",
            "e5b65001fa6a4b9095946f92156c1322",
            "2858d72172254df9979def3c0c2c8c73",
            "a995f2aa96f54987bd48602ff770d148",
            "fd83e19f79cc4d5c860a147002fd5685",
            "ce2b7c55095a4191aa993618f322528b",
            "242e243bc59a4feda1c4129833470c67",
            "7b69fef5165e4cc786f057ffca221115",
            "df3ddd8ee1a748d08fa584c3c8df26f0",
            "2466886350e64731a6e916f3dfc1e23a",
            "04a8cff04eaf44b1ad0278d8591732ee",
            "d4a5ee1e12ed494b9110f175f481bd0b",
            "6a6cab400dac439e9ff08929c421ad5b",
            "52e21f362af441df81ca6c2d13e2ff35",
            "ca0f7610d50c484ea0464929fe26216b",
            "dd1322e1158341acb84cc08b31a2d1d6",
            "7cc7f0254f1642309718d8d5f751b81e",
            "040afe15db4d4b95928b2d8de508652c",
            "f7a070b395e743169f3076638e42f06b",
            "43d622a46ff24095a797e9ba8379802c",
            "20a6a00f0617485f9c490a882832a7a3",
            "e567dfb3393c4940aed0d7707e2a475e",
            "6b725fca9f24412d84b5813a5f2864d9",
            "efe80e6b110540018418dd8a1af16423",
            "a2f01115afc14a02bc6c231961833ea9",
            "27e64b44ca8640d0b1a8b3a9587881f4",
            "389d828807444d1e8fe5d84409cf0f28",
            "89fddd943ad0476486f1d45f981c493d",
            "03f7b3611dfe4fa0a0ac31e2f699ed28"
          ]
        },
        "id": "E2i2we_f8tT-",
        "outputId": "aa4589a3-79f4-418d-d537-49423cf6488d"
      },
      "execution_count": 8,
      "outputs": [
        {
          "output_type": "display_data",
          "data": {
            "text/plain": [
              "Downloading (…)solve/main/vocab.txt:   0%|          | 0.00/232k [00:00<?, ?B/s]"
            ],
            "application/vnd.jupyter.widget-view+json": {
              "version_major": 2,
              "version_minor": 0,
              "model_id": "750f929d9ffb4692a45c4b37dfae5c05"
            }
          },
          "metadata": {}
        },
        {
          "output_type": "display_data",
          "data": {
            "text/plain": [
              "Downloading (…)okenizer_config.json:   0%|          | 0.00/28.0 [00:00<?, ?B/s]"
            ],
            "application/vnd.jupyter.widget-view+json": {
              "version_major": 2,
              "version_minor": 0,
              "model_id": "7b69fef5165e4cc786f057ffca221115"
            }
          },
          "metadata": {}
        },
        {
          "output_type": "display_data",
          "data": {
            "text/plain": [
              "Downloading (…)lve/main/config.json:   0%|          | 0.00/570 [00:00<?, ?B/s]"
            ],
            "application/vnd.jupyter.widget-view+json": {
              "version_major": 2,
              "version_minor": 0,
              "model_id": "f7a070b395e743169f3076638e42f06b"
            }
          },
          "metadata": {}
        }
      ]
    },
    {
      "cell_type": "code",
      "source": [
        "# Tokenize train dataset\n",
        "import torch\n",
        "# Tokenize train dataset\n",
        "train_encodings = tokenizer(list(df1['review']), padding=True, truncation=True, max_length=100)\n",
        "X_train = train_encodings['input_ids']\n",
        "y_train = np.array(list(df1['sentiment']))\n",
        "print(len(X_train))\n",
        "print(len(y_train))\n",
        "\n"
      ],
      "metadata": {
        "colab": {
          "base_uri": "https://localhost:8080/"
        },
        "id": "1PmPnU7N8wMX",
        "outputId": "e7b86383-8df1-4f5e-d5a3-346fccd14547"
      },
      "execution_count": 9,
      "outputs": [
        {
          "output_type": "stream",
          "name": "stdout",
          "text": [
            "6510\n",
            "6510\n"
          ]
        }
      ]
    },
    {
      "cell_type": "code",
      "source": [
        "# Tokenize test dataset\n",
        "test_encodings = tokenizer(list(test_df['review']), padding=True, truncation=True, max_length=100)\n",
        "X_val = test_encodings['input_ids']\n",
        "y_val = np.array(list(test_df['sentiment']))"
      ],
      "metadata": {
        "id": "2kBmfEku89tE"
      },
      "execution_count": 10,
      "outputs": []
    },
    {
      "cell_type": "code",
      "source": [
        "from transformers import TFBertForSequenceClassification\n",
        "\n",
        "# Define BERT model\n",
        "model = TFBertForSequenceClassification.from_pretrained('bert-base-uncased', num_labels=2)\n",
        "\n"
      ],
      "metadata": {
        "colab": {
          "base_uri": "https://localhost:8080/"
        },
        "id": "QVGfJ6599Rs8",
        "outputId": "d014c547-fdfa-4d2a-c0ef-aee442b83f55"
      },
      "execution_count": 11,
      "outputs": [
        {
          "output_type": "stream",
          "name": "stderr",
          "text": [
            "Some layers from the model checkpoint at /content/drive/MyDrive/Model/Model-PreTrained were not used when initializing TFBertForSequenceClassification: ['dropout_75']\n",
            "- This IS expected if you are initializing TFBertForSequenceClassification from the checkpoint of a model trained on another task or with another architecture (e.g. initializing a BertForSequenceClassification model from a BertForPreTraining model).\n",
            "- This IS NOT expected if you are initializing TFBertForSequenceClassification from the checkpoint of a model that you expect to be exactly identical (initializing a BertForSequenceClassification model from a BertForSequenceClassification model).\n",
            "All the layers of TFBertForSequenceClassification were initialized from the model checkpoint at /content/drive/MyDrive/Model/Model-PreTrained.\n",
            "If your task is similar to the task the model of the checkpoint was trained on, you can already use TFBertForSequenceClassification for predictions without further training.\n"
          ]
        }
      ]
    },
    {
      "cell_type": "code",
      "source": [
        "# Compile the model\n",
        "optimizer = tf.keras.optimizers.Adam(learning_rate=2e-5, epsilon=1e-08)\n",
        "loss = tf.keras.losses.SparseCategoricalCrossentropy(from_logits=True)\n",
        "metric = tf.keras.metrics.SparseCategoricalAccuracy('accuracy')\n",
        "model.compile(optimizer=optimizer, loss=loss, metrics=[metric])"
      ],
      "metadata": {
        "id": "9PiVk8F89U66"
      },
      "execution_count": 12,
      "outputs": []
    },
    {
      "cell_type": "code",
      "source": [
        "# Train the model\n",
        "train_dataset = tf.data.Dataset.from_tensor_slices((\n",
        "    {\"input_ids\": X_train, \"attention_mask\": np.ones_like(X_train)},\n",
        "    y_train\n",
        "))\n",
        "train_dataset = train_dataset.shuffle(len(X_train)).batch(32)"
      ],
      "metadata": {
        "id": "0ayCZK8o_JsR"
      },
      "execution_count": 13,
      "outputs": []
    },
    {
      "cell_type": "code",
      "source": [
        "val_dataset = tf.data.Dataset.from_tensor_slices((\n",
        "    {\"input_ids\": X_val, \"attention_mask\": np.ones_like(X_val)},\n",
        "    y_val\n",
        "))\n",
        "val_dataset = val_dataset.batch(32)"
      ],
      "metadata": {
        "id": "P7z3_vIR_LtB"
      },
      "execution_count": 14,
      "outputs": []
    },
    {
      "cell_type": "code",
      "source": [
        "# test_df.columns = ['review', 'sentiment']\n",
        "# test_df.to_csv('test1.csv', index=False)\n",
        "texts = np.array(test_df['review'])\n",
        "labels = np.array(test_df['sentiment'])"
      ],
      "metadata": {
        "id": "gGCDHlJl08V9"
      },
      "execution_count": 15,
      "outputs": []
    },
    {
      "cell_type": "code",
      "source": [
        "print(test_df.shape)"
      ],
      "metadata": {
        "colab": {
          "base_uri": "https://localhost:8080/"
        },
        "id": "sHp8Z_pj2z2C",
        "outputId": "ab4d44c8-cf61-46e0-9b03-f1b5304e6fb9"
      },
      "execution_count": null,
      "outputs": [
        {
          "output_type": "stream",
          "name": "stdout",
          "text": [
            "(609, 2)\n"
          ]
        }
      ]
    },
    {
      "cell_type": "code",
      "source": [
        "# test_df.columns = ['review', 'sentiment']\n",
        "# test_df.to_csv('test1.csv', index=False)\n",
        "import pandas as pd\n",
        "\n",
        "df_adv1 = pd.read_csv('/content/drive/MyDrive/Adversarial_Examples/BAEGarg2019.csv', header=None, names=['review'])\n",
        "# data.columns = ['review'] # Add header 'review' to the DataFrame\n",
        "\n",
        "\n",
        "print(df_adv1.shape)\n",
        "\n"
      ],
      "metadata": {
        "id": "zJE81fRpGvgO",
        "colab": {
          "base_uri": "https://localhost:8080/"
        },
        "outputId": "0ba9fa78-a6cc-4bd1-f844-b1201c38edf7"
      },
      "execution_count": 16,
      "outputs": [
        {
          "output_type": "stream",
          "name": "stdout",
          "text": [
            "(609, 1)\n"
          ]
        }
      ]
    },
    {
      "cell_type": "code",
      "source": [
        "df_adv1 = pd.DataFrame({'review': df_adv1['review'], 'sentiment': labels })"
      ],
      "metadata": {
        "id": "fU9_gwqrFDpi"
      },
      "execution_count": 17,
      "outputs": []
    },
    {
      "cell_type": "code",
      "source": [
        "print(df_adv1.head(10))"
      ],
      "metadata": {
        "colab": {
          "base_uri": "https://localhost:8080/"
        },
        "id": "M6k88sefGbPu",
        "outputId": "638622d0-2b9d-48b0-92f5-ed5f49127f89"
      },
      "execution_count": null,
      "outputs": [
        {
          "output_type": "stream",
          "name": "stdout",
          "text": [
            "                              review  sentiment\n",
            "0                This movie was bad!          1\n",
            "1               The acting was great          0\n",
            "2               I loved this feeling          1\n",
            "3            It was a moment of time          0\n",
            "4                 The plot was great          0\n",
            "5                This is a bad movie          1\n",
            "6  I please not recommend this movie          0\n",
            "7        The cinematography was used          1\n",
            "8               The script was great          0\n",
            "9               The ending was given          0\n"
          ]
        }
      ]
    },
    {
      "cell_type": "code",
      "source": [
        "df_adv1['review'] = df_adv1['review'].apply(preprocess_text)"
      ],
      "metadata": {
        "id": "xonOTbx4_r29"
      },
      "execution_count": 18,
      "outputs": []
    },
    {
      "cell_type": "code",
      "source": [
        "adv_df1 = df_adv1[df_adv1['review'].str.split().str.len() < 100]"
      ],
      "metadata": {
        "id": "mBnrRLnOAQH0"
      },
      "execution_count": 19,
      "outputs": []
    },
    {
      "cell_type": "code",
      "source": [
        "print(adv_df1.head(10))"
      ],
      "metadata": {
        "colab": {
          "base_uri": "https://localhost:8080/"
        },
        "id": "zRR778uzFSZQ",
        "outputId": "fda0017e-f3a5-4e0f-89a7-89c2ceb583ad"
      },
      "execution_count": null,
      "outputs": [
        {
          "output_type": "stream",
          "name": "stdout",
          "text": [
            "                              review  sentiment\n",
            "0                 this movie was bad          1\n",
            "1               the acting was great          0\n",
            "2               i loved this feeling          1\n",
            "3            it was a moment of time          0\n",
            "4                 the plot was great          0\n",
            "5                this is a bad movie          1\n",
            "6  i please not recommend this movie          0\n",
            "7        the cinematography was used          1\n",
            "8               the script was great          0\n",
            "9               the ending was given          0\n"
          ]
        }
      ]
    },
    {
      "cell_type": "code",
      "source": [
        "adv_df1 = pd.concat([df1, adv_df1], ignore_index=True)"
      ],
      "metadata": {
        "id": "FPioRJyvIgwz"
      },
      "execution_count": 21,
      "outputs": []
    },
    {
      "cell_type": "code",
      "source": [
        "# Create DataFrame with adv_texts and labels\n",
        "df_adv2 = pd.read_csv('/content/drive/MyDrive/Adversarial_Examples/CheckList2020.csv', header=None, names=['review'])\n",
        "df_adv2 = pd.DataFrame({'review': df_adv2['review'], 'sentiment': labels })\n",
        "df_adv2['review'] = df_adv2['review'].apply(preprocess_text)\n",
        "adv_df2 = df_adv2[df_adv2['review'].str.split().str.len() < 100]"
      ],
      "metadata": {
        "id": "cdIQV124AToN"
      },
      "execution_count": 22,
      "outputs": []
    },
    {
      "cell_type": "code",
      "source": [
        "# Create a new dataframe containing both original and adversarial examples\n",
        "DF_ADV1 = pd.concat([adv_df1, adv_df2], ignore_index=True)"
      ],
      "metadata": {
        "id": "1qZeHTm4AyWu"
      },
      "execution_count": 23,
      "outputs": []
    },
    {
      "cell_type": "code",
      "source": [
        "print(DF_ADV1.head(10))"
      ],
      "metadata": {
        "colab": {
          "base_uri": "https://localhost:8080/"
        },
        "id": "L6t-Vs3N3899",
        "outputId": "4bfcb00f-0411-4de0-fcc0-04c6e9c268af"
      },
      "execution_count": 24,
      "outputs": [
        {
          "output_type": "stream",
          "name": "stdout",
          "text": [
            "                                              review  sentiment\n",
            "0  if you like original gut wrenching laughter yo...          1\n",
            "1  phil the alien is one of those quirky films wh...          0\n",
            "2  this a fantastic movie of three prisoners who ...          1\n",
            "3  what an absolutely stunning movie if you have ...          1\n",
            "4  the plot is about the death of little children...          0\n",
            "5  protocol is an implausible movie whose only sa...          0\n",
            "6  average and surprisingly tame fulci giallo whi...          0\n",
            "7  i cannot believe i enjoyed this as much as i d...          1\n",
            "8  so lets beginthe movie itself is as original a...          1\n",
            "9  besides being boring the scenes were oppressiv...          0\n"
          ]
        }
      ]
    },
    {
      "cell_type": "code",
      "source": [
        "# Create DataFrame with adv_texts and labels\n",
        "df_adv3 = pd.read_csv('/content/drive/MyDrive/Adversarial_Examples/DeepWordBugGao2018.csv', header=None, names=['review'])\n",
        "df_adv3 = pd.DataFrame({'review': df_adv3['review'], 'sentiment': labels })\n",
        "df_adv3['review'] = df_adv3['review'].apply(preprocess_text)\n",
        "adv_df3 = df_adv3[df_adv3['review'].str.split().str.len() < 100]"
      ],
      "metadata": {
        "id": "mw1lO7ruA-Lp"
      },
      "execution_count": 25,
      "outputs": []
    },
    {
      "cell_type": "code",
      "source": [
        "DF_ADV2 = pd.concat([DF_ADV1, adv_df3], ignore_index=True)"
      ],
      "metadata": {
        "id": "vC1gQjBgBNQU"
      },
      "execution_count": 26,
      "outputs": []
    },
    {
      "cell_type": "code",
      "source": [
        "print(DF_ADV2.tail(5))"
      ],
      "metadata": {
        "colab": {
          "base_uri": "https://localhost:8080/"
        },
        "id": "XYCsF8H34aVh",
        "outputId": "840b03e3-59ea-432a-abc2-713a22e3df07"
      },
      "execution_count": 27,
      "outputs": [
        {
          "output_type": "stream",
          "name": "stdout",
          "text": [
            "                                                 review  sentiment\n",
            "8332  the special effects were fmpressive and added ...          1\n",
            "8333  i found the move to be emotionally reosnant an...          1\n",
            "8334             the actign was emdiocre and frgettable          0\n",
            "8335  thje pacing of the flim was perect and kept me...          1\n",
            "8336  i pthought the mvoie was a complete wate of tvime          0\n"
          ]
        }
      ]
    },
    {
      "cell_type": "code",
      "source": [
        "# Create DataFrame with adv_texts and labels\n",
        "df_adv4 = pd.read_csv('/content/drive/MyDrive/Adversarial_Examples/IGAWang2019.csv', header=None, names=['review'])\n",
        "df_adv4 = pd.DataFrame({'review': df_adv4['review'], 'sentiment': labels })\n",
        "df_adv4['review'] = df_adv4['review'].apply(preprocess_text)\n",
        "adv_df4 = df_adv4[df_adv4['review'].str.split().str.len() < 100]"
      ],
      "metadata": {
        "id": "x9LOifBbBU3I"
      },
      "execution_count": 28,
      "outputs": []
    },
    {
      "cell_type": "code",
      "source": [
        "DF_ADV3 = pd.concat([DF_ADV2, adv_df4], ignore_index=True)"
      ],
      "metadata": {
        "id": "Ha9V9iC2BfRd"
      },
      "execution_count": 29,
      "outputs": []
    },
    {
      "cell_type": "code",
      "source": [
        "print(DF_ADV3.tail(5))"
      ],
      "metadata": {
        "colab": {
          "base_uri": "https://localhost:8080/"
        },
        "id": "Cn_gwDr04ovW",
        "outputId": "ee5b625a-aa57-4ed2-ed9b-b21ac701ff84"
      },
      "execution_count": null,
      "outputs": [
        {
          "output_type": "stream",
          "name": "stdout",
          "text": [
            "                                                 review  sentiment\n",
            "2431  the specialised effects were sumptuous and add...          1\n",
            "2432  i revealing the cinemas to be mentally resonan...          1\n",
            "2433     the response was unimaginative and forgettable          0\n",
            "2434  the pacing of the theater was irreproachable a...          1\n",
            "2435  i thought the movie was a complete residue of ...          0\n"
          ]
        }
      ]
    },
    {
      "cell_type": "code",
      "source": [
        "# Create DataFrame with adv_texts and labels\n",
        "df_adv5 = pd.read_csv('/content/drive/MyDrive/Adversarial_Examples/InputReductionFeng2018.csv', header=None, names=['review'])\n",
        "df_adv5 = pd.DataFrame({'review': df_adv5['review'], 'sentiment': labels })\n",
        "df_adv5['review'] = df_adv5['review'].apply(preprocess_text)\n",
        "adv_df5 = df_adv5[df_adv5['review'].str.split().str.len() < 100]"
      ],
      "metadata": {
        "id": "WS2orIjNBi7r"
      },
      "execution_count": 30,
      "outputs": []
    },
    {
      "cell_type": "code",
      "source": [
        "DF_ADV4 = pd.concat([DF_ADV3, adv_df5], ignore_index=True)"
      ],
      "metadata": {
        "id": "jTkVZB0JBtgg"
      },
      "execution_count": 31,
      "outputs": []
    },
    {
      "cell_type": "code",
      "source": [
        "# Create DataFrame with adv_texts and labels\n",
        "df_adv6 = pd.read_csv('/content/drive/MyDrive/Adversarial_Examples/PWWSRen2019.csv', header=None, names=['review'])\n",
        "df_adv6 = pd.DataFrame({'review': df_adv6['review'], 'sentiment': labels })\n",
        "df_adv6['review'] = df_adv6['review'].apply(preprocess_text)\n",
        "adv_df6 = df_adv6[df_adv6['review'].str.split().str.len() < 100]"
      ],
      "metadata": {
        "id": "1S_je1BRBxRI"
      },
      "execution_count": 32,
      "outputs": []
    },
    {
      "cell_type": "code",
      "source": [
        "DF_ADV5 = pd.concat([DF_ADV4, adv_df6], ignore_index=True)"
      ],
      "metadata": {
        "id": "V86p8fKzB6N6"
      },
      "execution_count": 33,
      "outputs": []
    },
    {
      "cell_type": "code",
      "source": [
        "# Create DataFrame with adv_texts and labels\n",
        "df_adv7 = pd.read_csv('/content/drive/MyDrive/Adversarial_Examples/Pruthi2019.csv', header=None, names=['review'])\n",
        "df_adv7 = pd.DataFrame({'review': df_adv7['review'], 'sentiment': labels })\n",
        "df_adv7['review'] = df_adv7['review'].apply(preprocess_text)\n",
        "adv_df7 = df_adv7[df_adv7['review'].str.split().str.len() < 100]"
      ],
      "metadata": {
        "id": "IpZ6ZAprB-ku"
      },
      "execution_count": 34,
      "outputs": []
    },
    {
      "cell_type": "code",
      "source": [
        "DF_ADV6 = pd.concat([DF_ADV5, adv_df7], ignore_index=True)"
      ],
      "metadata": {
        "id": "iRtTLI4kCIwD"
      },
      "execution_count": 35,
      "outputs": []
    },
    {
      "cell_type": "code",
      "source": [
        "print(DF_ADV6.tail(10))"
      ],
      "metadata": {
        "colab": {
          "base_uri": "https://localhost:8080/"
        },
        "id": "youdTaZ75ElX",
        "outputId": "81065c27-cf54-4c3d-8800-fc4962276a25"
      },
      "execution_count": 36,
      "outputs": [
        {
          "output_type": "stream",
          "name": "stdout",
          "text": [
            "                                                  review  sentiment\n",
            "10763  the pacihg was off and made the movie feel dis...          0\n",
            "10764         i was thoroughly entrrtained by this movie          1\n",
            "10765               the dixlogue was stilted and awkward          0\n",
            "10766  the cinematography was breatgtaking and added ...          1\n",
            "10767  the story was capitvating and kept me engaged ...          1\n",
            "10768  the special effects were inpressive and added ...          1\n",
            "10769  i found the move to be emotionally resonant an...          1\n",
            "10770            the actkng was mediocre and forgettable          0\n",
            "10771  the pacing of the film was peefect and kept me...          1\n",
            "10772   i thought the movie was a complete wasye of time          0\n"
          ]
        }
      ]
    },
    {
      "cell_type": "code",
      "source": [
        "# Create DataFrame with adv_texts and labels\n",
        "df_adv8 = pd.read_csv('/content/drive/MyDrive/Adversarial_Examples/TextFoolerJin2019.csv', header=None, names=['review'])\n",
        "df_adv8 = pd.DataFrame({'review': df_adv8['review'], 'sentiment': labels })\n",
        "df_adv8['review'] = df_adv8['review'].apply(preprocess_text)\n",
        "adv_df8 = df_adv8[df_adv8['review'].str.split().str.len() < 100]"
      ],
      "metadata": {
        "id": "xrGeUqnMCMuD"
      },
      "execution_count": 37,
      "outputs": []
    },
    {
      "cell_type": "code",
      "source": [
        "DF_ADV7 = pd.concat([DF_ADV6, adv_df8], ignore_index=True)"
      ],
      "metadata": {
        "id": "TYUo39sGCWe_"
      },
      "execution_count": 38,
      "outputs": []
    },
    {
      "cell_type": "code",
      "source": [
        "DF_ADV7.to_csv('/content/drive/MyDrive/Adversarial_Examples/totalset_adv_examples.csv', index=False)"
      ],
      "metadata": {
        "id": "wZxpueeoCng1"
      },
      "execution_count": 39,
      "outputs": []
    },
    {
      "cell_type": "code",
      "source": [
        "print(DF_ADV7.head(10))"
      ],
      "metadata": {
        "colab": {
          "base_uri": "https://localhost:8080/"
        },
        "id": "GbtFYyThEQJX",
        "outputId": "b4fa15f0-80c3-4b82-947d-1870979f32e2"
      },
      "execution_count": 40,
      "outputs": [
        {
          "output_type": "stream",
          "name": "stdout",
          "text": [
            "                                              review  sentiment\n",
            "0  if you like original gut wrenching laughter yo...          1\n",
            "1  phil the alien is one of those quirky films wh...          0\n",
            "2  this a fantastic movie of three prisoners who ...          1\n",
            "3  what an absolutely stunning movie if you have ...          1\n",
            "4  the plot is about the death of little children...          0\n",
            "5  protocol is an implausible movie whose only sa...          0\n",
            "6  average and surprisingly tame fulci giallo whi...          0\n",
            "7  i cannot believe i enjoyed this as much as i d...          1\n",
            "8  so lets beginthe movie itself is as original a...          1\n",
            "9  besides being boring the scenes were oppressiv...          0\n"
          ]
        }
      ]
    },
    {
      "cell_type": "code",
      "source": [
        "import torch\n",
        "# Tokenize train dataset\n",
        "train_encodings = tokenizer(list(DF_ADV7['review']), padding=True, truncation=True, max_length=100)\n",
        "X_train1 = train_encodings['input_ids']\n",
        "y_train1 = np.array(list(DF_ADV7['sentiment']))"
      ],
      "metadata": {
        "id": "bJSa28xkC0nv"
      },
      "execution_count": 41,
      "outputs": []
    },
    {
      "cell_type": "code",
      "source": [
        "# Train the model\n",
        "train_dataset1 = tf.data.Dataset.from_tensor_slices((\n",
        "    {\"input_ids\": X_train1, \"attention_mask\": np.ones_like(X_train1)},\n",
        "    y_train1\n",
        "))\n",
        "train_dataset1 = train_dataset1.shuffle(len(X_train1)).batch(32)"
      ],
      "metadata": {
        "id": "vrgQi7qzC6xm"
      },
      "execution_count": 42,
      "outputs": []
    },
    {
      "cell_type": "code",
      "source": [
        "model.fit(train_dataset1, epochs=3, batch_size=32)"
      ],
      "metadata": {
        "colab": {
          "base_uri": "https://localhost:8080/"
        },
        "id": "SypzKyg9DH8y",
        "outputId": "6934c8ac-5180-4986-d922-4cb2f89ddfbf"
      },
      "execution_count": 43,
      "outputs": [
        {
          "output_type": "stream",
          "name": "stdout",
          "text": [
            "Epoch 1/3\n",
            "356/356 [==============================] - 295s 648ms/step - loss: 0.2557 - accuracy: 0.8969\n",
            "Epoch 2/3\n",
            "356/356 [==============================] - 225s 632ms/step - loss: 0.1237 - accuracy: 0.9579\n",
            "Epoch 3/3\n",
            "356/356 [==============================] - 225s 631ms/step - loss: 0.0727 - accuracy: 0.9781\n"
          ]
        },
        {
          "output_type": "execute_result",
          "data": {
            "text/plain": [
              "<keras.callbacks.History at 0x7f2190ab65b0>"
            ]
          },
          "metadata": {},
          "execution_count": 43
        }
      ]
    },
    {
      "cell_type": "code",
      "source": [
        "model.save_pretrained('/content/drive/MyDrive/Adversarial_Examples/BertModel-Trained')"
      ],
      "metadata": {
        "id": "Q-Mzra53DOEc"
      },
      "execution_count": 44,
      "outputs": []
    },
    {
      "cell_type": "code",
      "source": [
        "# Evaluate the model on the validation dataset\n",
        "eval_results = model.evaluate(val_dataset)\n",
        "\n",
        "# Print the accuracy\n",
        "accuracy = eval_results[1]\n",
        "\n",
        "print(f\"Validation accuracy:, {accuracy*100:.4f}%\")"
      ],
      "metadata": {
        "colab": {
          "base_uri": "https://localhost:8080/"
        },
        "id": "3wXxwUGO7rn-",
        "outputId": "2f19d174-6d5b-45ba-d59b-94452210713b"
      },
      "execution_count": 46,
      "outputs": [
        {
          "output_type": "stream",
          "name": "stdout",
          "text": [
            "20/20 [==============================] - 1s 72ms/step - loss: 0.0201 - accuracy: 0.9984\n",
            "Validation accuracy:, 99.8358%\n"
          ]
        }
      ]
    }
  ]
}