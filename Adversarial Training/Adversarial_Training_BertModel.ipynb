{
  "nbformat": 4,
  "nbformat_minor": 0,
  "metadata": {
    "colab": {
      "provenance": [],
      "gpuType": "T4"
    },
    "kernelspec": {
      "name": "python3",
      "display_name": "Python 3"
    },
    "language_info": {
      "name": "python"
    },
    "accelerator": "GPU",
    "gpuClass": "standard",
    "widgets": {
      "application/vnd.jupyter.widget-state+json": {
        "068429aadf074487af4b23dcdfaa74e0": {
          "model_module": "@jupyter-widgets/controls",
          "model_name": "HBoxModel",
          "model_module_version": "1.5.0",
          "state": {
            "_dom_classes": [],
            "_model_module": "@jupyter-widgets/controls",
            "_model_module_version": "1.5.0",
            "_model_name": "HBoxModel",
            "_view_count": null,
            "_view_module": "@jupyter-widgets/controls",
            "_view_module_version": "1.5.0",
            "_view_name": "HBoxView",
            "box_style": "",
            "children": [
              "IPY_MODEL_f86b5b9b0aac4a5f9e1e9c24c087e64f",
              "IPY_MODEL_25fcdce465dc483dbda7d5842185c498",
              "IPY_MODEL_070c95ef163648f18031ccb2137cd930"
            ],
            "layout": "IPY_MODEL_647257a0584248dfaf0467c5f915d5ab"
          }
        },
        "f86b5b9b0aac4a5f9e1e9c24c087e64f": {
          "model_module": "@jupyter-widgets/controls",
          "model_name": "HTMLModel",
          "model_module_version": "1.5.0",
          "state": {
            "_dom_classes": [],
            "_model_module": "@jupyter-widgets/controls",
            "_model_module_version": "1.5.0",
            "_model_name": "HTMLModel",
            "_view_count": null,
            "_view_module": "@jupyter-widgets/controls",
            "_view_module_version": "1.5.0",
            "_view_name": "HTMLView",
            "description": "",
            "description_tooltip": null,
            "layout": "IPY_MODEL_f72a242d45ce4a01b8236c23a436f44b",
            "placeholder": "​",
            "style": "IPY_MODEL_021462e9b3f54c08b68d8ae3c2edd569",
            "value": "Downloading (…)solve/main/vocab.txt: 100%"
          }
        },
        "25fcdce465dc483dbda7d5842185c498": {
          "model_module": "@jupyter-widgets/controls",
          "model_name": "FloatProgressModel",
          "model_module_version": "1.5.0",
          "state": {
            "_dom_classes": [],
            "_model_module": "@jupyter-widgets/controls",
            "_model_module_version": "1.5.0",
            "_model_name": "FloatProgressModel",
            "_view_count": null,
            "_view_module": "@jupyter-widgets/controls",
            "_view_module_version": "1.5.0",
            "_view_name": "ProgressView",
            "bar_style": "success",
            "description": "",
            "description_tooltip": null,
            "layout": "IPY_MODEL_f18c2d28943345de9915cee2fae395c9",
            "max": 231508,
            "min": 0,
            "orientation": "horizontal",
            "style": "IPY_MODEL_a725adb0221c43f3a81c72e7ccf02d53",
            "value": 231508
          }
        },
        "070c95ef163648f18031ccb2137cd930": {
          "model_module": "@jupyter-widgets/controls",
          "model_name": "HTMLModel",
          "model_module_version": "1.5.0",
          "state": {
            "_dom_classes": [],
            "_model_module": "@jupyter-widgets/controls",
            "_model_module_version": "1.5.0",
            "_model_name": "HTMLModel",
            "_view_count": null,
            "_view_module": "@jupyter-widgets/controls",
            "_view_module_version": "1.5.0",
            "_view_name": "HTMLView",
            "description": "",
            "description_tooltip": null,
            "layout": "IPY_MODEL_d36e64b0cbb840158878ccd126293464",
            "placeholder": "​",
            "style": "IPY_MODEL_7386f3808bf34b5e8df1c8a37ff20118",
            "value": " 232k/232k [00:00&lt;00:00, 1.43MB/s]"
          }
        },
        "647257a0584248dfaf0467c5f915d5ab": {
          "model_module": "@jupyter-widgets/base",
          "model_name": "LayoutModel",
          "model_module_version": "1.2.0",
          "state": {
            "_model_module": "@jupyter-widgets/base",
            "_model_module_version": "1.2.0",
            "_model_name": "LayoutModel",
            "_view_count": null,
            "_view_module": "@jupyter-widgets/base",
            "_view_module_version": "1.2.0",
            "_view_name": "LayoutView",
            "align_content": null,
            "align_items": null,
            "align_self": null,
            "border": null,
            "bottom": null,
            "display": null,
            "flex": null,
            "flex_flow": null,
            "grid_area": null,
            "grid_auto_columns": null,
            "grid_auto_flow": null,
            "grid_auto_rows": null,
            "grid_column": null,
            "grid_gap": null,
            "grid_row": null,
            "grid_template_areas": null,
            "grid_template_columns": null,
            "grid_template_rows": null,
            "height": null,
            "justify_content": null,
            "justify_items": null,
            "left": null,
            "margin": null,
            "max_height": null,
            "max_width": null,
            "min_height": null,
            "min_width": null,
            "object_fit": null,
            "object_position": null,
            "order": null,
            "overflow": null,
            "overflow_x": null,
            "overflow_y": null,
            "padding": null,
            "right": null,
            "top": null,
            "visibility": null,
            "width": null
          }
        },
        "f72a242d45ce4a01b8236c23a436f44b": {
          "model_module": "@jupyter-widgets/base",
          "model_name": "LayoutModel",
          "model_module_version": "1.2.0",
          "state": {
            "_model_module": "@jupyter-widgets/base",
            "_model_module_version": "1.2.0",
            "_model_name": "LayoutModel",
            "_view_count": null,
            "_view_module": "@jupyter-widgets/base",
            "_view_module_version": "1.2.0",
            "_view_name": "LayoutView",
            "align_content": null,
            "align_items": null,
            "align_self": null,
            "border": null,
            "bottom": null,
            "display": null,
            "flex": null,
            "flex_flow": null,
            "grid_area": null,
            "grid_auto_columns": null,
            "grid_auto_flow": null,
            "grid_auto_rows": null,
            "grid_column": null,
            "grid_gap": null,
            "grid_row": null,
            "grid_template_areas": null,
            "grid_template_columns": null,
            "grid_template_rows": null,
            "height": null,
            "justify_content": null,
            "justify_items": null,
            "left": null,
            "margin": null,
            "max_height": null,
            "max_width": null,
            "min_height": null,
            "min_width": null,
            "object_fit": null,
            "object_position": null,
            "order": null,
            "overflow": null,
            "overflow_x": null,
            "overflow_y": null,
            "padding": null,
            "right": null,
            "top": null,
            "visibility": null,
            "width": null
          }
        },
        "021462e9b3f54c08b68d8ae3c2edd569": {
          "model_module": "@jupyter-widgets/controls",
          "model_name": "DescriptionStyleModel",
          "model_module_version": "1.5.0",
          "state": {
            "_model_module": "@jupyter-widgets/controls",
            "_model_module_version": "1.5.0",
            "_model_name": "DescriptionStyleModel",
            "_view_count": null,
            "_view_module": "@jupyter-widgets/base",
            "_view_module_version": "1.2.0",
            "_view_name": "StyleView",
            "description_width": ""
          }
        },
        "f18c2d28943345de9915cee2fae395c9": {
          "model_module": "@jupyter-widgets/base",
          "model_name": "LayoutModel",
          "model_module_version": "1.2.0",
          "state": {
            "_model_module": "@jupyter-widgets/base",
            "_model_module_version": "1.2.0",
            "_model_name": "LayoutModel",
            "_view_count": null,
            "_view_module": "@jupyter-widgets/base",
            "_view_module_version": "1.2.0",
            "_view_name": "LayoutView",
            "align_content": null,
            "align_items": null,
            "align_self": null,
            "border": null,
            "bottom": null,
            "display": null,
            "flex": null,
            "flex_flow": null,
            "grid_area": null,
            "grid_auto_columns": null,
            "grid_auto_flow": null,
            "grid_auto_rows": null,
            "grid_column": null,
            "grid_gap": null,
            "grid_row": null,
            "grid_template_areas": null,
            "grid_template_columns": null,
            "grid_template_rows": null,
            "height": null,
            "justify_content": null,
            "justify_items": null,
            "left": null,
            "margin": null,
            "max_height": null,
            "max_width": null,
            "min_height": null,
            "min_width": null,
            "object_fit": null,
            "object_position": null,
            "order": null,
            "overflow": null,
            "overflow_x": null,
            "overflow_y": null,
            "padding": null,
            "right": null,
            "top": null,
            "visibility": null,
            "width": null
          }
        },
        "a725adb0221c43f3a81c72e7ccf02d53": {
          "model_module": "@jupyter-widgets/controls",
          "model_name": "ProgressStyleModel",
          "model_module_version": "1.5.0",
          "state": {
            "_model_module": "@jupyter-widgets/controls",
            "_model_module_version": "1.5.0",
            "_model_name": "ProgressStyleModel",
            "_view_count": null,
            "_view_module": "@jupyter-widgets/base",
            "_view_module_version": "1.2.0",
            "_view_name": "StyleView",
            "bar_color": null,
            "description_width": ""
          }
        },
        "d36e64b0cbb840158878ccd126293464": {
          "model_module": "@jupyter-widgets/base",
          "model_name": "LayoutModel",
          "model_module_version": "1.2.0",
          "state": {
            "_model_module": "@jupyter-widgets/base",
            "_model_module_version": "1.2.0",
            "_model_name": "LayoutModel",
            "_view_count": null,
            "_view_module": "@jupyter-widgets/base",
            "_view_module_version": "1.2.0",
            "_view_name": "LayoutView",
            "align_content": null,
            "align_items": null,
            "align_self": null,
            "border": null,
            "bottom": null,
            "display": null,
            "flex": null,
            "flex_flow": null,
            "grid_area": null,
            "grid_auto_columns": null,
            "grid_auto_flow": null,
            "grid_auto_rows": null,
            "grid_column": null,
            "grid_gap": null,
            "grid_row": null,
            "grid_template_areas": null,
            "grid_template_columns": null,
            "grid_template_rows": null,
            "height": null,
            "justify_content": null,
            "justify_items": null,
            "left": null,
            "margin": null,
            "max_height": null,
            "max_width": null,
            "min_height": null,
            "min_width": null,
            "object_fit": null,
            "object_position": null,
            "order": null,
            "overflow": null,
            "overflow_x": null,
            "overflow_y": null,
            "padding": null,
            "right": null,
            "top": null,
            "visibility": null,
            "width": null
          }
        },
        "7386f3808bf34b5e8df1c8a37ff20118": {
          "model_module": "@jupyter-widgets/controls",
          "model_name": "DescriptionStyleModel",
          "model_module_version": "1.5.0",
          "state": {
            "_model_module": "@jupyter-widgets/controls",
            "_model_module_version": "1.5.0",
            "_model_name": "DescriptionStyleModel",
            "_view_count": null,
            "_view_module": "@jupyter-widgets/base",
            "_view_module_version": "1.2.0",
            "_view_name": "StyleView",
            "description_width": ""
          }
        },
        "481cf09656b44e1b906f7781204309af": {
          "model_module": "@jupyter-widgets/controls",
          "model_name": "HBoxModel",
          "model_module_version": "1.5.0",
          "state": {
            "_dom_classes": [],
            "_model_module": "@jupyter-widgets/controls",
            "_model_module_version": "1.5.0",
            "_model_name": "HBoxModel",
            "_view_count": null,
            "_view_module": "@jupyter-widgets/controls",
            "_view_module_version": "1.5.0",
            "_view_name": "HBoxView",
            "box_style": "",
            "children": [
              "IPY_MODEL_6ba42b17abb645218982998897b7716b",
              "IPY_MODEL_7d692d70135d48c9b7400e14a7632a7b",
              "IPY_MODEL_e8e49f80032147b18385ab1ba2dfa094"
            ],
            "layout": "IPY_MODEL_da9002decbdc4f94b62ba60f18ea4163"
          }
        },
        "6ba42b17abb645218982998897b7716b": {
          "model_module": "@jupyter-widgets/controls",
          "model_name": "HTMLModel",
          "model_module_version": "1.5.0",
          "state": {
            "_dom_classes": [],
            "_model_module": "@jupyter-widgets/controls",
            "_model_module_version": "1.5.0",
            "_model_name": "HTMLModel",
            "_view_count": null,
            "_view_module": "@jupyter-widgets/controls",
            "_view_module_version": "1.5.0",
            "_view_name": "HTMLView",
            "description": "",
            "description_tooltip": null,
            "layout": "IPY_MODEL_f273fafed58d499abd4b14d12ef5c6db",
            "placeholder": "​",
            "style": "IPY_MODEL_ff64c39aeafa459ba48bbef433757515",
            "value": "Downloading (…)okenizer_config.json: 100%"
          }
        },
        "7d692d70135d48c9b7400e14a7632a7b": {
          "model_module": "@jupyter-widgets/controls",
          "model_name": "FloatProgressModel",
          "model_module_version": "1.5.0",
          "state": {
            "_dom_classes": [],
            "_model_module": "@jupyter-widgets/controls",
            "_model_module_version": "1.5.0",
            "_model_name": "FloatProgressModel",
            "_view_count": null,
            "_view_module": "@jupyter-widgets/controls",
            "_view_module_version": "1.5.0",
            "_view_name": "ProgressView",
            "bar_style": "success",
            "description": "",
            "description_tooltip": null,
            "layout": "IPY_MODEL_f15324ed97d643fa852c84849ca0b959",
            "max": 28,
            "min": 0,
            "orientation": "horizontal",
            "style": "IPY_MODEL_adaf38a1370141668914a227193b5ca9",
            "value": 28
          }
        },
        "e8e49f80032147b18385ab1ba2dfa094": {
          "model_module": "@jupyter-widgets/controls",
          "model_name": "HTMLModel",
          "model_module_version": "1.5.0",
          "state": {
            "_dom_classes": [],
            "_model_module": "@jupyter-widgets/controls",
            "_model_module_version": "1.5.0",
            "_model_name": "HTMLModel",
            "_view_count": null,
            "_view_module": "@jupyter-widgets/controls",
            "_view_module_version": "1.5.0",
            "_view_name": "HTMLView",
            "description": "",
            "description_tooltip": null,
            "layout": "IPY_MODEL_913afd927a22436587e091997424f403",
            "placeholder": "​",
            "style": "IPY_MODEL_c7164484a9db4512b3072258376c527c",
            "value": " 28.0/28.0 [00:00&lt;00:00, 1.68kB/s]"
          }
        },
        "da9002decbdc4f94b62ba60f18ea4163": {
          "model_module": "@jupyter-widgets/base",
          "model_name": "LayoutModel",
          "model_module_version": "1.2.0",
          "state": {
            "_model_module": "@jupyter-widgets/base",
            "_model_module_version": "1.2.0",
            "_model_name": "LayoutModel",
            "_view_count": null,
            "_view_module": "@jupyter-widgets/base",
            "_view_module_version": "1.2.0",
            "_view_name": "LayoutView",
            "align_content": null,
            "align_items": null,
            "align_self": null,
            "border": null,
            "bottom": null,
            "display": null,
            "flex": null,
            "flex_flow": null,
            "grid_area": null,
            "grid_auto_columns": null,
            "grid_auto_flow": null,
            "grid_auto_rows": null,
            "grid_column": null,
            "grid_gap": null,
            "grid_row": null,
            "grid_template_areas": null,
            "grid_template_columns": null,
            "grid_template_rows": null,
            "height": null,
            "justify_content": null,
            "justify_items": null,
            "left": null,
            "margin": null,
            "max_height": null,
            "max_width": null,
            "min_height": null,
            "min_width": null,
            "object_fit": null,
            "object_position": null,
            "order": null,
            "overflow": null,
            "overflow_x": null,
            "overflow_y": null,
            "padding": null,
            "right": null,
            "top": null,
            "visibility": null,
            "width": null
          }
        },
        "f273fafed58d499abd4b14d12ef5c6db": {
          "model_module": "@jupyter-widgets/base",
          "model_name": "LayoutModel",
          "model_module_version": "1.2.0",
          "state": {
            "_model_module": "@jupyter-widgets/base",
            "_model_module_version": "1.2.0",
            "_model_name": "LayoutModel",
            "_view_count": null,
            "_view_module": "@jupyter-widgets/base",
            "_view_module_version": "1.2.0",
            "_view_name": "LayoutView",
            "align_content": null,
            "align_items": null,
            "align_self": null,
            "border": null,
            "bottom": null,
            "display": null,
            "flex": null,
            "flex_flow": null,
            "grid_area": null,
            "grid_auto_columns": null,
            "grid_auto_flow": null,
            "grid_auto_rows": null,
            "grid_column": null,
            "grid_gap": null,
            "grid_row": null,
            "grid_template_areas": null,
            "grid_template_columns": null,
            "grid_template_rows": null,
            "height": null,
            "justify_content": null,
            "justify_items": null,
            "left": null,
            "margin": null,
            "max_height": null,
            "max_width": null,
            "min_height": null,
            "min_width": null,
            "object_fit": null,
            "object_position": null,
            "order": null,
            "overflow": null,
            "overflow_x": null,
            "overflow_y": null,
            "padding": null,
            "right": null,
            "top": null,
            "visibility": null,
            "width": null
          }
        },
        "ff64c39aeafa459ba48bbef433757515": {
          "model_module": "@jupyter-widgets/controls",
          "model_name": "DescriptionStyleModel",
          "model_module_version": "1.5.0",
          "state": {
            "_model_module": "@jupyter-widgets/controls",
            "_model_module_version": "1.5.0",
            "_model_name": "DescriptionStyleModel",
            "_view_count": null,
            "_view_module": "@jupyter-widgets/base",
            "_view_module_version": "1.2.0",
            "_view_name": "StyleView",
            "description_width": ""
          }
        },
        "f15324ed97d643fa852c84849ca0b959": {
          "model_module": "@jupyter-widgets/base",
          "model_name": "LayoutModel",
          "model_module_version": "1.2.0",
          "state": {
            "_model_module": "@jupyter-widgets/base",
            "_model_module_version": "1.2.0",
            "_model_name": "LayoutModel",
            "_view_count": null,
            "_view_module": "@jupyter-widgets/base",
            "_view_module_version": "1.2.0",
            "_view_name": "LayoutView",
            "align_content": null,
            "align_items": null,
            "align_self": null,
            "border": null,
            "bottom": null,
            "display": null,
            "flex": null,
            "flex_flow": null,
            "grid_area": null,
            "grid_auto_columns": null,
            "grid_auto_flow": null,
            "grid_auto_rows": null,
            "grid_column": null,
            "grid_gap": null,
            "grid_row": null,
            "grid_template_areas": null,
            "grid_template_columns": null,
            "grid_template_rows": null,
            "height": null,
            "justify_content": null,
            "justify_items": null,
            "left": null,
            "margin": null,
            "max_height": null,
            "max_width": null,
            "min_height": null,
            "min_width": null,
            "object_fit": null,
            "object_position": null,
            "order": null,
            "overflow": null,
            "overflow_x": null,
            "overflow_y": null,
            "padding": null,
            "right": null,
            "top": null,
            "visibility": null,
            "width": null
          }
        },
        "adaf38a1370141668914a227193b5ca9": {
          "model_module": "@jupyter-widgets/controls",
          "model_name": "ProgressStyleModel",
          "model_module_version": "1.5.0",
          "state": {
            "_model_module": "@jupyter-widgets/controls",
            "_model_module_version": "1.5.0",
            "_model_name": "ProgressStyleModel",
            "_view_count": null,
            "_view_module": "@jupyter-widgets/base",
            "_view_module_version": "1.2.0",
            "_view_name": "StyleView",
            "bar_color": null,
            "description_width": ""
          }
        },
        "913afd927a22436587e091997424f403": {
          "model_module": "@jupyter-widgets/base",
          "model_name": "LayoutModel",
          "model_module_version": "1.2.0",
          "state": {
            "_model_module": "@jupyter-widgets/base",
            "_model_module_version": "1.2.0",
            "_model_name": "LayoutModel",
            "_view_count": null,
            "_view_module": "@jupyter-widgets/base",
            "_view_module_version": "1.2.0",
            "_view_name": "LayoutView",
            "align_content": null,
            "align_items": null,
            "align_self": null,
            "border": null,
            "bottom": null,
            "display": null,
            "flex": null,
            "flex_flow": null,
            "grid_area": null,
            "grid_auto_columns": null,
            "grid_auto_flow": null,
            "grid_auto_rows": null,
            "grid_column": null,
            "grid_gap": null,
            "grid_row": null,
            "grid_template_areas": null,
            "grid_template_columns": null,
            "grid_template_rows": null,
            "height": null,
            "justify_content": null,
            "justify_items": null,
            "left": null,
            "margin": null,
            "max_height": null,
            "max_width": null,
            "min_height": null,
            "min_width": null,
            "object_fit": null,
            "object_position": null,
            "order": null,
            "overflow": null,
            "overflow_x": null,
            "overflow_y": null,
            "padding": null,
            "right": null,
            "top": null,
            "visibility": null,
            "width": null
          }
        },
        "c7164484a9db4512b3072258376c527c": {
          "model_module": "@jupyter-widgets/controls",
          "model_name": "DescriptionStyleModel",
          "model_module_version": "1.5.0",
          "state": {
            "_model_module": "@jupyter-widgets/controls",
            "_model_module_version": "1.5.0",
            "_model_name": "DescriptionStyleModel",
            "_view_count": null,
            "_view_module": "@jupyter-widgets/base",
            "_view_module_version": "1.2.0",
            "_view_name": "StyleView",
            "description_width": ""
          }
        },
        "3eea725e1af048788f3e9a220117de39": {
          "model_module": "@jupyter-widgets/controls",
          "model_name": "HBoxModel",
          "model_module_version": "1.5.0",
          "state": {
            "_dom_classes": [],
            "_model_module": "@jupyter-widgets/controls",
            "_model_module_version": "1.5.0",
            "_model_name": "HBoxModel",
            "_view_count": null,
            "_view_module": "@jupyter-widgets/controls",
            "_view_module_version": "1.5.0",
            "_view_name": "HBoxView",
            "box_style": "",
            "children": [
              "IPY_MODEL_61109532c68b48149c7c9b81e3724d99",
              "IPY_MODEL_cae7f66b945b4463aea1e1a56a3c597d",
              "IPY_MODEL_73b8c85cd7134025a1a3c61b4f77a83e"
            ],
            "layout": "IPY_MODEL_e3f129d34718495084ba4198704b3370"
          }
        },
        "61109532c68b48149c7c9b81e3724d99": {
          "model_module": "@jupyter-widgets/controls",
          "model_name": "HTMLModel",
          "model_module_version": "1.5.0",
          "state": {
            "_dom_classes": [],
            "_model_module": "@jupyter-widgets/controls",
            "_model_module_version": "1.5.0",
            "_model_name": "HTMLModel",
            "_view_count": null,
            "_view_module": "@jupyter-widgets/controls",
            "_view_module_version": "1.5.0",
            "_view_name": "HTMLView",
            "description": "",
            "description_tooltip": null,
            "layout": "IPY_MODEL_78486d43f40a449b93953a709b67b8e1",
            "placeholder": "​",
            "style": "IPY_MODEL_427424bbf9814991939558e298550d39",
            "value": "Downloading (…)lve/main/config.json: 100%"
          }
        },
        "cae7f66b945b4463aea1e1a56a3c597d": {
          "model_module": "@jupyter-widgets/controls",
          "model_name": "FloatProgressModel",
          "model_module_version": "1.5.0",
          "state": {
            "_dom_classes": [],
            "_model_module": "@jupyter-widgets/controls",
            "_model_module_version": "1.5.0",
            "_model_name": "FloatProgressModel",
            "_view_count": null,
            "_view_module": "@jupyter-widgets/controls",
            "_view_module_version": "1.5.0",
            "_view_name": "ProgressView",
            "bar_style": "success",
            "description": "",
            "description_tooltip": null,
            "layout": "IPY_MODEL_2b04e02b5f964443aeae0fece9645ecb",
            "max": 570,
            "min": 0,
            "orientation": "horizontal",
            "style": "IPY_MODEL_34f378798c0e4605a271527e90da3a17",
            "value": 570
          }
        },
        "73b8c85cd7134025a1a3c61b4f77a83e": {
          "model_module": "@jupyter-widgets/controls",
          "model_name": "HTMLModel",
          "model_module_version": "1.5.0",
          "state": {
            "_dom_classes": [],
            "_model_module": "@jupyter-widgets/controls",
            "_model_module_version": "1.5.0",
            "_model_name": "HTMLModel",
            "_view_count": null,
            "_view_module": "@jupyter-widgets/controls",
            "_view_module_version": "1.5.0",
            "_view_name": "HTMLView",
            "description": "",
            "description_tooltip": null,
            "layout": "IPY_MODEL_e09b02abc0cc4f789725b8140d12cef1",
            "placeholder": "​",
            "style": "IPY_MODEL_cced2331762f43a58df797fc18fb375b",
            "value": " 570/570 [00:00&lt;00:00, 46.5kB/s]"
          }
        },
        "e3f129d34718495084ba4198704b3370": {
          "model_module": "@jupyter-widgets/base",
          "model_name": "LayoutModel",
          "model_module_version": "1.2.0",
          "state": {
            "_model_module": "@jupyter-widgets/base",
            "_model_module_version": "1.2.0",
            "_model_name": "LayoutModel",
            "_view_count": null,
            "_view_module": "@jupyter-widgets/base",
            "_view_module_version": "1.2.0",
            "_view_name": "LayoutView",
            "align_content": null,
            "align_items": null,
            "align_self": null,
            "border": null,
            "bottom": null,
            "display": null,
            "flex": null,
            "flex_flow": null,
            "grid_area": null,
            "grid_auto_columns": null,
            "grid_auto_flow": null,
            "grid_auto_rows": null,
            "grid_column": null,
            "grid_gap": null,
            "grid_row": null,
            "grid_template_areas": null,
            "grid_template_columns": null,
            "grid_template_rows": null,
            "height": null,
            "justify_content": null,
            "justify_items": null,
            "left": null,
            "margin": null,
            "max_height": null,
            "max_width": null,
            "min_height": null,
            "min_width": null,
            "object_fit": null,
            "object_position": null,
            "order": null,
            "overflow": null,
            "overflow_x": null,
            "overflow_y": null,
            "padding": null,
            "right": null,
            "top": null,
            "visibility": null,
            "width": null
          }
        },
        "78486d43f40a449b93953a709b67b8e1": {
          "model_module": "@jupyter-widgets/base",
          "model_name": "LayoutModel",
          "model_module_version": "1.2.0",
          "state": {
            "_model_module": "@jupyter-widgets/base",
            "_model_module_version": "1.2.0",
            "_model_name": "LayoutModel",
            "_view_count": null,
            "_view_module": "@jupyter-widgets/base",
            "_view_module_version": "1.2.0",
            "_view_name": "LayoutView",
            "align_content": null,
            "align_items": null,
            "align_self": null,
            "border": null,
            "bottom": null,
            "display": null,
            "flex": null,
            "flex_flow": null,
            "grid_area": null,
            "grid_auto_columns": null,
            "grid_auto_flow": null,
            "grid_auto_rows": null,
            "grid_column": null,
            "grid_gap": null,
            "grid_row": null,
            "grid_template_areas": null,
            "grid_template_columns": null,
            "grid_template_rows": null,
            "height": null,
            "justify_content": null,
            "justify_items": null,
            "left": null,
            "margin": null,
            "max_height": null,
            "max_width": null,
            "min_height": null,
            "min_width": null,
            "object_fit": null,
            "object_position": null,
            "order": null,
            "overflow": null,
            "overflow_x": null,
            "overflow_y": null,
            "padding": null,
            "right": null,
            "top": null,
            "visibility": null,
            "width": null
          }
        },
        "427424bbf9814991939558e298550d39": {
          "model_module": "@jupyter-widgets/controls",
          "model_name": "DescriptionStyleModel",
          "model_module_version": "1.5.0",
          "state": {
            "_model_module": "@jupyter-widgets/controls",
            "_model_module_version": "1.5.0",
            "_model_name": "DescriptionStyleModel",
            "_view_count": null,
            "_view_module": "@jupyter-widgets/base",
            "_view_module_version": "1.2.0",
            "_view_name": "StyleView",
            "description_width": ""
          }
        },
        "2b04e02b5f964443aeae0fece9645ecb": {
          "model_module": "@jupyter-widgets/base",
          "model_name": "LayoutModel",
          "model_module_version": "1.2.0",
          "state": {
            "_model_module": "@jupyter-widgets/base",
            "_model_module_version": "1.2.0",
            "_model_name": "LayoutModel",
            "_view_count": null,
            "_view_module": "@jupyter-widgets/base",
            "_view_module_version": "1.2.0",
            "_view_name": "LayoutView",
            "align_content": null,
            "align_items": null,
            "align_self": null,
            "border": null,
            "bottom": null,
            "display": null,
            "flex": null,
            "flex_flow": null,
            "grid_area": null,
            "grid_auto_columns": null,
            "grid_auto_flow": null,
            "grid_auto_rows": null,
            "grid_column": null,
            "grid_gap": null,
            "grid_row": null,
            "grid_template_areas": null,
            "grid_template_columns": null,
            "grid_template_rows": null,
            "height": null,
            "justify_content": null,
            "justify_items": null,
            "left": null,
            "margin": null,
            "max_height": null,
            "max_width": null,
            "min_height": null,
            "min_width": null,
            "object_fit": null,
            "object_position": null,
            "order": null,
            "overflow": null,
            "overflow_x": null,
            "overflow_y": null,
            "padding": null,
            "right": null,
            "top": null,
            "visibility": null,
            "width": null
          }
        },
        "34f378798c0e4605a271527e90da3a17": {
          "model_module": "@jupyter-widgets/controls",
          "model_name": "ProgressStyleModel",
          "model_module_version": "1.5.0",
          "state": {
            "_model_module": "@jupyter-widgets/controls",
            "_model_module_version": "1.5.0",
            "_model_name": "ProgressStyleModel",
            "_view_count": null,
            "_view_module": "@jupyter-widgets/base",
            "_view_module_version": "1.2.0",
            "_view_name": "StyleView",
            "bar_color": null,
            "description_width": ""
          }
        },
        "e09b02abc0cc4f789725b8140d12cef1": {
          "model_module": "@jupyter-widgets/base",
          "model_name": "LayoutModel",
          "model_module_version": "1.2.0",
          "state": {
            "_model_module": "@jupyter-widgets/base",
            "_model_module_version": "1.2.0",
            "_model_name": "LayoutModel",
            "_view_count": null,
            "_view_module": "@jupyter-widgets/base",
            "_view_module_version": "1.2.0",
            "_view_name": "LayoutView",
            "align_content": null,
            "align_items": null,
            "align_self": null,
            "border": null,
            "bottom": null,
            "display": null,
            "flex": null,
            "flex_flow": null,
            "grid_area": null,
            "grid_auto_columns": null,
            "grid_auto_flow": null,
            "grid_auto_rows": null,
            "grid_column": null,
            "grid_gap": null,
            "grid_row": null,
            "grid_template_areas": null,
            "grid_template_columns": null,
            "grid_template_rows": null,
            "height": null,
            "justify_content": null,
            "justify_items": null,
            "left": null,
            "margin": null,
            "max_height": null,
            "max_width": null,
            "min_height": null,
            "min_width": null,
            "object_fit": null,
            "object_position": null,
            "order": null,
            "overflow": null,
            "overflow_x": null,
            "overflow_y": null,
            "padding": null,
            "right": null,
            "top": null,
            "visibility": null,
            "width": null
          }
        },
        "cced2331762f43a58df797fc18fb375b": {
          "model_module": "@jupyter-widgets/controls",
          "model_name": "DescriptionStyleModel",
          "model_module_version": "1.5.0",
          "state": {
            "_model_module": "@jupyter-widgets/controls",
            "_model_module_version": "1.5.0",
            "_model_name": "DescriptionStyleModel",
            "_view_count": null,
            "_view_module": "@jupyter-widgets/base",
            "_view_module_version": "1.2.0",
            "_view_name": "StyleView",
            "description_width": ""
          }
        }
      }
    }
  },
  "cells": [
    {
      "cell_type": "code",
      "execution_count": 1,
      "metadata": {
        "colab": {
          "base_uri": "https://localhost:8080/"
        },
        "id": "J0AVJ5u_7SAj",
        "outputId": "3df88505-f351-4e3e-f1ee-06c37c661c71"
      },
      "outputs": [
        {
          "output_type": "stream",
          "name": "stdout",
          "text": [
            "Looking in indexes: https://pypi.org/simple, https://us-python.pkg.dev/colab-wheels/public/simple/\n",
            "Collecting transformers\n",
            "  Downloading transformers-4.28.1-py3-none-any.whl (7.0 MB)\n",
            "\u001b[2K     \u001b[90m━━━━━━━━━━━━━━━━━━━━━━━━━━━━━━━━━━━━━━━━\u001b[0m \u001b[32m7.0/7.0 MB\u001b[0m \u001b[31m89.6 MB/s\u001b[0m eta \u001b[36m0:00:00\u001b[0m\n",
            "\u001b[?25hCollecting tokenizers!=0.11.3,<0.14,>=0.11.1\n",
            "  Downloading tokenizers-0.13.3-cp310-cp310-manylinux_2_17_x86_64.manylinux2014_x86_64.whl (7.8 MB)\n",
            "\u001b[2K     \u001b[90m━━━━━━━━━━━━━━━━━━━━━━━━━━━━━━━━━━━━━━━━\u001b[0m \u001b[32m7.8/7.8 MB\u001b[0m \u001b[31m110.3 MB/s\u001b[0m eta \u001b[36m0:00:00\u001b[0m\n",
            "\u001b[?25hRequirement already satisfied: tqdm>=4.27 in /usr/local/lib/python3.10/dist-packages (from transformers) (4.65.0)\n",
            "Requirement already satisfied: filelock in /usr/local/lib/python3.10/dist-packages (from transformers) (3.12.0)\n",
            "Requirement already satisfied: packaging>=20.0 in /usr/local/lib/python3.10/dist-packages (from transformers) (23.1)\n",
            "Requirement already satisfied: regex!=2019.12.17 in /usr/local/lib/python3.10/dist-packages (from transformers) (2022.10.31)\n",
            "Requirement already satisfied: requests in /usr/local/lib/python3.10/dist-packages (from transformers) (2.27.1)\n",
            "Requirement already satisfied: numpy>=1.17 in /usr/local/lib/python3.10/dist-packages (from transformers) (1.22.4)\n",
            "Requirement already satisfied: pyyaml>=5.1 in /usr/local/lib/python3.10/dist-packages (from transformers) (6.0)\n",
            "Collecting huggingface-hub<1.0,>=0.11.0\n",
            "  Downloading huggingface_hub-0.14.1-py3-none-any.whl (224 kB)\n",
            "\u001b[2K     \u001b[90m━━━━━━━━━━━━━━━━━━━━━━━━━━━━━━━━━━━━━━\u001b[0m \u001b[32m224.5/224.5 kB\u001b[0m \u001b[31m27.9 MB/s\u001b[0m eta \u001b[36m0:00:00\u001b[0m\n",
            "\u001b[?25hRequirement already satisfied: fsspec in /usr/local/lib/python3.10/dist-packages (from huggingface-hub<1.0,>=0.11.0->transformers) (2023.4.0)\n",
            "Requirement already satisfied: typing-extensions>=3.7.4.3 in /usr/local/lib/python3.10/dist-packages (from huggingface-hub<1.0,>=0.11.0->transformers) (4.5.0)\n",
            "Requirement already satisfied: idna<4,>=2.5 in /usr/local/lib/python3.10/dist-packages (from requests->transformers) (3.4)\n",
            "Requirement already satisfied: charset-normalizer~=2.0.0 in /usr/local/lib/python3.10/dist-packages (from requests->transformers) (2.0.12)\n",
            "Requirement already satisfied: urllib3<1.27,>=1.21.1 in /usr/local/lib/python3.10/dist-packages (from requests->transformers) (1.26.15)\n",
            "Requirement already satisfied: certifi>=2017.4.17 in /usr/local/lib/python3.10/dist-packages (from requests->transformers) (2022.12.7)\n",
            "Installing collected packages: tokenizers, huggingface-hub, transformers\n",
            "Successfully installed huggingface-hub-0.14.1 tokenizers-0.13.3 transformers-4.28.1\n"
          ]
        }
      ],
      "source": [
        "!pip install transformers"
      ]
    },
    {
      "cell_type": "code",
      "source": [
        "import pandas as pd\n",
        "import numpy as np\n",
        "import tensorflow as tf\n",
        "from transformers import BertTokenizer, TFBertForSequenceClassification\n",
        "from sklearn.model_selection import train_test_split\n"
      ],
      "metadata": {
        "id": "obX6JmpB8Wi5"
      },
      "execution_count": 2,
      "outputs": []
    },
    {
      "cell_type": "code",
      "source": [
        "# Load the IMDB dataset from CSV\n",
        "df = pd.read_csv('/content/drive/MyDrive/IMDB_Dataset.csv', encoding='utf-8',on_bad_lines='skip')\n"
      ],
      "metadata": {
        "id": "QcTM3YFd8gZQ"
      },
      "execution_count": 3,
      "outputs": []
    },
    {
      "cell_type": "code",
      "source": [
        "test_df = pd.read_csv('/content/drive/MyDrive/movie-review-dataset.csv', on_bad_lines='skip')"
      ],
      "metadata": {
        "id": "W529Xbei8jdu"
      },
      "execution_count": 4,
      "outputs": []
    },
    {
      "cell_type": "code",
      "source": [
        "df['sentiment'] = df['sentiment'].replace({'positive': 1, 'negative': 0})\n",
        "\n",
        "print(df.head(20))"
      ],
      "metadata": {
        "colab": {
          "base_uri": "https://localhost:8080/"
        },
        "id": "xC8q0KRM8mnG",
        "outputId": "8de30b7d-5100-4494-deee-fd9b1cc672c8"
      },
      "execution_count": 5,
      "outputs": [
        {
          "output_type": "stream",
          "name": "stdout",
          "text": [
            "                                               review  sentiment\n",
            "0   One of the other reviewers has mentioned that ...          1\n",
            "1   A wonderful little production. <br /><br />The...          1\n",
            "2   I thought this was a wonderful way to spend ti...          1\n",
            "3   Basically there's a family where a little boy ...          0\n",
            "4   Petter Mattei's \"Love in the Time of Money\" is...          1\n",
            "5   Probably my all-time favorite movie, a story o...          1\n",
            "6   I sure would like to see a resurrection of a u...          1\n",
            "7   This show was an amazing, fresh & innovative i...          0\n",
            "8   Encouraged by the positive comments about this...          0\n",
            "9   If you like original gut wrenching laughter yo...          1\n",
            "10  Phil the Alien is one of those quirky films wh...          0\n",
            "11  I saw this movie when I was about 12 when it c...          0\n",
            "12  So im not a big fan of Boll's work but then ag...          0\n",
            "13  The cast played Shakespeare.<br /><br />Shakes...          0\n",
            "14  This a fantastic movie of three prisoners who ...          1\n",
            "15  Kind of drawn in by the erotic scenes, only to...          0\n",
            "16  Some films just simply should not be remade. T...          1\n",
            "17  This movie made it into one of my top 10 most ...          0\n",
            "18  I remember this film,it was the first film i h...          1\n",
            "19  An awful film! It must have been up against so...          0\n"
          ]
        }
      ]
    },
    {
      "cell_type": "code",
      "source": [
        "# Preprocess the text column\n",
        "import re\n",
        "import pandas as pd\n",
        "import numpy as np\n",
        "def preprocess_text(text):\n",
        "    # Convert to lowercase\n",
        "    text = text.lower()\n",
        "    # Remove html tags\n",
        "    text = re.sub('<[^<]+?>', '', text)\n",
        "    # Remove punctuation\n",
        "    text = re.sub(r'[^\\w\\s]', '', text)\n",
        "    # Remove numbers\n",
        "    text = re.sub(r'\\d+', '', text)\n",
        "    # Remove extra whitespace\n",
        "    text = ' '.join(text.split())\n",
        "    return text\n",
        "\n",
        "df['review'] = df['review'].apply(preprocess_text)"
      ],
      "metadata": {
        "id": "46VqPjp_8om1"
      },
      "execution_count": 6,
      "outputs": []
    },
    {
      "cell_type": "code",
      "source": [
        "df1 = df[df['review'].str.split().str.len() < 100]\n",
        "\n",
        "print(df1.head(10))\n"
      ],
      "metadata": {
        "colab": {
          "base_uri": "https://localhost:8080/"
        },
        "id": "475tcN-L8rMn",
        "outputId": "c5ebd055-2d12-40bc-f0cd-a34a686443eb"
      },
      "execution_count": 7,
      "outputs": [
        {
          "output_type": "stream",
          "name": "stdout",
          "text": [
            "                                               review  sentiment\n",
            "9   if you like original gut wrenching laughter yo...          1\n",
            "10  phil the alien is one of those quirky films wh...          0\n",
            "14  this a fantastic movie of three prisoners who ...          1\n",
            "22  what an absolutely stunning movie if you have ...          1\n",
            "36  the plot is about the death of little children...          0\n",
            "46  protocol is an implausible movie whose only sa...          0\n",
            "49  average and surprisingly tame fulci giallo whi...          0\n",
            "53  i cannot believe i enjoyed this as much as i d...          1\n",
            "62  so lets beginthe movie itself is as original a...          1\n",
            "63  besides being boring the scenes were oppressiv...          0\n"
          ]
        }
      ]
    },
    {
      "cell_type": "code",
      "source": [
        "# Define tokenizer\n",
        "import transformers\n",
        "tokenizer = BertTokenizer.from_pretrained('bert-base-uncased')\n",
        "\n"
      ],
      "metadata": {
        "colab": {
          "base_uri": "https://localhost:8080/",
          "height": 113,
          "referenced_widgets": [
            "068429aadf074487af4b23dcdfaa74e0",
            "f86b5b9b0aac4a5f9e1e9c24c087e64f",
            "25fcdce465dc483dbda7d5842185c498",
            "070c95ef163648f18031ccb2137cd930",
            "647257a0584248dfaf0467c5f915d5ab",
            "f72a242d45ce4a01b8236c23a436f44b",
            "021462e9b3f54c08b68d8ae3c2edd569",
            "f18c2d28943345de9915cee2fae395c9",
            "a725adb0221c43f3a81c72e7ccf02d53",
            "d36e64b0cbb840158878ccd126293464",
            "7386f3808bf34b5e8df1c8a37ff20118",
            "481cf09656b44e1b906f7781204309af",
            "6ba42b17abb645218982998897b7716b",
            "7d692d70135d48c9b7400e14a7632a7b",
            "e8e49f80032147b18385ab1ba2dfa094",
            "da9002decbdc4f94b62ba60f18ea4163",
            "f273fafed58d499abd4b14d12ef5c6db",
            "ff64c39aeafa459ba48bbef433757515",
            "f15324ed97d643fa852c84849ca0b959",
            "adaf38a1370141668914a227193b5ca9",
            "913afd927a22436587e091997424f403",
            "c7164484a9db4512b3072258376c527c",
            "3eea725e1af048788f3e9a220117de39",
            "61109532c68b48149c7c9b81e3724d99",
            "cae7f66b945b4463aea1e1a56a3c597d",
            "73b8c85cd7134025a1a3c61b4f77a83e",
            "e3f129d34718495084ba4198704b3370",
            "78486d43f40a449b93953a709b67b8e1",
            "427424bbf9814991939558e298550d39",
            "2b04e02b5f964443aeae0fece9645ecb",
            "34f378798c0e4605a271527e90da3a17",
            "e09b02abc0cc4f789725b8140d12cef1",
            "cced2331762f43a58df797fc18fb375b"
          ]
        },
        "id": "E2i2we_f8tT-",
        "outputId": "4fe7de88-e552-4d46-f529-b9ec96c1a70c"
      },
      "execution_count": 8,
      "outputs": [
        {
          "output_type": "display_data",
          "data": {
            "text/plain": [
              "Downloading (…)solve/main/vocab.txt:   0%|          | 0.00/232k [00:00<?, ?B/s]"
            ],
            "application/vnd.jupyter.widget-view+json": {
              "version_major": 2,
              "version_minor": 0,
              "model_id": "068429aadf074487af4b23dcdfaa74e0"
            }
          },
          "metadata": {}
        },
        {
          "output_type": "display_data",
          "data": {
            "text/plain": [
              "Downloading (…)okenizer_config.json:   0%|          | 0.00/28.0 [00:00<?, ?B/s]"
            ],
            "application/vnd.jupyter.widget-view+json": {
              "version_major": 2,
              "version_minor": 0,
              "model_id": "481cf09656b44e1b906f7781204309af"
            }
          },
          "metadata": {}
        },
        {
          "output_type": "display_data",
          "data": {
            "text/plain": [
              "Downloading (…)lve/main/config.json:   0%|          | 0.00/570 [00:00<?, ?B/s]"
            ],
            "application/vnd.jupyter.widget-view+json": {
              "version_major": 2,
              "version_minor": 0,
              "model_id": "3eea725e1af048788f3e9a220117de39"
            }
          },
          "metadata": {}
        }
      ]
    },
    {
      "cell_type": "code",
      "source": [
        "# Tokenize train dataset\n",
        "import torch\n",
        "# Tokenize train dataset\n",
        "train_encodings = tokenizer(list(df1['review']), padding=True, truncation=True, max_length=100)\n",
        "X_train = train_encodings['input_ids']\n",
        "y_train = np.array(list(df1['sentiment']))\n",
        "print(len(X_train))\n",
        "print(len(y_train))\n",
        "\n"
      ],
      "metadata": {
        "colab": {
          "base_uri": "https://localhost:8080/"
        },
        "id": "1PmPnU7N8wMX",
        "outputId": "8f6c30fa-b999-41bb-e8e1-1d4e148e2a2a"
      },
      "execution_count": 9,
      "outputs": [
        {
          "output_type": "stream",
          "name": "stdout",
          "text": [
            "6510\n",
            "6510\n"
          ]
        }
      ]
    },
    {
      "cell_type": "code",
      "source": [
        "# Tokenize test dataset\n",
        "test_encodings = tokenizer(list(test_df['review']), padding=True, truncation=True, max_length=100)\n",
        "X_val = test_encodings['input_ids']\n",
        "y_val = np.array(list(test_df['sentiment']))"
      ],
      "metadata": {
        "id": "2kBmfEku89tE"
      },
      "execution_count": 10,
      "outputs": []
    },
    {
      "cell_type": "code",
      "source": [
        "from transformers import TFBertForSequenceClassification\n",
        "\n",
        "# Load saved model\n",
        "model_path = '/content/drive/MyDrive/Model/Model-PreTrained'\n",
        "model = TFBertForSequenceClassification.from_pretrained(model_path)"
      ],
      "metadata": {
        "colab": {
          "base_uri": "https://localhost:8080/"
        },
        "id": "JCu8DikF02Z_",
        "outputId": "f18ec185-d9f7-485a-be7b-7497265ff6dd"
      },
      "execution_count": 11,
      "outputs": [
        {
          "output_type": "stream",
          "name": "stderr",
          "text": [
            "Some layers from the model checkpoint at /content/drive/MyDrive/Model/Model-PreTrained were not used when initializing TFBertForSequenceClassification: ['dropout_75']\n",
            "- This IS expected if you are initializing TFBertForSequenceClassification from the checkpoint of a model trained on another task or with another architecture (e.g. initializing a BertForSequenceClassification model from a BertForPreTraining model).\n",
            "- This IS NOT expected if you are initializing TFBertForSequenceClassification from the checkpoint of a model that you expect to be exactly identical (initializing a BertForSequenceClassification model from a BertForSequenceClassification model).\n",
            "All the layers of TFBertForSequenceClassification were initialized from the model checkpoint at /content/drive/MyDrive/Model/Model-PreTrained.\n",
            "If your task is similar to the task the model of the checkpoint was trained on, you can already use TFBertForSequenceClassification for predictions without further training.\n"
          ]
        }
      ]
    },
    {
      "cell_type": "code",
      "source": [
        "from transformers import TFBertForSequenceClassification\n",
        "\n",
        "# Define BERT model\n",
        "model = TFBertForSequenceClassification.from_pretrained('bert-base-uncased', num_labels=2)\n",
        "\n"
      ],
      "metadata": {
        "colab": {
          "base_uri": "https://localhost:8080/"
        },
        "id": "QVGfJ6599Rs8",
        "outputId": "d014c547-fdfa-4d2a-c0ef-aee442b83f55"
      },
      "execution_count": null,
      "outputs": [
        {
          "output_type": "stream",
          "name": "stderr",
          "text": [
            "Some layers from the model checkpoint at /content/drive/MyDrive/Model/Model-PreTrained were not used when initializing TFBertForSequenceClassification: ['dropout_75']\n",
            "- This IS expected if you are initializing TFBertForSequenceClassification from the checkpoint of a model trained on another task or with another architecture (e.g. initializing a BertForSequenceClassification model from a BertForPreTraining model).\n",
            "- This IS NOT expected if you are initializing TFBertForSequenceClassification from the checkpoint of a model that you expect to be exactly identical (initializing a BertForSequenceClassification model from a BertForSequenceClassification model).\n",
            "All the layers of TFBertForSequenceClassification were initialized from the model checkpoint at /content/drive/MyDrive/Model/Model-PreTrained.\n",
            "If your task is similar to the task the model of the checkpoint was trained on, you can already use TFBertForSequenceClassification for predictions without further training.\n"
          ]
        }
      ]
    },
    {
      "cell_type": "code",
      "source": [
        "# Compile the model\n",
        "optimizer = tf.keras.optimizers.Adam(learning_rate=2e-5, epsilon=1e-08)\n",
        "loss = tf.keras.losses.SparseCategoricalCrossentropy(from_logits=True)\n",
        "metric = tf.keras.metrics.SparseCategoricalAccuracy('accuracy')\n",
        "model.compile(optimizer=optimizer, loss=loss, metrics=[metric])"
      ],
      "metadata": {
        "id": "9PiVk8F89U66"
      },
      "execution_count": 12,
      "outputs": []
    },
    {
      "cell_type": "code",
      "source": [
        "# Train the model\n",
        "train_dataset = tf.data.Dataset.from_tensor_slices((\n",
        "    {\"input_ids\": X_train, \"attention_mask\": np.ones_like(X_train)},\n",
        "    y_train\n",
        "))\n",
        "train_dataset = train_dataset.shuffle(len(X_train)).batch(32)"
      ],
      "metadata": {
        "id": "0ayCZK8o_JsR"
      },
      "execution_count": 13,
      "outputs": []
    },
    {
      "cell_type": "code",
      "source": [
        "val_dataset = tf.data.Dataset.from_tensor_slices((\n",
        "    {\"input_ids\": X_val, \"attention_mask\": np.ones_like(X_val)},\n",
        "    y_val\n",
        "))\n",
        "val_dataset = val_dataset.batch(32)"
      ],
      "metadata": {
        "id": "P7z3_vIR_LtB"
      },
      "execution_count": 14,
      "outputs": []
    },
    {
      "cell_type": "code",
      "source": [
        "# test_df.columns = ['review', 'sentiment']\n",
        "# test_df.to_csv('test1.csv', index=False)\n",
        "texts = np.array(test_df['review'])\n",
        "labels = np.array(test_df['sentiment'])"
      ],
      "metadata": {
        "id": "gGCDHlJl08V9"
      },
      "execution_count": null,
      "outputs": []
    },
    {
      "cell_type": "code",
      "source": [
        "print(test_df.shape)"
      ],
      "metadata": {
        "colab": {
          "base_uri": "https://localhost:8080/"
        },
        "id": "sHp8Z_pj2z2C",
        "outputId": "ab4d44c8-cf61-46e0-9b03-f1b5304e6fb9"
      },
      "execution_count": null,
      "outputs": [
        {
          "output_type": "stream",
          "name": "stdout",
          "text": [
            "(609, 2)\n"
          ]
        }
      ]
    },
    {
      "cell_type": "code",
      "source": [
        "# test_df.columns = ['review', 'sentiment']\n",
        "# test_df.to_csv('test1.csv', index=False)\n",
        "import pandas as pd\n",
        "\n",
        "df_adv1 = pd.read_csv('/content/drive/MyDrive/Adversarial_Examples/BAEGarg2019.csv', header=None, names=['review'])\n",
        "# data.columns = ['review'] # Add header 'review' to the DataFrame\n",
        "\n",
        "\n",
        "print(df_adv1.shape)\n",
        "\n"
      ],
      "metadata": {
        "id": "zJE81fRpGvgO",
        "colab": {
          "base_uri": "https://localhost:8080/"
        },
        "outputId": "a825dfc6-5468-4423-fae5-b2a5a3006d06"
      },
      "execution_count": null,
      "outputs": [
        {
          "output_type": "stream",
          "name": "stdout",
          "text": [
            "(609, 1)\n"
          ]
        }
      ]
    },
    {
      "cell_type": "code",
      "source": [
        "df_adv1 = pd.DataFrame({'review': df_adv1['review'], 'sentiment': labels })"
      ],
      "metadata": {
        "id": "fU9_gwqrFDpi"
      },
      "execution_count": null,
      "outputs": []
    },
    {
      "cell_type": "code",
      "source": [
        "print(df_adv1.head(10))"
      ],
      "metadata": {
        "colab": {
          "base_uri": "https://localhost:8080/"
        },
        "id": "M6k88sefGbPu",
        "outputId": "8a22eb3e-ff02-4ad8-8db2-f36ec79c4a96"
      },
      "execution_count": null,
      "outputs": [
        {
          "output_type": "stream",
          "name": "stdout",
          "text": [
            "                              review  sentiment\n",
            "0                This movie was bad!          1\n",
            "1               The acting was great          0\n",
            "2               I loved this feeling          1\n",
            "3            It was a moment of time          0\n",
            "4                 The plot was great          0\n",
            "5                This is a bad movie          1\n",
            "6  I please not recommend this movie          0\n",
            "7        The cinematography was used          1\n",
            "8               The script was great          0\n",
            "9               The ending was given          0\n"
          ]
        }
      ]
    },
    {
      "cell_type": "code",
      "source": [
        "df_adv1['review'] = df_adv1['review'].apply(preprocess_text)"
      ],
      "metadata": {
        "id": "xonOTbx4_r29"
      },
      "execution_count": null,
      "outputs": []
    },
    {
      "cell_type": "code",
      "source": [
        "adv_df1 = df_adv1[df_adv1['review'].str.split().str.len() < 100]"
      ],
      "metadata": {
        "id": "mBnrRLnOAQH0"
      },
      "execution_count": null,
      "outputs": []
    },
    {
      "cell_type": "code",
      "source": [
        "print(adv_df1.head(10))"
      ],
      "metadata": {
        "colab": {
          "base_uri": "https://localhost:8080/"
        },
        "id": "zRR778uzFSZQ",
        "outputId": "fda0017e-f3a5-4e0f-89a7-89c2ceb583ad"
      },
      "execution_count": null,
      "outputs": [
        {
          "output_type": "stream",
          "name": "stdout",
          "text": [
            "                              review  sentiment\n",
            "0                 this movie was bad          1\n",
            "1               the acting was great          0\n",
            "2               i loved this feeling          1\n",
            "3            it was a moment of time          0\n",
            "4                 the plot was great          0\n",
            "5                this is a bad movie          1\n",
            "6  i please not recommend this movie          0\n",
            "7        the cinematography was used          1\n",
            "8               the script was great          0\n",
            "9               the ending was given          0\n"
          ]
        }
      ]
    },
    {
      "cell_type": "code",
      "source": [
        "adv_df1 = pd.concat([df1, adv_df1], ignore_index=True)"
      ],
      "metadata": {
        "id": "FPioRJyvIgwz"
      },
      "execution_count": null,
      "outputs": []
    },
    {
      "cell_type": "code",
      "source": [
        "# Create DataFrame with adv_texts and labels\n",
        "df_adv2 = pd.read_csv('/content/drive/MyDrive/Adversarial_Examples/CheckList2020.csv', header=None, names=['review'])\n",
        "df_adv2 = pd.DataFrame({'review': df_adv2['review'], 'sentiment': labels })\n",
        "df_adv2['review'] = df_adv2['review'].apply(preprocess_text)\n",
        "adv_df2 = df_adv2[df_adv2['review'].str.split().str.len() < 100]"
      ],
      "metadata": {
        "id": "cdIQV124AToN"
      },
      "execution_count": null,
      "outputs": []
    },
    {
      "cell_type": "code",
      "source": [
        "# Create a new dataframe containing both original and adversarial examples\n",
        "DF_ADV1 = pd.concat([adv_df1, adv_df2], ignore_index=True)"
      ],
      "metadata": {
        "id": "1qZeHTm4AyWu"
      },
      "execution_count": null,
      "outputs": []
    },
    {
      "cell_type": "code",
      "source": [
        "print(DF_ADV1.head(10))"
      ],
      "metadata": {
        "colab": {
          "base_uri": "https://localhost:8080/"
        },
        "id": "L6t-Vs3N3899",
        "outputId": "ce4dfe5b-20d2-4046-92af-2cc67e3298eb"
      },
      "execution_count": null,
      "outputs": [
        {
          "output_type": "stream",
          "name": "stdout",
          "text": [
            "                                              review  sentiment\n",
            "0  if you like original gut wrenching laughter yo...          1\n",
            "1  phil the alien is one of those quirky films wh...          0\n",
            "2  this a fantastic movie of three prisoners who ...          1\n",
            "3  what an absolutely stunning movie if you have ...          1\n",
            "4  the plot is about the death of little children...          0\n",
            "5  protocol is an implausible movie whose only sa...          0\n",
            "6  average and surprisingly tame fulci giallo whi...          0\n",
            "7  i cannot believe i enjoyed this as much as i d...          1\n",
            "8  so lets beginthe movie itself is as original a...          1\n",
            "9  besides being boring the scenes were oppressiv...          0\n"
          ]
        }
      ]
    },
    {
      "cell_type": "code",
      "source": [
        "# Create DataFrame with adv_texts and labels\n",
        "df_adv3 = pd.read_csv('/content/drive/MyDrive/Adversarial_Examples/DeepWordBugGao2018.csv', header=None, names=['review'])\n",
        "df_adv3 = pd.DataFrame({'review': df_adv3['review'], 'sentiment': labels })\n",
        "df_adv3['review'] = df_adv3['review'].apply(preprocess_text)\n",
        "adv_df3 = df_adv3[df_adv3['review'].str.split().str.len() < 100]"
      ],
      "metadata": {
        "id": "mw1lO7ruA-Lp"
      },
      "execution_count": null,
      "outputs": []
    },
    {
      "cell_type": "code",
      "source": [
        "DF_ADV2 = pd.concat([DF_ADV1, adv_df3], ignore_index=True)"
      ],
      "metadata": {
        "id": "vC1gQjBgBNQU"
      },
      "execution_count": null,
      "outputs": []
    },
    {
      "cell_type": "code",
      "source": [
        "print(DF_ADV2.tail(5))"
      ],
      "metadata": {
        "colab": {
          "base_uri": "https://localhost:8080/"
        },
        "id": "XYCsF8H34aVh",
        "outputId": "840b03e3-59ea-432a-abc2-713a22e3df07"
      },
      "execution_count": null,
      "outputs": [
        {
          "output_type": "stream",
          "name": "stdout",
          "text": [
            "                                                 review  sentiment\n",
            "8332  the special effects were fmpressive and added ...          1\n",
            "8333  i found the move to be emotionally reosnant an...          1\n",
            "8334             the actign was emdiocre and frgettable          0\n",
            "8335  thje pacing of the flim was perect and kept me...          1\n",
            "8336  i pthought the mvoie was a complete wate of tvime          0\n"
          ]
        }
      ]
    },
    {
      "cell_type": "code",
      "source": [
        "# Create DataFrame with adv_texts and labels\n",
        "df_adv4 = pd.read_csv('/content/drive/MyDrive/Adversarial_Examples/IGAWang2019.csv', header=None, names=['review'])\n",
        "df_adv4 = pd.DataFrame({'review': df_adv4['review'], 'sentiment': labels })\n",
        "df_adv4['review'] = df_adv4['review'].apply(preprocess_text)\n",
        "adv_df4 = df_adv4[df_adv4['review'].str.split().str.len() < 100]"
      ],
      "metadata": {
        "id": "x9LOifBbBU3I"
      },
      "execution_count": null,
      "outputs": []
    },
    {
      "cell_type": "code",
      "source": [
        "DF_ADV3 = pd.concat([DF_ADV2, adv_df4], ignore_index=True)"
      ],
      "metadata": {
        "id": "Ha9V9iC2BfRd"
      },
      "execution_count": null,
      "outputs": []
    },
    {
      "cell_type": "code",
      "source": [
        "print(DF_ADV3.tail(5))"
      ],
      "metadata": {
        "colab": {
          "base_uri": "https://localhost:8080/"
        },
        "id": "Cn_gwDr04ovW",
        "outputId": "ee5b625a-aa57-4ed2-ed9b-b21ac701ff84"
      },
      "execution_count": null,
      "outputs": [
        {
          "output_type": "stream",
          "name": "stdout",
          "text": [
            "                                                 review  sentiment\n",
            "2431  the specialised effects were sumptuous and add...          1\n",
            "2432  i revealing the cinemas to be mentally resonan...          1\n",
            "2433     the response was unimaginative and forgettable          0\n",
            "2434  the pacing of the theater was irreproachable a...          1\n",
            "2435  i thought the movie was a complete residue of ...          0\n"
          ]
        }
      ]
    },
    {
      "cell_type": "code",
      "source": [
        "# Create DataFrame with adv_texts and labels\n",
        "df_adv5 = pd.read_csv('/content/drive/MyDrive/Adversarial_Examples/InputReductionFeng2018.csv', header=None, names=['review'])\n",
        "df_adv5 = pd.DataFrame({'review': df_adv5['review'], 'sentiment': labels })\n",
        "df_adv5['review'] = df_adv5['review'].apply(preprocess_text)\n",
        "adv_df5 = df_adv5[df_adv5['review'].str.split().str.len() < 100]"
      ],
      "metadata": {
        "id": "WS2orIjNBi7r"
      },
      "execution_count": null,
      "outputs": []
    },
    {
      "cell_type": "code",
      "source": [
        "DF_ADV4 = pd.concat([DF_ADV3, adv_df5], ignore_index=True)"
      ],
      "metadata": {
        "id": "jTkVZB0JBtgg"
      },
      "execution_count": null,
      "outputs": []
    },
    {
      "cell_type": "code",
      "source": [
        "# Create DataFrame with adv_texts and labels\n",
        "df_adv6 = pd.read_csv('/content/drive/MyDrive/Adversarial_Examples/PWWSRen2019.csv', header=None, names=['review'])\n",
        "df_adv6 = pd.DataFrame({'review': df_adv6['review'], 'sentiment': labels })\n",
        "df_adv6['review'] = df_adv6['review'].apply(preprocess_text)\n",
        "adv_df6 = df_adv6[df_adv6['review'].str.split().str.len() < 100]"
      ],
      "metadata": {
        "id": "1S_je1BRBxRI"
      },
      "execution_count": null,
      "outputs": []
    },
    {
      "cell_type": "code",
      "source": [
        "DF_ADV5 = pd.concat([DF_ADV4, adv_df6], ignore_index=True)"
      ],
      "metadata": {
        "id": "V86p8fKzB6N6"
      },
      "execution_count": null,
      "outputs": []
    },
    {
      "cell_type": "code",
      "source": [
        "# Create DataFrame with adv_texts and labels\n",
        "df_adv7 = pd.read_csv('/content/drive/MyDrive/Adversarial_Examples/Pruthi2019.csv', header=None, names=['review'])\n",
        "df_adv7 = pd.DataFrame({'review': df_adv7['review'], 'sentiment': labels })\n",
        "df_adv7['review'] = df_adv7['review'].apply(preprocess_text)\n",
        "adv_df7 = df_adv7[df_adv7['review'].str.split().str.len() < 100]"
      ],
      "metadata": {
        "id": "IpZ6ZAprB-ku"
      },
      "execution_count": null,
      "outputs": []
    },
    {
      "cell_type": "code",
      "source": [
        "DF_ADV6 = pd.concat([DF_ADV5, adv_df7], ignore_index=True)"
      ],
      "metadata": {
        "id": "iRtTLI4kCIwD"
      },
      "execution_count": null,
      "outputs": []
    },
    {
      "cell_type": "code",
      "source": [
        "print(DF_ADV6.tail(10))"
      ],
      "metadata": {
        "colab": {
          "base_uri": "https://localhost:8080/"
        },
        "id": "youdTaZ75ElX",
        "outputId": "81065c27-cf54-4c3d-8800-fc4962276a25"
      },
      "execution_count": null,
      "outputs": [
        {
          "output_type": "stream",
          "name": "stdout",
          "text": [
            "                                                  review  sentiment\n",
            "10763  the pacihg was off and made the movie feel dis...          0\n",
            "10764         i was thoroughly entrrtained by this movie          1\n",
            "10765               the dixlogue was stilted and awkward          0\n",
            "10766  the cinematography was breatgtaking and added ...          1\n",
            "10767  the story was capitvating and kept me engaged ...          1\n",
            "10768  the special effects were inpressive and added ...          1\n",
            "10769  i found the move to be emotionally resonant an...          1\n",
            "10770            the actkng was mediocre and forgettable          0\n",
            "10771  the pacing of the film was peefect and kept me...          1\n",
            "10772   i thought the movie was a complete wasye of time          0\n"
          ]
        }
      ]
    },
    {
      "cell_type": "code",
      "source": [
        "# Create DataFrame with adv_texts and labels\n",
        "df_adv8 = pd.read_csv('/content/drive/MyDrive/Adversarial_Examples/TextFoolerJin2019.csv', header=None, names=['review'])\n",
        "df_adv8 = pd.DataFrame({'review': df_adv8['review'], 'sentiment': labels })\n",
        "df_adv8['review'] = df_adv8['review'].apply(preprocess_text)\n",
        "adv_df8 = df_adv8[df_adv8['review'].str.split().str.len() < 100]"
      ],
      "metadata": {
        "id": "xrGeUqnMCMuD"
      },
      "execution_count": null,
      "outputs": []
    },
    {
      "cell_type": "code",
      "source": [
        "DF_ADV7 = pd.concat([DF_ADV6, adv_df8], ignore_index=True)"
      ],
      "metadata": {
        "id": "TYUo39sGCWe_"
      },
      "execution_count": null,
      "outputs": []
    },
    {
      "cell_type": "code",
      "source": [
        "# Create DataFrame with adv_texts and labels\n",
        "df_adv9 = pd.read_csv('/content/drive/MyDrive/Model/TextBuggerLi2018.csv', header=None, names=['review'])\n",
        "df_adv9 = pd.DataFrame({'review': df_adv8['review'], 'sentiment': labels })\n",
        "df_adv9['review'] = df_adv9['review'].apply(preprocess_text)\n",
        "adv_df9 = df_adv9[df_adv9['review'].str.split().str.len() < 100]"
      ],
      "metadata": {
        "id": "bhz1MZ8H1nGn"
      },
      "execution_count": null,
      "outputs": []
    },
    {
      "cell_type": "code",
      "source": [
        "DF_ADV8 = pd.concat([DF_ADV7, adv_df9], ignore_index=True)"
      ],
      "metadata": {
        "id": "9eGt3tMI1yrJ"
      },
      "execution_count": null,
      "outputs": []
    },
    {
      "cell_type": "code",
      "source": [
        "DF_ADV8.to_csv('/content/drive/MyDrive/Adversarial_Examples/totalset_adv_examples.csv', index=False)"
      ],
      "metadata": {
        "id": "wZxpueeoCng1"
      },
      "execution_count": null,
      "outputs": []
    },
    {
      "cell_type": "code",
      "source": [
        "print(DF_ADV8.head(10))"
      ],
      "metadata": {
        "colab": {
          "base_uri": "https://localhost:8080/"
        },
        "id": "GbtFYyThEQJX",
        "outputId": "9ad839f3-7d5b-49c5-e35c-ac648802bc41"
      },
      "execution_count": null,
      "outputs": [
        {
          "output_type": "stream",
          "name": "stdout",
          "text": [
            "                                              review  sentiment\n",
            "0  if you like original gut wrenching laughter yo...          1\n",
            "1  phil the alien is one of those quirky films wh...          0\n",
            "2  this a fantastic movie of three prisoners who ...          1\n",
            "3  what an absolutely stunning movie if you have ...          1\n",
            "4  the plot is about the death of little children...          0\n",
            "5  protocol is an implausible movie whose only sa...          0\n",
            "6  average and surprisingly tame fulci giallo whi...          0\n",
            "7  i cannot believe i enjoyed this as much as i d...          1\n",
            "8  so lets beginthe movie itself is as original a...          1\n",
            "9  besides being boring the scenes were oppressiv...          0\n"
          ]
        }
      ]
    },
    {
      "cell_type": "code",
      "source": [
        "import torch\n",
        "# Tokenize train dataset\n",
        "train_encodings = tokenizer(list(DF_ADV7['review']), padding=True, truncation=True, max_length=100)\n",
        "X_train1 = train_encodings['input_ids']\n",
        "y_train1 = np.array(list(DF_ADV7['sentiment']))"
      ],
      "metadata": {
        "id": "bJSa28xkC0nv"
      },
      "execution_count": null,
      "outputs": []
    },
    {
      "cell_type": "code",
      "source": [
        "# Train the model\n",
        "train_dataset1 = tf.data.Dataset.from_tensor_slices((\n",
        "    {\"input_ids\": X_train1, \"attention_mask\": np.ones_like(X_train1)},\n",
        "    y_train1\n",
        "))\n",
        "train_dataset1 = train_dataset1.shuffle(len(X_train1)).batch(32)"
      ],
      "metadata": {
        "id": "vrgQi7qzC6xm"
      },
      "execution_count": null,
      "outputs": []
    },
    {
      "cell_type": "code",
      "source": [
        "model.fit(train_dataset1, epochs=3, batch_size=32)"
      ],
      "metadata": {
        "colab": {
          "base_uri": "https://localhost:8080/"
        },
        "id": "SypzKyg9DH8y",
        "outputId": "71ba95e1-0399-4443-980d-727aad076d24"
      },
      "execution_count": null,
      "outputs": [
        {
          "output_type": "stream",
          "name": "stdout",
          "text": [
            "Epoch 1/3\n",
            "356/356 [==============================] - 305s 659ms/step - loss: 0.2528 - accuracy: 0.8975\n",
            "Epoch 2/3\n",
            "356/356 [==============================] - 237s 665ms/step - loss: 0.1299 - accuracy: 0.9548\n",
            "Epoch 3/3\n",
            "356/356 [==============================] - 235s 659ms/step - loss: 0.0751 - accuracy: 0.9758\n"
          ]
        },
        {
          "output_type": "execute_result",
          "data": {
            "text/plain": [
              "<keras.callbacks.History at 0x7f997f0834f0>"
            ]
          },
          "metadata": {},
          "execution_count": 43
        }
      ]
    },
    {
      "cell_type": "code",
      "source": [
        "model.save_pretrained('/content/drive/MyDrive/Trained-BertModel/BertModel-Trained')"
      ],
      "metadata": {
        "id": "Q-Mzra53DOEc"
      },
      "execution_count": null,
      "outputs": []
    },
    {
      "cell_type": "code",
      "source": [
        "from transformers import TFBertForSequenceClassification\n",
        "\n",
        "# Load saved model\n",
        "model_path = '/content/drive/MyDrive/Trained-BertModel/BertModel-Trained'\n",
        "model = TFBertForSequenceClassification.from_pretrained(model_path)"
      ],
      "metadata": {
        "colab": {
          "base_uri": "https://localhost:8080/"
        },
        "id": "3-KvXXCHD-PM",
        "outputId": "0a747e80-386e-46aa-f1e5-559262c40353"
      },
      "execution_count": 16,
      "outputs": [
        {
          "output_type": "stream",
          "name": "stderr",
          "text": [
            "Some layers from the model checkpoint at /content/drive/MyDrive/Trained-BertModel/BertModel-Trained were not used when initializing TFBertForSequenceClassification: ['dropout_37']\n",
            "- This IS expected if you are initializing TFBertForSequenceClassification from the checkpoint of a model trained on another task or with another architecture (e.g. initializing a BertForSequenceClassification model from a BertForPreTraining model).\n",
            "- This IS NOT expected if you are initializing TFBertForSequenceClassification from the checkpoint of a model that you expect to be exactly identical (initializing a BertForSequenceClassification model from a BertForSequenceClassification model).\n",
            "All the layers of TFBertForSequenceClassification were initialized from the model checkpoint at /content/drive/MyDrive/Trained-BertModel/BertModel-Trained.\n",
            "If your task is similar to the task the model of the checkpoint was trained on, you can already use TFBertForSequenceClassification for predictions without further training.\n"
          ]
        }
      ]
    },
    {
      "cell_type": "code",
      "source": [
        "# Compile the model\n",
        "optimizer = tf.keras.optimizers.Adam(learning_rate=2e-5, epsilon=1e-08)\n",
        "loss = tf.keras.losses.SparseCategoricalCrossentropy(from_logits=True)\n",
        "metric = tf.keras.metrics.SparseCategoricalAccuracy('accuracy')\n",
        "model.compile(optimizer=optimizer, loss=loss, metrics=[metric])"
      ],
      "metadata": {
        "id": "ZnPkcKE_Er1B"
      },
      "execution_count": 17,
      "outputs": []
    },
    {
      "cell_type": "code",
      "source": [
        "from sklearn.metrics import classification_report, f1_score\n",
        "\n",
        "# Evaluate the model on val_dataset\n",
        "loss, accuracy = model.evaluate(val_dataset)\n",
        "\n",
        "\n",
        "# Predict the labels of the validation set\n",
        "y_pred = model.predict(val_dataset)\n",
        "y_pred_logits = y_pred.logits\n",
        "y_pred_classes = np.argmax(y_pred_logits, axis=1)\n"
      ],
      "metadata": {
        "colab": {
          "base_uri": "https://localhost:8080/"
        },
        "id": "n0klm38cEuT5",
        "outputId": "ed7fb043-8873-4cb9-df8f-2d8e3d9999db"
      },
      "execution_count": 18,
      "outputs": [
        {
          "output_type": "stream",
          "name": "stdout",
          "text": [
            "20/20 [==============================] - 7s 59ms/step - loss: 0.0445 - accuracy: 0.9918\n",
            "20/20 [==============================] - 6s 73ms/step\n"
          ]
        }
      ]
    },
    {
      "cell_type": "code",
      "source": [
        "# Extract the ground truth labels from the val_dataset\n",
        "y_val = list(val_dataset.as_numpy_iterator())\n",
        "y_val = np.concatenate([y for x, y in y_val])\n",
        "\n",
        "# Calculate the f1_score, precision, recall and support for each class\n",
        "report = classification_report(y_val, y_pred_classes, target_names=['negative', 'positive'])\n",
        "f1 = f1_score(y_val, y_pred_classes, average='weighted')\n",
        "\n",
        "# Print the metrics\n",
        "print('Validation Loss:', loss)\n",
        "print('Validation Accuracy:', accuracy)\n",
        "print('Classification Report:\\n', report)\n",
        "print('Weighted F1-Score:', f1)"
      ],
      "metadata": {
        "colab": {
          "base_uri": "https://localhost:8080/"
        },
        "id": "BRopOxplE6Ob",
        "outputId": "559a3218-e587-4bf0-aa7e-75b4d12ee1db"
      },
      "execution_count": 19,
      "outputs": [
        {
          "output_type": "stream",
          "name": "stdout",
          "text": [
            "Validation Loss: 0.044525716453790665\n",
            "Validation Accuracy: 0.9917898178100586\n",
            "Classification Report:\n",
            "               precision    recall  f1-score   support\n",
            "\n",
            "    negative       1.00      0.99      0.99       338\n",
            "    positive       0.98      1.00      0.99       271\n",
            "\n",
            "    accuracy                           0.99       609\n",
            "   macro avg       0.99      0.99      0.99       609\n",
            "weighted avg       0.99      0.99      0.99       609\n",
            "\n",
            "Weighted F1-Score: 0.9917967537068797\n"
          ]
        }
      ]
    },
    {
      "cell_type": "code",
      "source": [
        "# Evaluate the model on the validation dataset\n",
        "eval_results = model.evaluate(val_dataset)\n",
        "\n",
        "# Print the accuracy\n",
        "accuracy = eval_results[1]\n",
        "\n",
        "print(f\"Validation accuracy:, {accuracy*100:.4f}%\")"
      ],
      "metadata": {
        "colab": {
          "base_uri": "https://localhost:8080/"
        },
        "id": "3wXxwUGO7rn-",
        "outputId": "068a762b-753b-48aa-dc4c-e30610ce01d9"
      },
      "execution_count": null,
      "outputs": [
        {
          "output_type": "stream",
          "name": "stdout",
          "text": [
            "20/20 [==============================] - 1s 57ms/step - loss: 0.0445 - accuracy: 0.9918\n",
            "Validation accuracy:, 99.1790%\n"
          ]
        }
      ]
    }
  ]
}