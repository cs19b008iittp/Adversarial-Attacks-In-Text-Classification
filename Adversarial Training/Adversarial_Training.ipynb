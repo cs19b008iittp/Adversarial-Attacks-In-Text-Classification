{
  "nbformat": 4,
  "nbformat_minor": 0,
  "metadata": {
    "colab": {
      "provenance": []
    },
    "kernelspec": {
      "name": "python3",
      "display_name": "Python 3"
    },
    "language_info": {
      "name": "python"
    },
    "accelerator": "GPU",
    "gpuClass": "standard",
    "widgets": {
      "application/vnd.jupyter.widget-state+json": {
        "d790565b341a49d1bff05fa471e18bb2": {
          "model_module": "@jupyter-widgets/controls",
          "model_name": "HBoxModel",
          "model_module_version": "1.5.0",
          "state": {
            "_dom_classes": [],
            "_model_module": "@jupyter-widgets/controls",
            "_model_module_version": "1.5.0",
            "_model_name": "HBoxModel",
            "_view_count": null,
            "_view_module": "@jupyter-widgets/controls",
            "_view_module_version": "1.5.0",
            "_view_name": "HBoxView",
            "box_style": "",
            "children": [
              "IPY_MODEL_8924003a87fe48048554da7127a507eb",
              "IPY_MODEL_9fd396099ea74f6cbd7aec2cefdb2c57",
              "IPY_MODEL_bc34e5f7d19b4ed7a8f11256c68a7c83"
            ],
            "layout": "IPY_MODEL_1bdf8a9905e041e081ba71b7b784537e"
          }
        },
        "8924003a87fe48048554da7127a507eb": {
          "model_module": "@jupyter-widgets/controls",
          "model_name": "HTMLModel",
          "model_module_version": "1.5.0",
          "state": {
            "_dom_classes": [],
            "_model_module": "@jupyter-widgets/controls",
            "_model_module_version": "1.5.0",
            "_model_name": "HTMLModel",
            "_view_count": null,
            "_view_module": "@jupyter-widgets/controls",
            "_view_module_version": "1.5.0",
            "_view_name": "HTMLView",
            "description": "",
            "description_tooltip": null,
            "layout": "IPY_MODEL_25e6c3a2dc8b4c79b3408e9c35a8c2e9",
            "placeholder": "​",
            "style": "IPY_MODEL_9164dd4767e8442484f72a2520f98196",
            "value": "Downloading (…)solve/main/vocab.txt: 100%"
          }
        },
        "9fd396099ea74f6cbd7aec2cefdb2c57": {
          "model_module": "@jupyter-widgets/controls",
          "model_name": "FloatProgressModel",
          "model_module_version": "1.5.0",
          "state": {
            "_dom_classes": [],
            "_model_module": "@jupyter-widgets/controls",
            "_model_module_version": "1.5.0",
            "_model_name": "FloatProgressModel",
            "_view_count": null,
            "_view_module": "@jupyter-widgets/controls",
            "_view_module_version": "1.5.0",
            "_view_name": "ProgressView",
            "bar_style": "success",
            "description": "",
            "description_tooltip": null,
            "layout": "IPY_MODEL_b703fe71be8d42539ac1eebfb67322bb",
            "max": 231508,
            "min": 0,
            "orientation": "horizontal",
            "style": "IPY_MODEL_41a0bcc715e94221b13b075970551484",
            "value": 231508
          }
        },
        "bc34e5f7d19b4ed7a8f11256c68a7c83": {
          "model_module": "@jupyter-widgets/controls",
          "model_name": "HTMLModel",
          "model_module_version": "1.5.0",
          "state": {
            "_dom_classes": [],
            "_model_module": "@jupyter-widgets/controls",
            "_model_module_version": "1.5.0",
            "_model_name": "HTMLModel",
            "_view_count": null,
            "_view_module": "@jupyter-widgets/controls",
            "_view_module_version": "1.5.0",
            "_view_name": "HTMLView",
            "description": "",
            "description_tooltip": null,
            "layout": "IPY_MODEL_c08cf615a6fe4a2592249f8b98b36bdd",
            "placeholder": "​",
            "style": "IPY_MODEL_69d5d27488a3465bb78f2bbd8a661a0e",
            "value": " 232k/232k [00:00&lt;00:00, 6.79MB/s]"
          }
        },
        "1bdf8a9905e041e081ba71b7b784537e": {
          "model_module": "@jupyter-widgets/base",
          "model_name": "LayoutModel",
          "model_module_version": "1.2.0",
          "state": {
            "_model_module": "@jupyter-widgets/base",
            "_model_module_version": "1.2.0",
            "_model_name": "LayoutModel",
            "_view_count": null,
            "_view_module": "@jupyter-widgets/base",
            "_view_module_version": "1.2.0",
            "_view_name": "LayoutView",
            "align_content": null,
            "align_items": null,
            "align_self": null,
            "border": null,
            "bottom": null,
            "display": null,
            "flex": null,
            "flex_flow": null,
            "grid_area": null,
            "grid_auto_columns": null,
            "grid_auto_flow": null,
            "grid_auto_rows": null,
            "grid_column": null,
            "grid_gap": null,
            "grid_row": null,
            "grid_template_areas": null,
            "grid_template_columns": null,
            "grid_template_rows": null,
            "height": null,
            "justify_content": null,
            "justify_items": null,
            "left": null,
            "margin": null,
            "max_height": null,
            "max_width": null,
            "min_height": null,
            "min_width": null,
            "object_fit": null,
            "object_position": null,
            "order": null,
            "overflow": null,
            "overflow_x": null,
            "overflow_y": null,
            "padding": null,
            "right": null,
            "top": null,
            "visibility": null,
            "width": null
          }
        },
        "25e6c3a2dc8b4c79b3408e9c35a8c2e9": {
          "model_module": "@jupyter-widgets/base",
          "model_name": "LayoutModel",
          "model_module_version": "1.2.0",
          "state": {
            "_model_module": "@jupyter-widgets/base",
            "_model_module_version": "1.2.0",
            "_model_name": "LayoutModel",
            "_view_count": null,
            "_view_module": "@jupyter-widgets/base",
            "_view_module_version": "1.2.0",
            "_view_name": "LayoutView",
            "align_content": null,
            "align_items": null,
            "align_self": null,
            "border": null,
            "bottom": null,
            "display": null,
            "flex": null,
            "flex_flow": null,
            "grid_area": null,
            "grid_auto_columns": null,
            "grid_auto_flow": null,
            "grid_auto_rows": null,
            "grid_column": null,
            "grid_gap": null,
            "grid_row": null,
            "grid_template_areas": null,
            "grid_template_columns": null,
            "grid_template_rows": null,
            "height": null,
            "justify_content": null,
            "justify_items": null,
            "left": null,
            "margin": null,
            "max_height": null,
            "max_width": null,
            "min_height": null,
            "min_width": null,
            "object_fit": null,
            "object_position": null,
            "order": null,
            "overflow": null,
            "overflow_x": null,
            "overflow_y": null,
            "padding": null,
            "right": null,
            "top": null,
            "visibility": null,
            "width": null
          }
        },
        "9164dd4767e8442484f72a2520f98196": {
          "model_module": "@jupyter-widgets/controls",
          "model_name": "DescriptionStyleModel",
          "model_module_version": "1.5.0",
          "state": {
            "_model_module": "@jupyter-widgets/controls",
            "_model_module_version": "1.5.0",
            "_model_name": "DescriptionStyleModel",
            "_view_count": null,
            "_view_module": "@jupyter-widgets/base",
            "_view_module_version": "1.2.0",
            "_view_name": "StyleView",
            "description_width": ""
          }
        },
        "b703fe71be8d42539ac1eebfb67322bb": {
          "model_module": "@jupyter-widgets/base",
          "model_name": "LayoutModel",
          "model_module_version": "1.2.0",
          "state": {
            "_model_module": "@jupyter-widgets/base",
            "_model_module_version": "1.2.0",
            "_model_name": "LayoutModel",
            "_view_count": null,
            "_view_module": "@jupyter-widgets/base",
            "_view_module_version": "1.2.0",
            "_view_name": "LayoutView",
            "align_content": null,
            "align_items": null,
            "align_self": null,
            "border": null,
            "bottom": null,
            "display": null,
            "flex": null,
            "flex_flow": null,
            "grid_area": null,
            "grid_auto_columns": null,
            "grid_auto_flow": null,
            "grid_auto_rows": null,
            "grid_column": null,
            "grid_gap": null,
            "grid_row": null,
            "grid_template_areas": null,
            "grid_template_columns": null,
            "grid_template_rows": null,
            "height": null,
            "justify_content": null,
            "justify_items": null,
            "left": null,
            "margin": null,
            "max_height": null,
            "max_width": null,
            "min_height": null,
            "min_width": null,
            "object_fit": null,
            "object_position": null,
            "order": null,
            "overflow": null,
            "overflow_x": null,
            "overflow_y": null,
            "padding": null,
            "right": null,
            "top": null,
            "visibility": null,
            "width": null
          }
        },
        "41a0bcc715e94221b13b075970551484": {
          "model_module": "@jupyter-widgets/controls",
          "model_name": "ProgressStyleModel",
          "model_module_version": "1.5.0",
          "state": {
            "_model_module": "@jupyter-widgets/controls",
            "_model_module_version": "1.5.0",
            "_model_name": "ProgressStyleModel",
            "_view_count": null,
            "_view_module": "@jupyter-widgets/base",
            "_view_module_version": "1.2.0",
            "_view_name": "StyleView",
            "bar_color": null,
            "description_width": ""
          }
        },
        "c08cf615a6fe4a2592249f8b98b36bdd": {
          "model_module": "@jupyter-widgets/base",
          "model_name": "LayoutModel",
          "model_module_version": "1.2.0",
          "state": {
            "_model_module": "@jupyter-widgets/base",
            "_model_module_version": "1.2.0",
            "_model_name": "LayoutModel",
            "_view_count": null,
            "_view_module": "@jupyter-widgets/base",
            "_view_module_version": "1.2.0",
            "_view_name": "LayoutView",
            "align_content": null,
            "align_items": null,
            "align_self": null,
            "border": null,
            "bottom": null,
            "display": null,
            "flex": null,
            "flex_flow": null,
            "grid_area": null,
            "grid_auto_columns": null,
            "grid_auto_flow": null,
            "grid_auto_rows": null,
            "grid_column": null,
            "grid_gap": null,
            "grid_row": null,
            "grid_template_areas": null,
            "grid_template_columns": null,
            "grid_template_rows": null,
            "height": null,
            "justify_content": null,
            "justify_items": null,
            "left": null,
            "margin": null,
            "max_height": null,
            "max_width": null,
            "min_height": null,
            "min_width": null,
            "object_fit": null,
            "object_position": null,
            "order": null,
            "overflow": null,
            "overflow_x": null,
            "overflow_y": null,
            "padding": null,
            "right": null,
            "top": null,
            "visibility": null,
            "width": null
          }
        },
        "69d5d27488a3465bb78f2bbd8a661a0e": {
          "model_module": "@jupyter-widgets/controls",
          "model_name": "DescriptionStyleModel",
          "model_module_version": "1.5.0",
          "state": {
            "_model_module": "@jupyter-widgets/controls",
            "_model_module_version": "1.5.0",
            "_model_name": "DescriptionStyleModel",
            "_view_count": null,
            "_view_module": "@jupyter-widgets/base",
            "_view_module_version": "1.2.0",
            "_view_name": "StyleView",
            "description_width": ""
          }
        },
        "5363f69af5e7493da8a23148fd2b4786": {
          "model_module": "@jupyter-widgets/controls",
          "model_name": "HBoxModel",
          "model_module_version": "1.5.0",
          "state": {
            "_dom_classes": [],
            "_model_module": "@jupyter-widgets/controls",
            "_model_module_version": "1.5.0",
            "_model_name": "HBoxModel",
            "_view_count": null,
            "_view_module": "@jupyter-widgets/controls",
            "_view_module_version": "1.5.0",
            "_view_name": "HBoxView",
            "box_style": "",
            "children": [
              "IPY_MODEL_2e146c6ae59445dea65a50ebf466ef0c",
              "IPY_MODEL_08917697f7bf47bbbd4847cd87399436",
              "IPY_MODEL_081f8b6065c244659c305e6691cfaff1"
            ],
            "layout": "IPY_MODEL_0548488728ba424bacae7dd2a982d49d"
          }
        },
        "2e146c6ae59445dea65a50ebf466ef0c": {
          "model_module": "@jupyter-widgets/controls",
          "model_name": "HTMLModel",
          "model_module_version": "1.5.0",
          "state": {
            "_dom_classes": [],
            "_model_module": "@jupyter-widgets/controls",
            "_model_module_version": "1.5.0",
            "_model_name": "HTMLModel",
            "_view_count": null,
            "_view_module": "@jupyter-widgets/controls",
            "_view_module_version": "1.5.0",
            "_view_name": "HTMLView",
            "description": "",
            "description_tooltip": null,
            "layout": "IPY_MODEL_7b4b5f69609447c0bf7e7c599ec435b8",
            "placeholder": "​",
            "style": "IPY_MODEL_6b1c89ae66484a4e88e989df65cdf8a7",
            "value": "Downloading (…)okenizer_config.json: 100%"
          }
        },
        "08917697f7bf47bbbd4847cd87399436": {
          "model_module": "@jupyter-widgets/controls",
          "model_name": "FloatProgressModel",
          "model_module_version": "1.5.0",
          "state": {
            "_dom_classes": [],
            "_model_module": "@jupyter-widgets/controls",
            "_model_module_version": "1.5.0",
            "_model_name": "FloatProgressModel",
            "_view_count": null,
            "_view_module": "@jupyter-widgets/controls",
            "_view_module_version": "1.5.0",
            "_view_name": "ProgressView",
            "bar_style": "success",
            "description": "",
            "description_tooltip": null,
            "layout": "IPY_MODEL_a7274e9696824ec3990246bdabc55c76",
            "max": 28,
            "min": 0,
            "orientation": "horizontal",
            "style": "IPY_MODEL_0a2d18eb68394adc9e3b7f41e890452e",
            "value": 28
          }
        },
        "081f8b6065c244659c305e6691cfaff1": {
          "model_module": "@jupyter-widgets/controls",
          "model_name": "HTMLModel",
          "model_module_version": "1.5.0",
          "state": {
            "_dom_classes": [],
            "_model_module": "@jupyter-widgets/controls",
            "_model_module_version": "1.5.0",
            "_model_name": "HTMLModel",
            "_view_count": null,
            "_view_module": "@jupyter-widgets/controls",
            "_view_module_version": "1.5.0",
            "_view_name": "HTMLView",
            "description": "",
            "description_tooltip": null,
            "layout": "IPY_MODEL_d5c87c439c9943269d9377c5a19ef10a",
            "placeholder": "​",
            "style": "IPY_MODEL_4a3407022fb446ba90108988ea643aff",
            "value": " 28.0/28.0 [00:00&lt;00:00, 798B/s]"
          }
        },
        "0548488728ba424bacae7dd2a982d49d": {
          "model_module": "@jupyter-widgets/base",
          "model_name": "LayoutModel",
          "model_module_version": "1.2.0",
          "state": {
            "_model_module": "@jupyter-widgets/base",
            "_model_module_version": "1.2.0",
            "_model_name": "LayoutModel",
            "_view_count": null,
            "_view_module": "@jupyter-widgets/base",
            "_view_module_version": "1.2.0",
            "_view_name": "LayoutView",
            "align_content": null,
            "align_items": null,
            "align_self": null,
            "border": null,
            "bottom": null,
            "display": null,
            "flex": null,
            "flex_flow": null,
            "grid_area": null,
            "grid_auto_columns": null,
            "grid_auto_flow": null,
            "grid_auto_rows": null,
            "grid_column": null,
            "grid_gap": null,
            "grid_row": null,
            "grid_template_areas": null,
            "grid_template_columns": null,
            "grid_template_rows": null,
            "height": null,
            "justify_content": null,
            "justify_items": null,
            "left": null,
            "margin": null,
            "max_height": null,
            "max_width": null,
            "min_height": null,
            "min_width": null,
            "object_fit": null,
            "object_position": null,
            "order": null,
            "overflow": null,
            "overflow_x": null,
            "overflow_y": null,
            "padding": null,
            "right": null,
            "top": null,
            "visibility": null,
            "width": null
          }
        },
        "7b4b5f69609447c0bf7e7c599ec435b8": {
          "model_module": "@jupyter-widgets/base",
          "model_name": "LayoutModel",
          "model_module_version": "1.2.0",
          "state": {
            "_model_module": "@jupyter-widgets/base",
            "_model_module_version": "1.2.0",
            "_model_name": "LayoutModel",
            "_view_count": null,
            "_view_module": "@jupyter-widgets/base",
            "_view_module_version": "1.2.0",
            "_view_name": "LayoutView",
            "align_content": null,
            "align_items": null,
            "align_self": null,
            "border": null,
            "bottom": null,
            "display": null,
            "flex": null,
            "flex_flow": null,
            "grid_area": null,
            "grid_auto_columns": null,
            "grid_auto_flow": null,
            "grid_auto_rows": null,
            "grid_column": null,
            "grid_gap": null,
            "grid_row": null,
            "grid_template_areas": null,
            "grid_template_columns": null,
            "grid_template_rows": null,
            "height": null,
            "justify_content": null,
            "justify_items": null,
            "left": null,
            "margin": null,
            "max_height": null,
            "max_width": null,
            "min_height": null,
            "min_width": null,
            "object_fit": null,
            "object_position": null,
            "order": null,
            "overflow": null,
            "overflow_x": null,
            "overflow_y": null,
            "padding": null,
            "right": null,
            "top": null,
            "visibility": null,
            "width": null
          }
        },
        "6b1c89ae66484a4e88e989df65cdf8a7": {
          "model_module": "@jupyter-widgets/controls",
          "model_name": "DescriptionStyleModel",
          "model_module_version": "1.5.0",
          "state": {
            "_model_module": "@jupyter-widgets/controls",
            "_model_module_version": "1.5.0",
            "_model_name": "DescriptionStyleModel",
            "_view_count": null,
            "_view_module": "@jupyter-widgets/base",
            "_view_module_version": "1.2.0",
            "_view_name": "StyleView",
            "description_width": ""
          }
        },
        "a7274e9696824ec3990246bdabc55c76": {
          "model_module": "@jupyter-widgets/base",
          "model_name": "LayoutModel",
          "model_module_version": "1.2.0",
          "state": {
            "_model_module": "@jupyter-widgets/base",
            "_model_module_version": "1.2.0",
            "_model_name": "LayoutModel",
            "_view_count": null,
            "_view_module": "@jupyter-widgets/base",
            "_view_module_version": "1.2.0",
            "_view_name": "LayoutView",
            "align_content": null,
            "align_items": null,
            "align_self": null,
            "border": null,
            "bottom": null,
            "display": null,
            "flex": null,
            "flex_flow": null,
            "grid_area": null,
            "grid_auto_columns": null,
            "grid_auto_flow": null,
            "grid_auto_rows": null,
            "grid_column": null,
            "grid_gap": null,
            "grid_row": null,
            "grid_template_areas": null,
            "grid_template_columns": null,
            "grid_template_rows": null,
            "height": null,
            "justify_content": null,
            "justify_items": null,
            "left": null,
            "margin": null,
            "max_height": null,
            "max_width": null,
            "min_height": null,
            "min_width": null,
            "object_fit": null,
            "object_position": null,
            "order": null,
            "overflow": null,
            "overflow_x": null,
            "overflow_y": null,
            "padding": null,
            "right": null,
            "top": null,
            "visibility": null,
            "width": null
          }
        },
        "0a2d18eb68394adc9e3b7f41e890452e": {
          "model_module": "@jupyter-widgets/controls",
          "model_name": "ProgressStyleModel",
          "model_module_version": "1.5.0",
          "state": {
            "_model_module": "@jupyter-widgets/controls",
            "_model_module_version": "1.5.0",
            "_model_name": "ProgressStyleModel",
            "_view_count": null,
            "_view_module": "@jupyter-widgets/base",
            "_view_module_version": "1.2.0",
            "_view_name": "StyleView",
            "bar_color": null,
            "description_width": ""
          }
        },
        "d5c87c439c9943269d9377c5a19ef10a": {
          "model_module": "@jupyter-widgets/base",
          "model_name": "LayoutModel",
          "model_module_version": "1.2.0",
          "state": {
            "_model_module": "@jupyter-widgets/base",
            "_model_module_version": "1.2.0",
            "_model_name": "LayoutModel",
            "_view_count": null,
            "_view_module": "@jupyter-widgets/base",
            "_view_module_version": "1.2.0",
            "_view_name": "LayoutView",
            "align_content": null,
            "align_items": null,
            "align_self": null,
            "border": null,
            "bottom": null,
            "display": null,
            "flex": null,
            "flex_flow": null,
            "grid_area": null,
            "grid_auto_columns": null,
            "grid_auto_flow": null,
            "grid_auto_rows": null,
            "grid_column": null,
            "grid_gap": null,
            "grid_row": null,
            "grid_template_areas": null,
            "grid_template_columns": null,
            "grid_template_rows": null,
            "height": null,
            "justify_content": null,
            "justify_items": null,
            "left": null,
            "margin": null,
            "max_height": null,
            "max_width": null,
            "min_height": null,
            "min_width": null,
            "object_fit": null,
            "object_position": null,
            "order": null,
            "overflow": null,
            "overflow_x": null,
            "overflow_y": null,
            "padding": null,
            "right": null,
            "top": null,
            "visibility": null,
            "width": null
          }
        },
        "4a3407022fb446ba90108988ea643aff": {
          "model_module": "@jupyter-widgets/controls",
          "model_name": "DescriptionStyleModel",
          "model_module_version": "1.5.0",
          "state": {
            "_model_module": "@jupyter-widgets/controls",
            "_model_module_version": "1.5.0",
            "_model_name": "DescriptionStyleModel",
            "_view_count": null,
            "_view_module": "@jupyter-widgets/base",
            "_view_module_version": "1.2.0",
            "_view_name": "StyleView",
            "description_width": ""
          }
        },
        "f7f16be45dcb4048a38d72ac021e9cef": {
          "model_module": "@jupyter-widgets/controls",
          "model_name": "HBoxModel",
          "model_module_version": "1.5.0",
          "state": {
            "_dom_classes": [],
            "_model_module": "@jupyter-widgets/controls",
            "_model_module_version": "1.5.0",
            "_model_name": "HBoxModel",
            "_view_count": null,
            "_view_module": "@jupyter-widgets/controls",
            "_view_module_version": "1.5.0",
            "_view_name": "HBoxView",
            "box_style": "",
            "children": [
              "IPY_MODEL_343f5a0616464d7dad448f5872cf1cb7",
              "IPY_MODEL_070a8c04f9b045aabc56f37189f62578",
              "IPY_MODEL_f42b726c65ce48b6bca96c93ade9977a"
            ],
            "layout": "IPY_MODEL_f6da65db7e8d45d98ede21e60507ab58"
          }
        },
        "343f5a0616464d7dad448f5872cf1cb7": {
          "model_module": "@jupyter-widgets/controls",
          "model_name": "HTMLModel",
          "model_module_version": "1.5.0",
          "state": {
            "_dom_classes": [],
            "_model_module": "@jupyter-widgets/controls",
            "_model_module_version": "1.5.0",
            "_model_name": "HTMLModel",
            "_view_count": null,
            "_view_module": "@jupyter-widgets/controls",
            "_view_module_version": "1.5.0",
            "_view_name": "HTMLView",
            "description": "",
            "description_tooltip": null,
            "layout": "IPY_MODEL_7e40c494316c4403b3aad2a21456d623",
            "placeholder": "​",
            "style": "IPY_MODEL_d7881a4d21214ff6830e690753cd1113",
            "value": "Downloading (…)lve/main/config.json: 100%"
          }
        },
        "070a8c04f9b045aabc56f37189f62578": {
          "model_module": "@jupyter-widgets/controls",
          "model_name": "FloatProgressModel",
          "model_module_version": "1.5.0",
          "state": {
            "_dom_classes": [],
            "_model_module": "@jupyter-widgets/controls",
            "_model_module_version": "1.5.0",
            "_model_name": "FloatProgressModel",
            "_view_count": null,
            "_view_module": "@jupyter-widgets/controls",
            "_view_module_version": "1.5.0",
            "_view_name": "ProgressView",
            "bar_style": "success",
            "description": "",
            "description_tooltip": null,
            "layout": "IPY_MODEL_6a3190b039da4c389d1ca795ddf52819",
            "max": 570,
            "min": 0,
            "orientation": "horizontal",
            "style": "IPY_MODEL_98305be961624008a86a68d010f61847",
            "value": 570
          }
        },
        "f42b726c65ce48b6bca96c93ade9977a": {
          "model_module": "@jupyter-widgets/controls",
          "model_name": "HTMLModel",
          "model_module_version": "1.5.0",
          "state": {
            "_dom_classes": [],
            "_model_module": "@jupyter-widgets/controls",
            "_model_module_version": "1.5.0",
            "_model_name": "HTMLModel",
            "_view_count": null,
            "_view_module": "@jupyter-widgets/controls",
            "_view_module_version": "1.5.0",
            "_view_name": "HTMLView",
            "description": "",
            "description_tooltip": null,
            "layout": "IPY_MODEL_7352a26d7ee84e289d3cd7211b5305d2",
            "placeholder": "​",
            "style": "IPY_MODEL_e69e72ccab5949eb969e7d8bf9e38cfa",
            "value": " 570/570 [00:00&lt;00:00, 19.7kB/s]"
          }
        },
        "f6da65db7e8d45d98ede21e60507ab58": {
          "model_module": "@jupyter-widgets/base",
          "model_name": "LayoutModel",
          "model_module_version": "1.2.0",
          "state": {
            "_model_module": "@jupyter-widgets/base",
            "_model_module_version": "1.2.0",
            "_model_name": "LayoutModel",
            "_view_count": null,
            "_view_module": "@jupyter-widgets/base",
            "_view_module_version": "1.2.0",
            "_view_name": "LayoutView",
            "align_content": null,
            "align_items": null,
            "align_self": null,
            "border": null,
            "bottom": null,
            "display": null,
            "flex": null,
            "flex_flow": null,
            "grid_area": null,
            "grid_auto_columns": null,
            "grid_auto_flow": null,
            "grid_auto_rows": null,
            "grid_column": null,
            "grid_gap": null,
            "grid_row": null,
            "grid_template_areas": null,
            "grid_template_columns": null,
            "grid_template_rows": null,
            "height": null,
            "justify_content": null,
            "justify_items": null,
            "left": null,
            "margin": null,
            "max_height": null,
            "max_width": null,
            "min_height": null,
            "min_width": null,
            "object_fit": null,
            "object_position": null,
            "order": null,
            "overflow": null,
            "overflow_x": null,
            "overflow_y": null,
            "padding": null,
            "right": null,
            "top": null,
            "visibility": null,
            "width": null
          }
        },
        "7e40c494316c4403b3aad2a21456d623": {
          "model_module": "@jupyter-widgets/base",
          "model_name": "LayoutModel",
          "model_module_version": "1.2.0",
          "state": {
            "_model_module": "@jupyter-widgets/base",
            "_model_module_version": "1.2.0",
            "_model_name": "LayoutModel",
            "_view_count": null,
            "_view_module": "@jupyter-widgets/base",
            "_view_module_version": "1.2.0",
            "_view_name": "LayoutView",
            "align_content": null,
            "align_items": null,
            "align_self": null,
            "border": null,
            "bottom": null,
            "display": null,
            "flex": null,
            "flex_flow": null,
            "grid_area": null,
            "grid_auto_columns": null,
            "grid_auto_flow": null,
            "grid_auto_rows": null,
            "grid_column": null,
            "grid_gap": null,
            "grid_row": null,
            "grid_template_areas": null,
            "grid_template_columns": null,
            "grid_template_rows": null,
            "height": null,
            "justify_content": null,
            "justify_items": null,
            "left": null,
            "margin": null,
            "max_height": null,
            "max_width": null,
            "min_height": null,
            "min_width": null,
            "object_fit": null,
            "object_position": null,
            "order": null,
            "overflow": null,
            "overflow_x": null,
            "overflow_y": null,
            "padding": null,
            "right": null,
            "top": null,
            "visibility": null,
            "width": null
          }
        },
        "d7881a4d21214ff6830e690753cd1113": {
          "model_module": "@jupyter-widgets/controls",
          "model_name": "DescriptionStyleModel",
          "model_module_version": "1.5.0",
          "state": {
            "_model_module": "@jupyter-widgets/controls",
            "_model_module_version": "1.5.0",
            "_model_name": "DescriptionStyleModel",
            "_view_count": null,
            "_view_module": "@jupyter-widgets/base",
            "_view_module_version": "1.2.0",
            "_view_name": "StyleView",
            "description_width": ""
          }
        },
        "6a3190b039da4c389d1ca795ddf52819": {
          "model_module": "@jupyter-widgets/base",
          "model_name": "LayoutModel",
          "model_module_version": "1.2.0",
          "state": {
            "_model_module": "@jupyter-widgets/base",
            "_model_module_version": "1.2.0",
            "_model_name": "LayoutModel",
            "_view_count": null,
            "_view_module": "@jupyter-widgets/base",
            "_view_module_version": "1.2.0",
            "_view_name": "LayoutView",
            "align_content": null,
            "align_items": null,
            "align_self": null,
            "border": null,
            "bottom": null,
            "display": null,
            "flex": null,
            "flex_flow": null,
            "grid_area": null,
            "grid_auto_columns": null,
            "grid_auto_flow": null,
            "grid_auto_rows": null,
            "grid_column": null,
            "grid_gap": null,
            "grid_row": null,
            "grid_template_areas": null,
            "grid_template_columns": null,
            "grid_template_rows": null,
            "height": null,
            "justify_content": null,
            "justify_items": null,
            "left": null,
            "margin": null,
            "max_height": null,
            "max_width": null,
            "min_height": null,
            "min_width": null,
            "object_fit": null,
            "object_position": null,
            "order": null,
            "overflow": null,
            "overflow_x": null,
            "overflow_y": null,
            "padding": null,
            "right": null,
            "top": null,
            "visibility": null,
            "width": null
          }
        },
        "98305be961624008a86a68d010f61847": {
          "model_module": "@jupyter-widgets/controls",
          "model_name": "ProgressStyleModel",
          "model_module_version": "1.5.0",
          "state": {
            "_model_module": "@jupyter-widgets/controls",
            "_model_module_version": "1.5.0",
            "_model_name": "ProgressStyleModel",
            "_view_count": null,
            "_view_module": "@jupyter-widgets/base",
            "_view_module_version": "1.2.0",
            "_view_name": "StyleView",
            "bar_color": null,
            "description_width": ""
          }
        },
        "7352a26d7ee84e289d3cd7211b5305d2": {
          "model_module": "@jupyter-widgets/base",
          "model_name": "LayoutModel",
          "model_module_version": "1.2.0",
          "state": {
            "_model_module": "@jupyter-widgets/base",
            "_model_module_version": "1.2.0",
            "_model_name": "LayoutModel",
            "_view_count": null,
            "_view_module": "@jupyter-widgets/base",
            "_view_module_version": "1.2.0",
            "_view_name": "LayoutView",
            "align_content": null,
            "align_items": null,
            "align_self": null,
            "border": null,
            "bottom": null,
            "display": null,
            "flex": null,
            "flex_flow": null,
            "grid_area": null,
            "grid_auto_columns": null,
            "grid_auto_flow": null,
            "grid_auto_rows": null,
            "grid_column": null,
            "grid_gap": null,
            "grid_row": null,
            "grid_template_areas": null,
            "grid_template_columns": null,
            "grid_template_rows": null,
            "height": null,
            "justify_content": null,
            "justify_items": null,
            "left": null,
            "margin": null,
            "max_height": null,
            "max_width": null,
            "min_height": null,
            "min_width": null,
            "object_fit": null,
            "object_position": null,
            "order": null,
            "overflow": null,
            "overflow_x": null,
            "overflow_y": null,
            "padding": null,
            "right": null,
            "top": null,
            "visibility": null,
            "width": null
          }
        },
        "e69e72ccab5949eb969e7d8bf9e38cfa": {
          "model_module": "@jupyter-widgets/controls",
          "model_name": "DescriptionStyleModel",
          "model_module_version": "1.5.0",
          "state": {
            "_model_module": "@jupyter-widgets/controls",
            "_model_module_version": "1.5.0",
            "_model_name": "DescriptionStyleModel",
            "_view_count": null,
            "_view_module": "@jupyter-widgets/base",
            "_view_module_version": "1.2.0",
            "_view_name": "StyleView",
            "description_width": ""
          }
        }
      }
    }
  },
  "cells": [
    {
      "cell_type": "code",
      "execution_count": 5,
      "metadata": {
        "colab": {
          "base_uri": "https://localhost:8080/"
        },
        "id": "J0AVJ5u_7SAj",
        "outputId": "219a35a0-a9f8-4d82-a0da-106855c5de6c"
      },
      "outputs": [
        {
          "output_type": "stream",
          "name": "stdout",
          "text": [
            "Looking in indexes: https://pypi.org/simple, https://us-python.pkg.dev/colab-wheels/public/simple/\n",
            "Collecting transformers\n",
            "  Downloading transformers-4.28.1-py3-none-any.whl (7.0 MB)\n",
            "\u001b[2K     \u001b[90m━━━━━━━━━━━━━━━━━━━━━━━━━━━━━━━━━━━━━━━━\u001b[0m \u001b[32m7.0/7.0 MB\u001b[0m \u001b[31m62.7 MB/s\u001b[0m eta \u001b[36m0:00:00\u001b[0m\n",
            "\u001b[?25hRequirement already satisfied: pyyaml>=5.1 in /usr/local/lib/python3.9/dist-packages (from transformers) (6.0)\n",
            "Requirement already satisfied: regex!=2019.12.17 in /usr/local/lib/python3.9/dist-packages (from transformers) (2022.10.31)\n",
            "Requirement already satisfied: tqdm>=4.27 in /usr/local/lib/python3.9/dist-packages (from transformers) (4.65.0)\n",
            "Collecting tokenizers!=0.11.3,<0.14,>=0.11.1\n",
            "  Downloading tokenizers-0.13.3-cp39-cp39-manylinux_2_17_x86_64.manylinux2014_x86_64.whl (7.8 MB)\n",
            "\u001b[2K     \u001b[90m━━━━━━━━━━━━━━━━━━━━━━━━━━━━━━━━━━━━━━━━\u001b[0m \u001b[32m7.8/7.8 MB\u001b[0m \u001b[31m81.8 MB/s\u001b[0m eta \u001b[36m0:00:00\u001b[0m\n",
            "\u001b[?25hRequirement already satisfied: numpy>=1.17 in /usr/local/lib/python3.9/dist-packages (from transformers) (1.22.4)\n",
            "Collecting huggingface-hub<1.0,>=0.11.0\n",
            "  Downloading huggingface_hub-0.13.4-py3-none-any.whl (200 kB)\n",
            "\u001b[2K     \u001b[90m━━━━━━━━━━━━━━━━━━━━━━━━━━━━━━━━━━━━━━\u001b[0m \u001b[32m200.1/200.1 kB\u001b[0m \u001b[31m24.3 MB/s\u001b[0m eta \u001b[36m0:00:00\u001b[0m\n",
            "\u001b[?25hRequirement already satisfied: requests in /usr/local/lib/python3.9/dist-packages (from transformers) (2.27.1)\n",
            "Requirement already satisfied: packaging>=20.0 in /usr/local/lib/python3.9/dist-packages (from transformers) (23.1)\n",
            "Requirement already satisfied: filelock in /usr/local/lib/python3.9/dist-packages (from transformers) (3.11.0)\n",
            "Requirement already satisfied: typing-extensions>=3.7.4.3 in /usr/local/lib/python3.9/dist-packages (from huggingface-hub<1.0,>=0.11.0->transformers) (4.5.0)\n",
            "Requirement already satisfied: charset-normalizer~=2.0.0 in /usr/local/lib/python3.9/dist-packages (from requests->transformers) (2.0.12)\n",
            "Requirement already satisfied: idna<4,>=2.5 in /usr/local/lib/python3.9/dist-packages (from requests->transformers) (3.4)\n",
            "Requirement already satisfied: certifi>=2017.4.17 in /usr/local/lib/python3.9/dist-packages (from requests->transformers) (2022.12.7)\n",
            "Requirement already satisfied: urllib3<1.27,>=1.21.1 in /usr/local/lib/python3.9/dist-packages (from requests->transformers) (1.26.15)\n",
            "Installing collected packages: tokenizers, huggingface-hub, transformers\n",
            "Successfully installed huggingface-hub-0.13.4 tokenizers-0.13.3 transformers-4.28.1\n"
          ]
        }
      ],
      "source": [
        "!pip install transformers"
      ]
    },
    {
      "cell_type": "code",
      "source": [
        "import pandas as pd\n",
        "import numpy as np\n",
        "import tensorflow as tf\n",
        "from transformers import BertTokenizer, TFBertForSequenceClassification\n",
        "from sklearn.model_selection import train_test_split\n"
      ],
      "metadata": {
        "id": "obX6JmpB8Wi5"
      },
      "execution_count": 6,
      "outputs": []
    },
    {
      "cell_type": "code",
      "source": [
        "# Load the IMDB dataset from CSV\n",
        "df = pd.read_csv('/content/drive/MyDrive/IMDB_Dataset.csv', encoding='utf-8',on_bad_lines='skip')\n"
      ],
      "metadata": {
        "id": "QcTM3YFd8gZQ"
      },
      "execution_count": 7,
      "outputs": []
    },
    {
      "cell_type": "code",
      "source": [
        "test_df = pd.read_csv('/content/drive/MyDrive/movie-review-dataset.csv', on_bad_lines='skip')"
      ],
      "metadata": {
        "id": "W529Xbei8jdu"
      },
      "execution_count": 8,
      "outputs": []
    },
    {
      "cell_type": "code",
      "source": [
        "df['sentiment'] = df['sentiment'].replace({'positive': 1, 'negative': 0})\n",
        "\n",
        "print(df.head(20))"
      ],
      "metadata": {
        "colab": {
          "base_uri": "https://localhost:8080/"
        },
        "id": "xC8q0KRM8mnG",
        "outputId": "4be47ec7-d920-47f6-f209-5ebd7fadf9de"
      },
      "execution_count": 9,
      "outputs": [
        {
          "output_type": "stream",
          "name": "stdout",
          "text": [
            "                                               review  sentiment\n",
            "0   One of the other reviewers has mentioned that ...          1\n",
            "1   A wonderful little production. <br /><br />The...          1\n",
            "2   I thought this was a wonderful way to spend ti...          1\n",
            "3   Basically there's a family where a little boy ...          0\n",
            "4   Petter Mattei's \"Love in the Time of Money\" is...          1\n",
            "5   Probably my all-time favorite movie, a story o...          1\n",
            "6   I sure would like to see a resurrection of a u...          1\n",
            "7   This show was an amazing, fresh & innovative i...          0\n",
            "8   Encouraged by the positive comments about this...          0\n",
            "9   If you like original gut wrenching laughter yo...          1\n",
            "10  Phil the Alien is one of those quirky films wh...          0\n",
            "11  I saw this movie when I was about 12 when it c...          0\n",
            "12  So im not a big fan of Boll's work but then ag...          0\n",
            "13  The cast played Shakespeare.<br /><br />Shakes...          0\n",
            "14  This a fantastic movie of three prisoners who ...          1\n",
            "15  Kind of drawn in by the erotic scenes, only to...          0\n",
            "16  Some films just simply should not be remade. T...          1\n",
            "17  This movie made it into one of my top 10 most ...          0\n",
            "18  I remember this film,it was the first film i h...          1\n",
            "19  An awful film! It must have been up against so...          0\n"
          ]
        }
      ]
    },
    {
      "cell_type": "code",
      "source": [
        "# Preprocess the text column\n",
        "import re\n",
        "import pandas as pd\n",
        "import numpy as np\n",
        "def preprocess_text(text):\n",
        "    # Convert to lowercase\n",
        "    text = text.lower()\n",
        "    # Remove html tags\n",
        "    text = re.sub('<[^<]+?>', '', text)\n",
        "    # Remove punctuation\n",
        "    text = re.sub(r'[^\\w\\s]', '', text)\n",
        "    # Remove numbers\n",
        "    text = re.sub(r'\\d+', '', text)\n",
        "    # Remove extra whitespace\n",
        "    text = ' '.join(text.split())\n",
        "    return text\n",
        "\n",
        "df['review'] = df['review'].apply(preprocess_text)"
      ],
      "metadata": {
        "id": "46VqPjp_8om1"
      },
      "execution_count": 10,
      "outputs": []
    },
    {
      "cell_type": "code",
      "source": [
        "df1 = df[df['review'].str.split().str.len() < 100]\n",
        "\n",
        "print(df1.head(10))\n"
      ],
      "metadata": {
        "colab": {
          "base_uri": "https://localhost:8080/"
        },
        "id": "475tcN-L8rMn",
        "outputId": "843b5014-14a8-41e3-bb74-cfde72857b0c"
      },
      "execution_count": 11,
      "outputs": [
        {
          "output_type": "stream",
          "name": "stdout",
          "text": [
            "                                               review  sentiment\n",
            "9   if you like original gut wrenching laughter yo...          1\n",
            "10  phil the alien is one of those quirky films wh...          0\n",
            "14  this a fantastic movie of three prisoners who ...          1\n",
            "22  what an absolutely stunning movie if you have ...          1\n",
            "36  the plot is about the death of little children...          0\n",
            "46  protocol is an implausible movie whose only sa...          0\n",
            "49  average and surprisingly tame fulci giallo whi...          0\n",
            "53  i cannot believe i enjoyed this as much as i d...          1\n",
            "62  so lets beginthe movie itself is as original a...          1\n",
            "63  besides being boring the scenes were oppressiv...          0\n"
          ]
        }
      ]
    },
    {
      "cell_type": "code",
      "source": [
        "# Define tokenizer\n",
        "import transformers\n",
        "tokenizer = BertTokenizer.from_pretrained('bert-base-uncased')\n",
        "\n"
      ],
      "metadata": {
        "colab": {
          "base_uri": "https://localhost:8080/",
          "height": 113,
          "referenced_widgets": [
            "d790565b341a49d1bff05fa471e18bb2",
            "8924003a87fe48048554da7127a507eb",
            "9fd396099ea74f6cbd7aec2cefdb2c57",
            "bc34e5f7d19b4ed7a8f11256c68a7c83",
            "1bdf8a9905e041e081ba71b7b784537e",
            "25e6c3a2dc8b4c79b3408e9c35a8c2e9",
            "9164dd4767e8442484f72a2520f98196",
            "b703fe71be8d42539ac1eebfb67322bb",
            "41a0bcc715e94221b13b075970551484",
            "c08cf615a6fe4a2592249f8b98b36bdd",
            "69d5d27488a3465bb78f2bbd8a661a0e",
            "5363f69af5e7493da8a23148fd2b4786",
            "2e146c6ae59445dea65a50ebf466ef0c",
            "08917697f7bf47bbbd4847cd87399436",
            "081f8b6065c244659c305e6691cfaff1",
            "0548488728ba424bacae7dd2a982d49d",
            "7b4b5f69609447c0bf7e7c599ec435b8",
            "6b1c89ae66484a4e88e989df65cdf8a7",
            "a7274e9696824ec3990246bdabc55c76",
            "0a2d18eb68394adc9e3b7f41e890452e",
            "d5c87c439c9943269d9377c5a19ef10a",
            "4a3407022fb446ba90108988ea643aff",
            "f7f16be45dcb4048a38d72ac021e9cef",
            "343f5a0616464d7dad448f5872cf1cb7",
            "070a8c04f9b045aabc56f37189f62578",
            "f42b726c65ce48b6bca96c93ade9977a",
            "f6da65db7e8d45d98ede21e60507ab58",
            "7e40c494316c4403b3aad2a21456d623",
            "d7881a4d21214ff6830e690753cd1113",
            "6a3190b039da4c389d1ca795ddf52819",
            "98305be961624008a86a68d010f61847",
            "7352a26d7ee84e289d3cd7211b5305d2",
            "e69e72ccab5949eb969e7d8bf9e38cfa"
          ]
        },
        "id": "E2i2we_f8tT-",
        "outputId": "f1924b88-0aaf-471b-9204-47da4479945b"
      },
      "execution_count": 12,
      "outputs": [
        {
          "output_type": "display_data",
          "data": {
            "text/plain": [
              "Downloading (…)solve/main/vocab.txt:   0%|          | 0.00/232k [00:00<?, ?B/s]"
            ],
            "application/vnd.jupyter.widget-view+json": {
              "version_major": 2,
              "version_minor": 0,
              "model_id": "d790565b341a49d1bff05fa471e18bb2"
            }
          },
          "metadata": {}
        },
        {
          "output_type": "display_data",
          "data": {
            "text/plain": [
              "Downloading (…)okenizer_config.json:   0%|          | 0.00/28.0 [00:00<?, ?B/s]"
            ],
            "application/vnd.jupyter.widget-view+json": {
              "version_major": 2,
              "version_minor": 0,
              "model_id": "5363f69af5e7493da8a23148fd2b4786"
            }
          },
          "metadata": {}
        },
        {
          "output_type": "display_data",
          "data": {
            "text/plain": [
              "Downloading (…)lve/main/config.json:   0%|          | 0.00/570 [00:00<?, ?B/s]"
            ],
            "application/vnd.jupyter.widget-view+json": {
              "version_major": 2,
              "version_minor": 0,
              "model_id": "f7f16be45dcb4048a38d72ac021e9cef"
            }
          },
          "metadata": {}
        }
      ]
    },
    {
      "cell_type": "code",
      "source": [
        "# Tokenize train dataset\n",
        "import torch\n",
        "# Tokenize train dataset\n",
        "train_encodings = tokenizer(list(df1['review']), padding=True, truncation=True, max_length=100)\n",
        "X_train = train_encodings['input_ids']\n",
        "y_train = np.array(list(df1['sentiment']))\n",
        "print(len(X_train))\n",
        "print(len(y_train))\n",
        "\n"
      ],
      "metadata": {
        "colab": {
          "base_uri": "https://localhost:8080/"
        },
        "id": "1PmPnU7N8wMX",
        "outputId": "81647e49-f7bd-4291-ab5f-3ed6234dc0b4"
      },
      "execution_count": 13,
      "outputs": [
        {
          "output_type": "stream",
          "name": "stdout",
          "text": [
            "6510\n",
            "6510\n"
          ]
        }
      ]
    },
    {
      "cell_type": "code",
      "source": [
        "# Tokenize test dataset\n",
        "test_encodings = tokenizer(list(test_df['review']), padding=True, truncation=True, max_length=100)\n",
        "X_val = test_encodings['input_ids']\n",
        "y_val = np.array(list(test_df['sentiment']))"
      ],
      "metadata": {
        "id": "2kBmfEku89tE"
      },
      "execution_count": 14,
      "outputs": []
    },
    {
      "cell_type": "code",
      "source": [
        "from transformers import TFBertForSequenceClassification\n",
        "\n",
        "# Load saved model\n",
        "model_path = '/content/drive/MyDrive/Model/Model-PreTrained'\n",
        "model = TFBertForSequenceClassification.from_pretrained(model_path)\n"
      ],
      "metadata": {
        "colab": {
          "base_uri": "https://localhost:8080/"
        },
        "id": "QVGfJ6599Rs8",
        "outputId": "1e1849c0-a3b4-4755-fd6c-7766cd28682d"
      },
      "execution_count": 15,
      "outputs": [
        {
          "output_type": "stream",
          "name": "stderr",
          "text": [
            "Some layers from the model checkpoint at /content/drive/MyDrive/Model/Model-PreTrained were not used when initializing TFBertForSequenceClassification: ['dropout_75']\n",
            "- This IS expected if you are initializing TFBertForSequenceClassification from the checkpoint of a model trained on another task or with another architecture (e.g. initializing a BertForSequenceClassification model from a BertForPreTraining model).\n",
            "- This IS NOT expected if you are initializing TFBertForSequenceClassification from the checkpoint of a model that you expect to be exactly identical (initializing a BertForSequenceClassification model from a BertForSequenceClassification model).\n",
            "All the layers of TFBertForSequenceClassification were initialized from the model checkpoint at /content/drive/MyDrive/Model/Model-PreTrained.\n",
            "If your task is similar to the task the model of the checkpoint was trained on, you can already use TFBertForSequenceClassification for predictions without further training.\n"
          ]
        }
      ]
    },
    {
      "cell_type": "code",
      "source": [
        "# Compile the model\n",
        "optimizer = tf.keras.optimizers.Adam(learning_rate=2e-5, epsilon=1e-08)\n",
        "loss = tf.keras.losses.SparseCategoricalCrossentropy(from_logits=True)\n",
        "metric = tf.keras.metrics.SparseCategoricalAccuracy('accuracy')\n",
        "model.compile(optimizer=optimizer, loss=loss, metrics=[metric])"
      ],
      "metadata": {
        "id": "9PiVk8F89U66"
      },
      "execution_count": 16,
      "outputs": []
    },
    {
      "cell_type": "code",
      "source": [
        "# Train the model\n",
        "train_dataset = tf.data.Dataset.from_tensor_slices((\n",
        "    {\"input_ids\": X_train, \"attention_mask\": np.ones_like(X_train)},\n",
        "    y_train\n",
        "))\n",
        "train_dataset = train_dataset.shuffle(len(X_train)).batch(32)"
      ],
      "metadata": {
        "id": "0ayCZK8o_JsR"
      },
      "execution_count": 17,
      "outputs": []
    },
    {
      "cell_type": "code",
      "source": [
        "val_dataset = tf.data.Dataset.from_tensor_slices((\n",
        "    {\"input_ids\": X_val, \"attention_mask\": np.ones_like(X_val)},\n",
        "    y_val\n",
        "))\n",
        "val_dataset = val_dataset.batch(32)"
      ],
      "metadata": {
        "id": "P7z3_vIR_LtB"
      },
      "execution_count": 18,
      "outputs": []
    },
    {
      "cell_type": "code",
      "source": [
        "# test_df.columns = ['review', 'sentiment']\n",
        "# test_df.to_csv('test1.csv', index=False)\n",
        "texts = np.array(test_df['review'])\n",
        "labels = np.array(test_df['sentiment'])"
      ],
      "metadata": {
        "id": "gGCDHlJl08V9"
      },
      "execution_count": 19,
      "outputs": []
    },
    {
      "cell_type": "code",
      "source": [
        "print(test_df.shape)"
      ],
      "metadata": {
        "colab": {
          "base_uri": "https://localhost:8080/"
        },
        "id": "sHp8Z_pj2z2C",
        "outputId": "ab4d44c8-cf61-46e0-9b03-f1b5304e6fb9"
      },
      "execution_count": 29,
      "outputs": [
        {
          "output_type": "stream",
          "name": "stdout",
          "text": [
            "(609, 2)\n"
          ]
        }
      ]
    },
    {
      "cell_type": "code",
      "source": [
        "# test_df.columns = ['review', 'sentiment']\n",
        "# test_df.to_csv('test1.csv', index=False)\n",
        "import pandas as pd\n",
        "\n",
        "df_adv1 = pd.read_csv('/content/drive/MyDrive/Adversarial_Examples/BAEGarg2019.csv', header=None, names=['review'])\n",
        "# data.columns = ['review'] # Add header 'review' to the DataFrame\n",
        "\n",
        "\n",
        "print(df_adv1.shape)\n",
        "\n"
      ],
      "metadata": {
        "id": "zJE81fRpGvgO",
        "colab": {
          "base_uri": "https://localhost:8080/"
        },
        "outputId": "72e5b9ba-e8cb-4307-8b9b-b823a71fb873"
      },
      "execution_count": 32,
      "outputs": [
        {
          "output_type": "stream",
          "name": "stdout",
          "text": [
            "(609, 1)\n"
          ]
        }
      ]
    },
    {
      "cell_type": "code",
      "source": [
        "df_adv1 = pd.DataFrame({'review': df_adv1['review'], 'sentiment': labels })"
      ],
      "metadata": {
        "id": "fU9_gwqrFDpi"
      },
      "execution_count": 33,
      "outputs": []
    },
    {
      "cell_type": "code",
      "source": [
        "print(df_adv1.head(10))"
      ],
      "metadata": {
        "colab": {
          "base_uri": "https://localhost:8080/"
        },
        "id": "M6k88sefGbPu",
        "outputId": "638622d0-2b9d-48b0-92f5-ed5f49127f89"
      },
      "execution_count": 35,
      "outputs": [
        {
          "output_type": "stream",
          "name": "stdout",
          "text": [
            "                              review  sentiment\n",
            "0                This movie was bad!          1\n",
            "1               The acting was great          0\n",
            "2               I loved this feeling          1\n",
            "3            It was a moment of time          0\n",
            "4                 The plot was great          0\n",
            "5                This is a bad movie          1\n",
            "6  I please not recommend this movie          0\n",
            "7        The cinematography was used          1\n",
            "8               The script was great          0\n",
            "9               The ending was given          0\n"
          ]
        }
      ]
    },
    {
      "cell_type": "code",
      "source": [
        "df_adv1['review'] = df_adv1['review'].apply(preprocess_text)"
      ],
      "metadata": {
        "id": "xonOTbx4_r29"
      },
      "execution_count": 36,
      "outputs": []
    },
    {
      "cell_type": "code",
      "source": [
        "adv_df1 = df_adv1[df_adv1['review'].str.split().str.len() < 100]"
      ],
      "metadata": {
        "id": "mBnrRLnOAQH0"
      },
      "execution_count": 37,
      "outputs": []
    },
    {
      "cell_type": "code",
      "source": [
        "print(adv_df1.head(10))"
      ],
      "metadata": {
        "colab": {
          "base_uri": "https://localhost:8080/"
        },
        "id": "zRR778uzFSZQ",
        "outputId": "fda0017e-f3a5-4e0f-89a7-89c2ceb583ad"
      },
      "execution_count": 38,
      "outputs": [
        {
          "output_type": "stream",
          "name": "stdout",
          "text": [
            "                              review  sentiment\n",
            "0                 this movie was bad          1\n",
            "1               the acting was great          0\n",
            "2               i loved this feeling          1\n",
            "3            it was a moment of time          0\n",
            "4                 the plot was great          0\n",
            "5                this is a bad movie          1\n",
            "6  i please not recommend this movie          0\n",
            "7        the cinematography was used          1\n",
            "8               the script was great          0\n",
            "9               the ending was given          0\n"
          ]
        }
      ]
    },
    {
      "cell_type": "code",
      "source": [
        "# Create DataFrame with adv_texts and labels\n",
        "df_adv2 = pd.read_csv('/content/drive/MyDrive/Adversarial_Examples/CheckList2020.csv', header=None, names=['review'])\n",
        "df_adv2 = pd.DataFrame({'review': df_adv2['review'], 'sentiment': labels })\n",
        "df_adv2['review'] = df_adv2['review'].apply(preprocess_text)\n",
        "adv_df2 = df_adv2[df_adv2['review'].str.split().str.len() < 100]"
      ],
      "metadata": {
        "id": "cdIQV124AToN"
      },
      "execution_count": 42,
      "outputs": []
    },
    {
      "cell_type": "code",
      "source": [
        "# Create a new dataframe containing both original and adversarial examples\n",
        "DF_ADV1 = pd.concat([adv_df1, adv_df2], ignore_index=True)"
      ],
      "metadata": {
        "id": "1qZeHTm4AyWu"
      },
      "execution_count": 43,
      "outputs": []
    },
    {
      "cell_type": "code",
      "source": [
        "print(DF_ADV1.head(10))"
      ],
      "metadata": {
        "colab": {
          "base_uri": "https://localhost:8080/"
        },
        "id": "L6t-Vs3N3899",
        "outputId": "b971d7f8-4c1f-4c31-d483-5924d170eca5"
      },
      "execution_count": 44,
      "outputs": [
        {
          "output_type": "stream",
          "name": "stdout",
          "text": [
            "                              review  sentiment\n",
            "0                 this movie was bad          1\n",
            "1               the acting was great          0\n",
            "2               i loved this feeling          1\n",
            "3            it was a moment of time          0\n",
            "4                 the plot was great          0\n",
            "5                this is a bad movie          1\n",
            "6  i please not recommend this movie          0\n",
            "7        the cinematography was used          1\n",
            "8               the script was great          0\n",
            "9               the ending was given          0\n"
          ]
        }
      ]
    },
    {
      "cell_type": "code",
      "source": [
        "# Create DataFrame with adv_texts and labels\n",
        "df_adv3 = pd.read_csv('/content/drive/MyDrive/Adversarial_Examples/DeepWordBugGao2018.csv', header=None, names=['review'])\n",
        "df_adv3 = pd.DataFrame({'review': df_adv3['review'], 'sentiment': labels })\n",
        "df_adv3['review'] = df_adv3['review'].apply(preprocess_text)\n",
        "adv_df3 = df_adv3[df_adv3['review'].str.split().str.len() < 100]"
      ],
      "metadata": {
        "id": "mw1lO7ruA-Lp"
      },
      "execution_count": 45,
      "outputs": []
    },
    {
      "cell_type": "code",
      "source": [
        "DF_ADV2 = pd.concat([DF_ADV1, adv_df3], ignore_index=True)"
      ],
      "metadata": {
        "id": "vC1gQjBgBNQU"
      },
      "execution_count": 46,
      "outputs": []
    },
    {
      "cell_type": "code",
      "source": [
        "print(DF_ADV2.tail(5))"
      ],
      "metadata": {
        "colab": {
          "base_uri": "https://localhost:8080/"
        },
        "id": "XYCsF8H34aVh",
        "outputId": "41de93ea-2669-47d5-a45b-72b7c5f8e662"
      },
      "execution_count": 47,
      "outputs": [
        {
          "output_type": "stream",
          "name": "stdout",
          "text": [
            "                                                 review  sentiment\n",
            "1822  the special effects were fmpressive and added ...          1\n",
            "1823  i found the move to be emotionally reosnant an...          1\n",
            "1824             the actign was emdiocre and frgettable          0\n",
            "1825  thje pacing of the flim was perect and kept me...          1\n",
            "1826  i pthought the mvoie was a complete wate of tvime          0\n"
          ]
        }
      ]
    },
    {
      "cell_type": "code",
      "source": [
        "# Create DataFrame with adv_texts and labels\n",
        "df_adv4 = pd.read_csv('/content/drive/MyDrive/Adversarial_Examples/IGAWang2019.csv', header=None, names=['review'])\n",
        "df_adv4 = pd.DataFrame({'review': df_adv4['review'], 'sentiment': labels })\n",
        "df_adv4['review'] = df_adv4['review'].apply(preprocess_text)\n",
        "adv_df4 = df_adv4[df_adv4['review'].str.split().str.len() < 100]"
      ],
      "metadata": {
        "id": "x9LOifBbBU3I"
      },
      "execution_count": 48,
      "outputs": []
    },
    {
      "cell_type": "code",
      "source": [
        "DF_ADV3 = pd.concat([DF_ADV2, adv_df4], ignore_index=True)"
      ],
      "metadata": {
        "id": "Ha9V9iC2BfRd"
      },
      "execution_count": 49,
      "outputs": []
    },
    {
      "cell_type": "code",
      "source": [
        "print(DF_ADV3.tail(5))"
      ],
      "metadata": {
        "colab": {
          "base_uri": "https://localhost:8080/"
        },
        "id": "Cn_gwDr04ovW",
        "outputId": "ee5b625a-aa57-4ed2-ed9b-b21ac701ff84"
      },
      "execution_count": 50,
      "outputs": [
        {
          "output_type": "stream",
          "name": "stdout",
          "text": [
            "                                                 review  sentiment\n",
            "2431  the specialised effects were sumptuous and add...          1\n",
            "2432  i revealing the cinemas to be mentally resonan...          1\n",
            "2433     the response was unimaginative and forgettable          0\n",
            "2434  the pacing of the theater was irreproachable a...          1\n",
            "2435  i thought the movie was a complete residue of ...          0\n"
          ]
        }
      ]
    },
    {
      "cell_type": "code",
      "source": [
        "# Create DataFrame with adv_texts and labels\n",
        "df_adv5 = pd.read_csv('/content/drive/MyDrive/Adversarial_Examples/InputReductionFeng2018.csv', header=None, names=['review'])\n",
        "df_adv5 = pd.DataFrame({'review': df_adv5['review'], 'sentiment': labels })\n",
        "df_adv5['review'] = df_adv5['review'].apply(preprocess_text)\n",
        "adv_df5 = df_adv5[df_adv5['review'].str.split().str.len() < 100]"
      ],
      "metadata": {
        "id": "WS2orIjNBi7r"
      },
      "execution_count": 51,
      "outputs": []
    },
    {
      "cell_type": "code",
      "source": [
        "DF_ADV4 = pd.concat([DF_ADV3, adv_df5], ignore_index=True)"
      ],
      "metadata": {
        "id": "jTkVZB0JBtgg"
      },
      "execution_count": 52,
      "outputs": []
    },
    {
      "cell_type": "code",
      "source": [
        "# Create DataFrame with adv_texts and labels\n",
        "df_adv6 = pd.read_csv('/content/drive/MyDrive/Adversarial_Examples/PWWSRen2019.csv', header=None, names=['review'])\n",
        "df_adv6 = pd.DataFrame({'review': df_adv6['review'], 'sentiment': labels })\n",
        "df_adv6['review'] = df_adv6['review'].apply(preprocess_text)\n",
        "adv_df6 = df_adv6[df_adv6['review'].str.split().str.len() < 100]"
      ],
      "metadata": {
        "id": "1S_je1BRBxRI"
      },
      "execution_count": 53,
      "outputs": []
    },
    {
      "cell_type": "code",
      "source": [
        "DF_ADV5 = pd.concat([DF_ADV4, adv_df6], ignore_index=True)"
      ],
      "metadata": {
        "id": "V86p8fKzB6N6"
      },
      "execution_count": 54,
      "outputs": []
    },
    {
      "cell_type": "code",
      "source": [
        "# Create DataFrame with adv_texts and labels\n",
        "df_adv7 = pd.read_csv('/content/drive/MyDrive/Adversarial_Examples/Pruthi2019.csv', header=None, names=['review'])\n",
        "df_adv7 = pd.DataFrame({'review': df_adv7['review'], 'sentiment': labels })\n",
        "df_adv7['review'] = df_adv7['review'].apply(preprocess_text)\n",
        "adv_df7 = df_adv7[df_adv7['review'].str.split().str.len() < 100]"
      ],
      "metadata": {
        "id": "IpZ6ZAprB-ku"
      },
      "execution_count": 55,
      "outputs": []
    },
    {
      "cell_type": "code",
      "source": [
        "DF_ADV6 = pd.concat([DF_ADV5, adv_df7], ignore_index=True)"
      ],
      "metadata": {
        "id": "iRtTLI4kCIwD"
      },
      "execution_count": 56,
      "outputs": []
    },
    {
      "cell_type": "code",
      "source": [
        "print(DF_ADV6.tail(10))"
      ],
      "metadata": {
        "colab": {
          "base_uri": "https://localhost:8080/"
        },
        "id": "youdTaZ75ElX",
        "outputId": "01cf7466-dfcb-4cb6-a206-822273750c52"
      },
      "execution_count": 57,
      "outputs": [
        {
          "output_type": "stream",
          "name": "stdout",
          "text": [
            "                                                 review  sentiment\n",
            "4253  the pacihg was off and made the movie feel dis...          0\n",
            "4254         i was thoroughly entrrtained by this movie          1\n",
            "4255               the dixlogue was stilted and awkward          0\n",
            "4256  the cinematography was breatgtaking and added ...          1\n",
            "4257  the story was capitvating and kept me engaged ...          1\n",
            "4258  the special effects were inpressive and added ...          1\n",
            "4259  i found the move to be emotionally resonant an...          1\n",
            "4260            the actkng was mediocre and forgettable          0\n",
            "4261  the pacing of the film was peefect and kept me...          1\n",
            "4262   i thought the movie was a complete wasye of time          0\n"
          ]
        }
      ]
    },
    {
      "cell_type": "code",
      "source": [
        "# Create DataFrame with adv_texts and labels\n",
        "df_adv8 = pd.read_csv('/content/drive/MyDrive/Adversarial_Examples/TextFoolerJin2019.csv', header=None, names=['review'])\n",
        "df_adv8 = pd.DataFrame({'review': df_adv8['review'], 'sentiment': labels })\n",
        "df_adv8['review'] = df_adv8['review'].apply(preprocess_text)\n",
        "adv_df8 = df_adv8[df_adv8['review'].str.split().str.len() < 100]"
      ],
      "metadata": {
        "id": "xrGeUqnMCMuD"
      },
      "execution_count": 58,
      "outputs": []
    },
    {
      "cell_type": "code",
      "source": [
        "DF_ADV7 = pd.concat([DF_ADV6, adv_df8], ignore_index=True)"
      ],
      "metadata": {
        "id": "TYUo39sGCWe_"
      },
      "execution_count": 59,
      "outputs": []
    },
    {
      "cell_type": "code",
      "source": [
        "DF_ADV7.to_csv('/content/drive/MyDrive/Adversarial_Examples/totalset_adv_examples.csv', index=False)"
      ],
      "metadata": {
        "id": "wZxpueeoCng1"
      },
      "execution_count": 60,
      "outputs": []
    },
    {
      "cell_type": "code",
      "source": [
        "print(DF_ADV7.head(10))"
      ],
      "metadata": {
        "colab": {
          "base_uri": "https://localhost:8080/"
        },
        "id": "GbtFYyThEQJX",
        "outputId": "d53635b3-40d8-40e2-c61c-6630578fede1"
      },
      "execution_count": 61,
      "outputs": [
        {
          "output_type": "stream",
          "name": "stdout",
          "text": [
            "                              review  sentiment\n",
            "0                 this movie was bad          1\n",
            "1               the acting was great          0\n",
            "2               i loved this feeling          1\n",
            "3            it was a moment of time          0\n",
            "4                 the plot was great          0\n",
            "5                this is a bad movie          1\n",
            "6  i please not recommend this movie          0\n",
            "7        the cinematography was used          1\n",
            "8               the script was great          0\n",
            "9               the ending was given          0\n"
          ]
        }
      ]
    },
    {
      "cell_type": "code",
      "source": [
        "import torch\n",
        "# Tokenize train dataset\n",
        "train_encodings = tokenizer(list(DF_ADV7['review']), padding=True, truncation=True, max_length=100)\n",
        "X_train1 = train_encodings['input_ids']\n",
        "y_train1 = np.array(list(DF_ADV7['sentiment']))"
      ],
      "metadata": {
        "id": "bJSa28xkC0nv"
      },
      "execution_count": 62,
      "outputs": []
    },
    {
      "cell_type": "code",
      "source": [
        "# Train the model\n",
        "train_dataset1 = tf.data.Dataset.from_tensor_slices((\n",
        "    {\"input_ids\": X_train1, \"attention_mask\": np.ones_like(X_train1)},\n",
        "    y_train1\n",
        "))\n",
        "train_dataset1 = train_dataset1.shuffle(len(X_train1)).batch(32)"
      ],
      "metadata": {
        "id": "vrgQi7qzC6xm"
      },
      "execution_count": 63,
      "outputs": []
    },
    {
      "cell_type": "code",
      "source": [
        "model.fit(train_dataset1, epochs=3, batch_size=32)"
      ],
      "metadata": {
        "colab": {
          "base_uri": "https://localhost:8080/"
        },
        "id": "SypzKyg9DH8y",
        "outputId": "338f87b9-a47d-4266-b2b5-c8b546fce5ab"
      },
      "execution_count": 64,
      "outputs": [
        {
          "output_type": "stream",
          "name": "stdout",
          "text": [
            "Epoch 1/3\n",
            "153/153 [==============================] - 93s 231ms/step - loss: 0.3678 - accuracy: 0.8319\n",
            "Epoch 2/3\n",
            "153/153 [==============================] - 28s 182ms/step - loss: 0.1532 - accuracy: 0.9407\n",
            "Epoch 3/3\n",
            "153/153 [==============================] - 28s 183ms/step - loss: 0.0702 - accuracy: 0.9770\n"
          ]
        },
        {
          "output_type": "execute_result",
          "data": {
            "text/plain": [
              "<keras.callbacks.History at 0x7fcc3c98d490>"
            ]
          },
          "metadata": {},
          "execution_count": 64
        }
      ]
    },
    {
      "cell_type": "code",
      "source": [
        "model.save_pretrained('/content/drive/MyDrive/Adversarial_Examples/Accuracy-BertModel')"
      ],
      "metadata": {
        "id": "Q-Mzra53DOEc"
      },
      "execution_count": 65,
      "outputs": []
    },
    {
      "cell_type": "code",
      "source": [
        "# Evaluate the model on the validation dataset\n",
        "eval_results = model.evaluate(val_dataset)\n",
        "\n",
        "# Print the accuracy\n",
        "accuracy = eval_results[1]\n",
        "\n",
        "print(f\"Validation accuracy:, {accuracy*100:.4f}%\")"
      ],
      "metadata": {
        "colab": {
          "base_uri": "https://localhost:8080/"
        },
        "id": "3wXxwUGO7rn-",
        "outputId": "094fdc6e-0bc6-4a77-b643-7be21c6ecff9"
      },
      "execution_count": 66,
      "outputs": [
        {
          "output_type": "stream",
          "name": "stdout",
          "text": [
            "20/20 [==============================] - 4s 59ms/step - loss: 0.0157 - accuracy: 0.9951\n",
            "Validation accuracy:, 99.5074%\n"
          ]
        }
      ]
    }
  ]
}